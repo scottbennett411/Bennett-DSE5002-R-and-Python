{
 "cells": [
  {
   "cell_type": "markdown",
   "id": "5b5258fe",
   "metadata": {},
   "source": [
    "# Project 2 -Python\n",
    "### Scott Bennett\n",
    "### 30 Apr 2023"
   ]
  },
  {
   "attachments": {},
   "cell_type": "markdown",
   "id": "7c962d85",
   "metadata": {},
   "source": [
    "## Guidance \n",
    "- You are a data scientist and would like to know where the top 5 places in the world (country or city) where your salary (in USD) will go the farthest with respect to each individual index within the cost_of_living.csv file. Provide a simple statistical analysis in a Jupyter Notebook file and provide visualizations to support your analysis (I am looking for data wrangling more than anything).\n",
    "\n",
    "\n",
    "# Quick Research \n",
    "## [About Cost of Living Indices At This Website](https://www.numbeo.com/cost-of-living/cpi_explained.jsp)\n",
    "These indices are relative to New York City (NYC). Which means that for New York City, each index should be 100(%). If another city has, for example, rent index of 120, it means that on an average in that city rents are 20% more expensive than in New York City. If a city has rent index of 70, that means on average rent in that city is 30% less expensive than in New York City.\n",
    "\n",
    "<b> Cost of Living Index (Excl. Rent) </b> is a relative indicator of consumer goods prices, including groceries, restaurants, transportation and utilities. Cost of Living Index does not include accommodation expenses such as rent or mortgage. If a city has a Cost of Living Index of 120, it means Numbeo has estimated it is 20% more expensive than New York (excluding rent).\n",
    "\n",
    "<b> Rent Index </b> is an estimation of prices of renting apartments in the city compared to New York City. If Rent index is 80, Numbeo has estimated that price of rents in that city is on average 20% less than the price in New York.\n",
    "\n",
    "<b> Groceries Index </b> is an estimation of grocery prices in the city compared to New York City. To calculate this section, Numbeo uses weights of items in the \"Markets\" section for each city.\n",
    "\n",
    "<b> Restaurants Index </b> is a comparison of prices of meals and drinks in restaurants and bars compared to NYC.\n",
    "\n",
    "<b> Cost of Living Plus Rent Index </b> is an estimation of consumer goods prices including rent comparing to New York City.\n",
    "\n",
    "<b>Local Purchasing Power </b> shows relative purchasing power in buying goods and services in a given city for the average net salary in that city. If domestic purchasing power is 40, this means that the inhabitants of that city with an average salary can afford to buy on an average 60% less goods and services than New York City residents with an average salary.\n"
   ]
  },
  {
   "cell_type": "markdown",
   "id": "e8e3e47b",
   "metadata": {},
   "source": [
    "### Import the libraries we've used in this course"
   ]
  },
  {
   "cell_type": "code",
   "execution_count": 81,
   "id": "6a9d5e9e",
   "metadata": {},
   "outputs": [],
   "source": [
    "import pandas as pd\n",
    "import numpy as np\n",
    "import seaborn as sns\n",
    "import matplotlib.pyplot as plt\n",
    "from itertools import chain\n",
    "from forex_python.converter import CurrencyRates\n",
    "c = CurrencyRates()"
   ]
  },
  {
   "cell_type": "markdown",
   "id": "5bc59537",
   "metadata": {},
   "source": [
    "#### Import and read cost_of_living.csv"
   ]
  },
  {
   "cell_type": "code",
   "execution_count": 3,
   "id": "16fa19b0",
   "metadata": {},
   "outputs": [
    {
     "data": {
      "text/html": [
       "<div>\n",
       "<style scoped>\n",
       "    .dataframe tbody tr th:only-of-type {\n",
       "        vertical-align: middle;\n",
       "    }\n",
       "\n",
       "    .dataframe tbody tr th {\n",
       "        vertical-align: top;\n",
       "    }\n",
       "\n",
       "    .dataframe thead th {\n",
       "        text-align: right;\n",
       "    }\n",
       "</style>\n",
       "<table border=\"1\" class=\"dataframe\">\n",
       "  <thead>\n",
       "    <tr style=\"text-align: right;\">\n",
       "      <th></th>\n",
       "      <th>Rank</th>\n",
       "      <th>City</th>\n",
       "      <th>Cost of Living Index</th>\n",
       "      <th>Rent Index</th>\n",
       "      <th>Cost of Living Plus Rent Index</th>\n",
       "      <th>Groceries Index</th>\n",
       "      <th>Restaurant Price Index</th>\n",
       "      <th>Local Purchasing Power Index</th>\n",
       "    </tr>\n",
       "  </thead>\n",
       "  <tbody>\n",
       "    <tr>\n",
       "      <th>0</th>\n",
       "      <td>NaN</td>\n",
       "      <td>Hamilton, Bermuda</td>\n",
       "      <td>149.02</td>\n",
       "      <td>96.10</td>\n",
       "      <td>124.22</td>\n",
       "      <td>157.89</td>\n",
       "      <td>155.22</td>\n",
       "      <td>79.43</td>\n",
       "    </tr>\n",
       "    <tr>\n",
       "      <th>1</th>\n",
       "      <td>NaN</td>\n",
       "      <td>Zurich, Switzerland</td>\n",
       "      <td>131.24</td>\n",
       "      <td>69.26</td>\n",
       "      <td>102.19</td>\n",
       "      <td>136.14</td>\n",
       "      <td>132.52</td>\n",
       "      <td>129.79</td>\n",
       "    </tr>\n",
       "    <tr>\n",
       "      <th>2</th>\n",
       "      <td>NaN</td>\n",
       "      <td>Basel, Switzerland</td>\n",
       "      <td>130.93</td>\n",
       "      <td>49.38</td>\n",
       "      <td>92.70</td>\n",
       "      <td>137.07</td>\n",
       "      <td>130.95</td>\n",
       "      <td>111.53</td>\n",
       "    </tr>\n",
       "    <tr>\n",
       "      <th>3</th>\n",
       "      <td>NaN</td>\n",
       "      <td>Zug, Switzerland</td>\n",
       "      <td>128.13</td>\n",
       "      <td>72.12</td>\n",
       "      <td>101.87</td>\n",
       "      <td>132.61</td>\n",
       "      <td>130.93</td>\n",
       "      <td>143.40</td>\n",
       "    </tr>\n",
       "    <tr>\n",
       "      <th>4</th>\n",
       "      <td>NaN</td>\n",
       "      <td>Lugano, Switzerland</td>\n",
       "      <td>123.99</td>\n",
       "      <td>44.99</td>\n",
       "      <td>86.96</td>\n",
       "      <td>129.17</td>\n",
       "      <td>119.80</td>\n",
       "      <td>111.96</td>\n",
       "    </tr>\n",
       "  </tbody>\n",
       "</table>\n",
       "</div>"
      ],
      "text/plain": [
       "   Rank                 City  Cost of Living Index  Rent Index  \\\n",
       "0   NaN    Hamilton, Bermuda                149.02       96.10   \n",
       "1   NaN  Zurich, Switzerland                131.24       69.26   \n",
       "2   NaN   Basel, Switzerland                130.93       49.38   \n",
       "3   NaN     Zug, Switzerland                128.13       72.12   \n",
       "4   NaN  Lugano, Switzerland                123.99       44.99   \n",
       "\n",
       "   Cost of Living Plus Rent Index  Groceries Index  Restaurant Price Index  \\\n",
       "0                          124.22           157.89                  155.22   \n",
       "1                          102.19           136.14                  132.52   \n",
       "2                           92.70           137.07                  130.95   \n",
       "3                          101.87           132.61                  130.93   \n",
       "4                           86.96           129.17                  119.80   \n",
       "\n",
       "   Local Purchasing Power Index  \n",
       "0                         79.43  \n",
       "1                        129.79  \n",
       "2                        111.53  \n",
       "3                        143.40  \n",
       "4                        111.96  "
      ]
     },
     "execution_count": 3,
     "metadata": {},
     "output_type": "execute_result"
    }
   ],
   "source": [
    "col_df = pd.read_csv('cost_of_living.csv')\n",
    "\n",
    "col_df.head()"
   ]
  },
  {
   "cell_type": "markdown",
   "id": "c68a3e5f",
   "metadata": {},
   "source": [
    "Since the Rank Column has NaNs, I will remove it now."
   ]
  },
  {
   "cell_type": "code",
   "execution_count": 4,
   "id": "9c1b69ca",
   "metadata": {},
   "outputs": [
    {
     "data": {
      "text/html": [
       "<div>\n",
       "<style scoped>\n",
       "    .dataframe tbody tr th:only-of-type {\n",
       "        vertical-align: middle;\n",
       "    }\n",
       "\n",
       "    .dataframe tbody tr th {\n",
       "        vertical-align: top;\n",
       "    }\n",
       "\n",
       "    .dataframe thead th {\n",
       "        text-align: right;\n",
       "    }\n",
       "</style>\n",
       "<table border=\"1\" class=\"dataframe\">\n",
       "  <thead>\n",
       "    <tr style=\"text-align: right;\">\n",
       "      <th></th>\n",
       "      <th>City</th>\n",
       "      <th>Cost of Living Index</th>\n",
       "      <th>Rent Index</th>\n",
       "      <th>Cost of Living Plus Rent Index</th>\n",
       "      <th>Groceries Index</th>\n",
       "      <th>Restaurant Price Index</th>\n",
       "      <th>Local Purchasing Power Index</th>\n",
       "    </tr>\n",
       "  </thead>\n",
       "  <tbody>\n",
       "    <tr>\n",
       "      <th>0</th>\n",
       "      <td>Hamilton, Bermuda</td>\n",
       "      <td>149.02</td>\n",
       "      <td>96.10</td>\n",
       "      <td>124.22</td>\n",
       "      <td>157.89</td>\n",
       "      <td>155.22</td>\n",
       "      <td>79.43</td>\n",
       "    </tr>\n",
       "    <tr>\n",
       "      <th>1</th>\n",
       "      <td>Zurich, Switzerland</td>\n",
       "      <td>131.24</td>\n",
       "      <td>69.26</td>\n",
       "      <td>102.19</td>\n",
       "      <td>136.14</td>\n",
       "      <td>132.52</td>\n",
       "      <td>129.79</td>\n",
       "    </tr>\n",
       "    <tr>\n",
       "      <th>2</th>\n",
       "      <td>Basel, Switzerland</td>\n",
       "      <td>130.93</td>\n",
       "      <td>49.38</td>\n",
       "      <td>92.70</td>\n",
       "      <td>137.07</td>\n",
       "      <td>130.95</td>\n",
       "      <td>111.53</td>\n",
       "    </tr>\n",
       "    <tr>\n",
       "      <th>3</th>\n",
       "      <td>Zug, Switzerland</td>\n",
       "      <td>128.13</td>\n",
       "      <td>72.12</td>\n",
       "      <td>101.87</td>\n",
       "      <td>132.61</td>\n",
       "      <td>130.93</td>\n",
       "      <td>143.40</td>\n",
       "    </tr>\n",
       "    <tr>\n",
       "      <th>4</th>\n",
       "      <td>Lugano, Switzerland</td>\n",
       "      <td>123.99</td>\n",
       "      <td>44.99</td>\n",
       "      <td>86.96</td>\n",
       "      <td>129.17</td>\n",
       "      <td>119.80</td>\n",
       "      <td>111.96</td>\n",
       "    </tr>\n",
       "  </tbody>\n",
       "</table>\n",
       "</div>"
      ],
      "text/plain": [
       "                  City  Cost of Living Index  Rent Index  \\\n",
       "0    Hamilton, Bermuda                149.02       96.10   \n",
       "1  Zurich, Switzerland                131.24       69.26   \n",
       "2   Basel, Switzerland                130.93       49.38   \n",
       "3     Zug, Switzerland                128.13       72.12   \n",
       "4  Lugano, Switzerland                123.99       44.99   \n",
       "\n",
       "   Cost of Living Plus Rent Index  Groceries Index  Restaurant Price Index  \\\n",
       "0                          124.22           157.89                  155.22   \n",
       "1                          102.19           136.14                  132.52   \n",
       "2                           92.70           137.07                  130.95   \n",
       "3                          101.87           132.61                  130.93   \n",
       "4                           86.96           129.17                  119.80   \n",
       "\n",
       "   Local Purchasing Power Index  \n",
       "0                         79.43  \n",
       "1                        129.79  \n",
       "2                        111.53  \n",
       "3                        143.40  \n",
       "4                        111.96  "
      ]
     },
     "execution_count": 4,
     "metadata": {},
     "output_type": "execute_result"
    }
   ],
   "source": [
    "clean_col_df = col_df.copy().drop(columns = ['Rank'])\n",
    "\n",
    "clean_col_df.head()"
   ]
  },
  {
   "cell_type": "markdown",
   "id": "66045911",
   "metadata": {},
   "source": [
    "#### Import and read Levels_Fyi_Salary_Data.csv"
   ]
  },
  {
   "cell_type": "code",
   "execution_count": 5,
   "id": "b8c81891",
   "metadata": {},
   "outputs": [
    {
     "data": {
      "text/html": [
       "<div>\n",
       "<style scoped>\n",
       "    .dataframe tbody tr th:only-of-type {\n",
       "        vertical-align: middle;\n",
       "    }\n",
       "\n",
       "    .dataframe tbody tr th {\n",
       "        vertical-align: top;\n",
       "    }\n",
       "\n",
       "    .dataframe thead th {\n",
       "        text-align: right;\n",
       "    }\n",
       "</style>\n",
       "<table border=\"1\" class=\"dataframe\">\n",
       "  <thead>\n",
       "    <tr style=\"text-align: right;\">\n",
       "      <th></th>\n",
       "      <th>timestamp</th>\n",
       "      <th>company</th>\n",
       "      <th>level</th>\n",
       "      <th>title</th>\n",
       "      <th>totalyearlycompensation</th>\n",
       "      <th>location</th>\n",
       "      <th>yearsofexperience</th>\n",
       "      <th>yearsatcompany</th>\n",
       "      <th>tag</th>\n",
       "      <th>basesalary</th>\n",
       "      <th>...</th>\n",
       "      <th>Doctorate_Degree</th>\n",
       "      <th>Highschool</th>\n",
       "      <th>Some_College</th>\n",
       "      <th>Race_Asian</th>\n",
       "      <th>Race_White</th>\n",
       "      <th>Race_Two_Or_More</th>\n",
       "      <th>Race_Black</th>\n",
       "      <th>Race_Hispanic</th>\n",
       "      <th>Race</th>\n",
       "      <th>Education</th>\n",
       "    </tr>\n",
       "  </thead>\n",
       "  <tbody>\n",
       "    <tr>\n",
       "      <th>0</th>\n",
       "      <td>6/7/2017 11:33:27</td>\n",
       "      <td>Oracle</td>\n",
       "      <td>L3</td>\n",
       "      <td>Product Manager</td>\n",
       "      <td>127000</td>\n",
       "      <td>Redwood City, CA</td>\n",
       "      <td>1.5</td>\n",
       "      <td>1.5</td>\n",
       "      <td>NaN</td>\n",
       "      <td>107000.0</td>\n",
       "      <td>...</td>\n",
       "      <td>0</td>\n",
       "      <td>0</td>\n",
       "      <td>0</td>\n",
       "      <td>0</td>\n",
       "      <td>0</td>\n",
       "      <td>0</td>\n",
       "      <td>0</td>\n",
       "      <td>0</td>\n",
       "      <td>NaN</td>\n",
       "      <td>NaN</td>\n",
       "    </tr>\n",
       "    <tr>\n",
       "      <th>1</th>\n",
       "      <td>6/10/2017 17:11:29</td>\n",
       "      <td>eBay</td>\n",
       "      <td>SE 2</td>\n",
       "      <td>Software Engineer</td>\n",
       "      <td>100000</td>\n",
       "      <td>San Francisco, CA</td>\n",
       "      <td>5.0</td>\n",
       "      <td>3.0</td>\n",
       "      <td>NaN</td>\n",
       "      <td>0.0</td>\n",
       "      <td>...</td>\n",
       "      <td>0</td>\n",
       "      <td>0</td>\n",
       "      <td>0</td>\n",
       "      <td>0</td>\n",
       "      <td>0</td>\n",
       "      <td>0</td>\n",
       "      <td>0</td>\n",
       "      <td>0</td>\n",
       "      <td>NaN</td>\n",
       "      <td>NaN</td>\n",
       "    </tr>\n",
       "    <tr>\n",
       "      <th>2</th>\n",
       "      <td>6/11/2017 14:53:57</td>\n",
       "      <td>Amazon</td>\n",
       "      <td>L7</td>\n",
       "      <td>Product Manager</td>\n",
       "      <td>310000</td>\n",
       "      <td>Seattle, WA</td>\n",
       "      <td>8.0</td>\n",
       "      <td>0.0</td>\n",
       "      <td>NaN</td>\n",
       "      <td>155000.0</td>\n",
       "      <td>...</td>\n",
       "      <td>0</td>\n",
       "      <td>0</td>\n",
       "      <td>0</td>\n",
       "      <td>0</td>\n",
       "      <td>0</td>\n",
       "      <td>0</td>\n",
       "      <td>0</td>\n",
       "      <td>0</td>\n",
       "      <td>NaN</td>\n",
       "      <td>NaN</td>\n",
       "    </tr>\n",
       "    <tr>\n",
       "      <th>3</th>\n",
       "      <td>6/17/2017 0:23:14</td>\n",
       "      <td>Apple</td>\n",
       "      <td>M1</td>\n",
       "      <td>Software Engineering Manager</td>\n",
       "      <td>372000</td>\n",
       "      <td>Sunnyvale, CA</td>\n",
       "      <td>7.0</td>\n",
       "      <td>5.0</td>\n",
       "      <td>NaN</td>\n",
       "      <td>157000.0</td>\n",
       "      <td>...</td>\n",
       "      <td>0</td>\n",
       "      <td>0</td>\n",
       "      <td>0</td>\n",
       "      <td>0</td>\n",
       "      <td>0</td>\n",
       "      <td>0</td>\n",
       "      <td>0</td>\n",
       "      <td>0</td>\n",
       "      <td>NaN</td>\n",
       "      <td>NaN</td>\n",
       "    </tr>\n",
       "    <tr>\n",
       "      <th>4</th>\n",
       "      <td>6/20/2017 10:58:51</td>\n",
       "      <td>Microsoft</td>\n",
       "      <td>60</td>\n",
       "      <td>Software Engineer</td>\n",
       "      <td>157000</td>\n",
       "      <td>Mountain View, CA</td>\n",
       "      <td>5.0</td>\n",
       "      <td>3.0</td>\n",
       "      <td>NaN</td>\n",
       "      <td>0.0</td>\n",
       "      <td>...</td>\n",
       "      <td>0</td>\n",
       "      <td>0</td>\n",
       "      <td>0</td>\n",
       "      <td>0</td>\n",
       "      <td>0</td>\n",
       "      <td>0</td>\n",
       "      <td>0</td>\n",
       "      <td>0</td>\n",
       "      <td>NaN</td>\n",
       "      <td>NaN</td>\n",
       "    </tr>\n",
       "  </tbody>\n",
       "</table>\n",
       "<p>5 rows × 29 columns</p>\n",
       "</div>"
      ],
      "text/plain": [
       "            timestamp    company level                         title  \\\n",
       "0   6/7/2017 11:33:27     Oracle    L3               Product Manager   \n",
       "1  6/10/2017 17:11:29       eBay  SE 2             Software Engineer   \n",
       "2  6/11/2017 14:53:57     Amazon    L7               Product Manager   \n",
       "3   6/17/2017 0:23:14      Apple    M1  Software Engineering Manager   \n",
       "4  6/20/2017 10:58:51  Microsoft    60             Software Engineer   \n",
       "\n",
       "   totalyearlycompensation           location  yearsofexperience  \\\n",
       "0                   127000   Redwood City, CA                1.5   \n",
       "1                   100000  San Francisco, CA                5.0   \n",
       "2                   310000        Seattle, WA                8.0   \n",
       "3                   372000      Sunnyvale, CA                7.0   \n",
       "4                   157000  Mountain View, CA                5.0   \n",
       "\n",
       "   yearsatcompany  tag  basesalary  ...  Doctorate_Degree  Highschool  \\\n",
       "0             1.5  NaN    107000.0  ...                 0           0   \n",
       "1             3.0  NaN         0.0  ...                 0           0   \n",
       "2             0.0  NaN    155000.0  ...                 0           0   \n",
       "3             5.0  NaN    157000.0  ...                 0           0   \n",
       "4             3.0  NaN         0.0  ...                 0           0   \n",
       "\n",
       "  Some_College Race_Asian  Race_White  Race_Two_Or_More  Race_Black  \\\n",
       "0            0          0           0                 0           0   \n",
       "1            0          0           0                 0           0   \n",
       "2            0          0           0                 0           0   \n",
       "3            0          0           0                 0           0   \n",
       "4            0          0           0                 0           0   \n",
       "\n",
       "   Race_Hispanic  Race  Education  \n",
       "0              0   NaN        NaN  \n",
       "1              0   NaN        NaN  \n",
       "2              0   NaN        NaN  \n",
       "3              0   NaN        NaN  \n",
       "4              0   NaN        NaN  \n",
       "\n",
       "[5 rows x 29 columns]"
      ]
     },
     "execution_count": 5,
     "metadata": {},
     "output_type": "execute_result"
    }
   ],
   "source": [
    "levels_salary_df = pd.read_csv('Levels_Fyi_Salary_Data.csv')\n",
    "\n",
    "levels_salary_df.head()"
   ]
  },
  {
   "cell_type": "code",
   "execution_count": 6,
   "id": "da509f84",
   "metadata": {},
   "outputs": [
    {
     "name": "stdout",
     "output_type": "stream",
     "text": [
      "The median yearly salary for data scientists in NYC, NY is $ 170000.0\n"
     ]
    }
   ],
   "source": [
    "ds_nyc_salaries = []\n",
    "\n",
    "ds_nyc_salaries = levels_salary_df.loc[(levels_salary_df['location'].str.contains(\"new york\", case = False)) \n",
    "                                          & (levels_salary_df['title'].str.contains(\"data scien\", case = False))].copy()\n",
    "\n",
    "print(\"The median yearly salary for data scientists in NYC, NY is $\",ds_nyc_salaries['totalyearlycompensation'].median())"
   ]
  },
  {
   "cell_type": "markdown",
   "id": "26b4ce8a",
   "metadata": {},
   "source": [
    "That was to develop a baseline for comparative salaries in data science positions in NYC. I will use that value of \\\\$170,000 going forward.\n",
    "\n",
    "Our baseline for the index ratio is New York City, so I am going to find the ratio differences NY with the locations that rank the best in the different indexes.\n",
    "\n",
    "Additionally, I am going to break down my potential NYC salary a bit further to develop some other comparative values.\n",
    "\n",
    "- [The Average American spends](https://www.nytimes.com/2023/01/25/realestate/rent-burdened-american-households.html) 30\\% of their income on rent, so breaking that down as a percentage of \\\\$170,000 gets us an annual rent budget of \\\\$51,000\n",
    "\n",
    "- [The Average American spends](https://money.usnews.com/money/personal-finance/saving-and-budgeting/articles/how-much-should-i-spend-on-groceries) 10\\% of their income on food with recent studies showing that 33.6\\% of food budget going to eating out, so our annual grocery bill is 6.64\\% and our annual restaurant budget is 3.36\\%.\n",
    "    - Groceries: \\\\$11288\n",
    "    \n",
    "    - Restaurant: \\\\$5712\n"
   ]
  },
  {
   "cell_type": "markdown",
   "id": "d31bde1a",
   "metadata": {},
   "source": [
    "## Global Locations\n",
    "\n",
    "I am now going to analyze each of the indexes across all locations:\n",
    "\n",
    "    1. Cost of Living (Excluding Rent)\n",
    "    2. Rent\n",
    "    3. Cost of Living plus Rent\n",
    "    4. Groceries\n",
    "    5. Restaurant Price\n",
    "    6. Local Purchasing Power\n",
    "   "
   ]
  },
  {
   "cell_type": "code",
   "execution_count": 7,
   "id": "1ba0660e",
   "metadata": {},
   "outputs": [
    {
     "name": "stdout",
     "output_type": "stream",
     "text": [
      "       Cost of Living Index  Rent Index  Cost of Living Plus Rent Index  \\\n",
      "count                578.00      578.00                          578.00   \n",
      "mean                  57.54       26.65                           43.06   \n",
      "std                   21.66       17.84                           18.90   \n",
      "min                   18.55        2.37                           10.97   \n",
      "25%                   38.02       12.26                           26.14   \n",
      "50%                   62.40       23.28                           44.99   \n",
      "75%                   73.03       36.62                           55.72   \n",
      "max                  149.02      108.42                          124.22   \n",
      "\n",
      "       Groceries Index  Restaurant Price Index  Local Purchasing Power Index  \n",
      "count           578.00                  578.00                        578.00  \n",
      "mean             53.57                   54.35                         71.50  \n",
      "std              22.13                   25.86                         34.21  \n",
      "min              15.22                   11.39                          1.62  \n",
      "25%              34.02                   30.45                         42.76  \n",
      "50%              52.74                   59.14                         70.94  \n",
      "75%              68.94                   73.54                         95.68  \n",
      "max             157.89                  155.22                        172.98  \n"
     ]
    }
   ],
   "source": [
    "stats = round(clean_col_df.describe(),2)\n",
    "\n",
    "print(stats)"
   ]
  },
  {
   "cell_type": "markdown",
   "id": "c5d7d999",
   "metadata": {},
   "source": [
    "### Quick Look\n",
    "- It appears that NYC is going to be at the top of all of our different indexes.\n",
    "- Important values to look at going forward, are the medians of all the indexes\n",
    "    - Cost of Living - 62.40\n",
    "    - Rent - 23.28\n",
    "    - Cost of Living Plus Rent - 44.99\n",
    "    - Groceries - 52.74\n",
    "    - Restaurant Price - 59.14\n",
    "    - Local Purchasing Power - 70.94"
   ]
  },
  {
   "cell_type": "markdown",
   "id": "ec929c71",
   "metadata": {},
   "source": [
    "## 1. Cost of Living Index (Excluding Rent)\n",
    "\n",
    "First I will analyze cost of living index, I need to pull just the cost of living index, and then sort the values ascending so I can see the five cheapest cities."
   ]
  },
  {
   "cell_type": "code",
   "execution_count": 136,
   "id": "51d24157",
   "metadata": {
    "scrolled": true
   },
   "outputs": [
    {
     "data": {
      "image/png": "[encoded data removed]",
      "text/plain": [
       "<Figure size 640x480 with 1 Axes>"
      ]
     },
     "metadata": {},
     "output_type": "display_data"
    }
   ],
   "source": [
    "col_hist = sns.histplot(clean_col_df['Cost of Living Index'],\n",
    "                        color = 'red', \n",
    "                        alpha = 0.10, \n",
    "                        bins = [10, 20, 30, 40, 50, 60, 70, 80, 90, 100, 110, 120, 130, 140, 150],\n",
    "                        kde = True)\n",
    "plt.show()"
   ]
  },
  {
   "cell_type": "markdown",
   "id": "bc492f56",
   "metadata": {},
   "source": [
    "- NYC is towards the top of our cost of living index, so the majority of cities in our dataset are less expensive to live in than NYC"
   ]
  },
  {
   "cell_type": "code",
   "execution_count": 86,
   "id": "5b221c90",
   "metadata": {
    "scrolled": true
   },
   "outputs": [
    {
     "data": {
      "text/html": [
       "<div>\n",
       "<style scoped>\n",
       "    .dataframe tbody tr th:only-of-type {\n",
       "        vertical-align: middle;\n",
       "    }\n",
       "\n",
       "    .dataframe tbody tr th {\n",
       "        vertical-align: top;\n",
       "    }\n",
       "\n",
       "    .dataframe thead th {\n",
       "        text-align: right;\n",
       "    }\n",
       "</style>\n",
       "<table border=\"1\" class=\"dataframe\">\n",
       "  <thead>\n",
       "    <tr style=\"text-align: right;\">\n",
       "      <th></th>\n",
       "      <th>City</th>\n",
       "      <th>Cost of Living Index</th>\n",
       "    </tr>\n",
       "  </thead>\n",
       "  <tbody>\n",
       "    <tr>\n",
       "      <th>577</th>\n",
       "      <td>Peshawar, Pakistan</td>\n",
       "      <td>18.55</td>\n",
       "    </tr>\n",
       "    <tr>\n",
       "      <th>576</th>\n",
       "      <td>Multan, Pakistan</td>\n",
       "      <td>18.68</td>\n",
       "    </tr>\n",
       "    <tr>\n",
       "      <th>575</th>\n",
       "      <td>Rawalpindi, Pakistan</td>\n",
       "      <td>20.52</td>\n",
       "    </tr>\n",
       "    <tr>\n",
       "      <th>574</th>\n",
       "      <td>Karachi, Pakistan</td>\n",
       "      <td>20.75</td>\n",
       "    </tr>\n",
       "    <tr>\n",
       "      <th>573</th>\n",
       "      <td>Kanpur, India</td>\n",
       "      <td>20.79</td>\n",
       "    </tr>\n",
       "  </tbody>\n",
       "</table>\n",
       "</div>"
      ],
      "text/plain": [
       "                     City  Cost of Living Index\n",
       "577    Peshawar, Pakistan                 18.55\n",
       "576      Multan, Pakistan                 18.68\n",
       "575  Rawalpindi, Pakistan                 20.52\n",
       "574     Karachi, Pakistan                 20.75\n",
       "573         Kanpur, India                 20.79"
      ]
     },
     "execution_count": 86,
     "metadata": {},
     "output_type": "execute_result"
    }
   ],
   "source": [
    "coli_df = []\n",
    "\n",
    "coli_df = clean_col_df[['City', 'Cost of Living Index']].copy()\n",
    "\n",
    "coli_df = coli_df.sort_values(['Cost of Living Index'], ascending=[True])\n",
    "\n",
    "coli_top5_df = coli_df.copy().head()\n",
    "\n",
    "coli_top5_df"
   ]
  },
  {
   "cell_type": "markdown",
   "id": "2709b5dc",
   "metadata": {},
   "source": [
    "- According to our cost of living index, Peshawar, Pakistan is the location to live with the best cost of living."
   ]
  },
  {
   "cell_type": "markdown",
   "id": "503eb5e2",
   "metadata": {},
   "source": [
    "- Below, I use the median data scientist salary we found earlier to determine how much of our salary is going to be required to maintain our lifestyle minus rent if we live in any of these five locations."
   ]
  },
  {
   "cell_type": "code",
   "execution_count": 87,
   "id": "621cea7f",
   "metadata": {},
   "outputs": [
    {
     "data": {
      "text/html": [
       "<div>\n",
       "<style scoped>\n",
       "    .dataframe tbody tr th:only-of-type {\n",
       "        vertical-align: middle;\n",
       "    }\n",
       "\n",
       "    .dataframe tbody tr th {\n",
       "        vertical-align: top;\n",
       "    }\n",
       "\n",
       "    .dataframe thead th {\n",
       "        text-align: right;\n",
       "    }\n",
       "</style>\n",
       "<table border=\"1\" class=\"dataframe\">\n",
       "  <thead>\n",
       "    <tr style=\"text-align: right;\">\n",
       "      <th></th>\n",
       "      <th>City</th>\n",
       "      <th>Cost of Living Index</th>\n",
       "      <th>Equivalent Salary (USD)</th>\n",
       "    </tr>\n",
       "  </thead>\n",
       "  <tbody>\n",
       "    <tr>\n",
       "      <th>577</th>\n",
       "      <td>Peshawar, Pakistan</td>\n",
       "      <td>18.55</td>\n",
       "      <td>21420.0</td>\n",
       "    </tr>\n",
       "    <tr>\n",
       "      <th>576</th>\n",
       "      <td>Multan, Pakistan</td>\n",
       "      <td>18.68</td>\n",
       "      <td>21420.0</td>\n",
       "    </tr>\n",
       "    <tr>\n",
       "      <th>575</th>\n",
       "      <td>Rawalpindi, Pakistan</td>\n",
       "      <td>20.52</td>\n",
       "      <td>23800.0</td>\n",
       "    </tr>\n",
       "    <tr>\n",
       "      <th>574</th>\n",
       "      <td>Karachi, Pakistan</td>\n",
       "      <td>20.75</td>\n",
       "      <td>23800.0</td>\n",
       "    </tr>\n",
       "    <tr>\n",
       "      <th>573</th>\n",
       "      <td>Kanpur, India</td>\n",
       "      <td>20.79</td>\n",
       "      <td>23800.0</td>\n",
       "    </tr>\n",
       "  </tbody>\n",
       "</table>\n",
       "</div>"
      ],
      "text/plain": [
       "                     City  Cost of Living Index  Equivalent Salary (USD)\n",
       "577    Peshawar, Pakistan                 18.55                  21420.0\n",
       "576      Multan, Pakistan                 18.68                  21420.0\n",
       "575  Rawalpindi, Pakistan                 20.52                  23800.0\n",
       "574     Karachi, Pakistan                 20.75                  23800.0\n",
       "573         Kanpur, India                 20.79                  23800.0"
      ]
     },
     "execution_count": 87,
     "metadata": {},
     "output_type": "execute_result"
    }
   ],
   "source": [
    "coli_top5_df['Equivalent Salary (USD)'] = (coli_top5_df['Cost of Living Index'].astype(int)/100)*(170000-51000)\n",
    "\n",
    "coli_top5_df"
   ]
  },
  {
   "cell_type": "code",
   "execution_count": 83,
   "id": "92decb71",
   "metadata": {},
   "outputs": [],
   "source": [
    "# c.convert('USD', 'PKR', 21420.00)"
   ]
  },
  {
   "cell_type": "markdown",
   "id": "7d695177",
   "metadata": {},
   "source": [
    "- Pakistani Rupees are not available for conversion in the current forex documentation so we will keep the reported number in USD\n",
    "- Four of the five cities with the lowest Cost of Living Index are in Pakistan, and if we choose to live in Peshawar, we can expect to maintain our lifestyle using only \\\\$21,420.00 (USD)"
   ]
  },
  {
   "cell_type": "markdown",
   "id": "840c845f",
   "metadata": {},
   "source": [
    "## 2. Rent Index"
   ]
  },
  {
   "cell_type": "markdown",
   "id": "443c0596",
   "metadata": {},
   "source": [
    "Second, I will pull the five cities with the lowest rent index following the same method as above."
   ]
  },
  {
   "cell_type": "code",
   "execution_count": 134,
   "id": "0b5149cd",
   "metadata": {},
   "outputs": [
    {
     "data": {
      "image/png": "[encoded data removed]",
      "text/plain": [
       "<Figure size 640x480 with 1 Axes>"
      ]
     },
     "metadata": {},
     "output_type": "display_data"
    }
   ],
   "source": [
    "rent_hist = sns.histplot(clean_col_df['Rent Index'], \n",
    "                         color = 'green',                         \n",
    "                         alpha = 0.10, \n",
    "                         bins = [0, 10, 20, 30, 40, 50, 60, 70, 80, 90, 100, 110, 120],\n",
    "                         kde = True)\n",
    "plt.show()"
   ]
  },
  {
   "cell_type": "markdown",
   "id": "5de7deae",
   "metadata": {},
   "source": [
    "- NYC is even closer to the top of the Rent Index, which makes sense since we found that the max rent index was only 108.42."
   ]
  },
  {
   "cell_type": "code",
   "execution_count": 85,
   "id": "62b9954c",
   "metadata": {},
   "outputs": [
    {
     "data": {
      "text/html": [
       "<div>\n",
       "<style scoped>\n",
       "    .dataframe tbody tr th:only-of-type {\n",
       "        vertical-align: middle;\n",
       "    }\n",
       "\n",
       "    .dataframe tbody tr th {\n",
       "        vertical-align: top;\n",
       "    }\n",
       "\n",
       "    .dataframe thead th {\n",
       "        text-align: right;\n",
       "    }\n",
       "</style>\n",
       "<table border=\"1\" class=\"dataframe\">\n",
       "  <thead>\n",
       "    <tr style=\"text-align: right;\">\n",
       "      <th></th>\n",
       "      <th>City</th>\n",
       "      <th>Rent Index</th>\n",
       "    </tr>\n",
       "  </thead>\n",
       "  <tbody>\n",
       "    <tr>\n",
       "      <th>577</th>\n",
       "      <td>Peshawar, Pakistan</td>\n",
       "      <td>2.37</td>\n",
       "    </tr>\n",
       "    <tr>\n",
       "      <th>566</th>\n",
       "      <td>Jammu, India</td>\n",
       "      <td>2.94</td>\n",
       "    </tr>\n",
       "    <tr>\n",
       "      <th>576</th>\n",
       "      <td>Multan, Pakistan</td>\n",
       "      <td>2.94</td>\n",
       "    </tr>\n",
       "    <tr>\n",
       "      <th>565</th>\n",
       "      <td>Agra, India</td>\n",
       "      <td>2.97</td>\n",
       "    </tr>\n",
       "    <tr>\n",
       "      <th>571</th>\n",
       "      <td>Kabul, Afghanistan</td>\n",
       "      <td>3.17</td>\n",
       "    </tr>\n",
       "  </tbody>\n",
       "</table>\n",
       "</div>"
      ],
      "text/plain": [
       "                   City  Rent Index\n",
       "577  Peshawar, Pakistan        2.37\n",
       "566        Jammu, India        2.94\n",
       "576    Multan, Pakistan        2.94\n",
       "565         Agra, India        2.97\n",
       "571  Kabul, Afghanistan        3.17"
      ]
     },
     "execution_count": 85,
     "metadata": {},
     "output_type": "execute_result"
    }
   ],
   "source": [
    "renti_df = []\n",
    "\n",
    "renti_df = clean_col_df[['City', 'Rent Index']].copy()\n",
    "\n",
    "renti_df = renti_df.sort_values(['Rent Index'], ascending=[True])\n",
    "\n",
    "renti_top5_df = renti_df.copy().head()\n",
    "\n",
    "renti_top5_df"
   ]
  },
  {
   "cell_type": "markdown",
   "id": "8d732bca",
   "metadata": {},
   "source": [
    "- Using our average rent of 30% of our data science median income, I used \\\\$51,000 to calculate how much we can expect to spend on rent to maintain our lifestyle"
   ]
  },
  {
   "cell_type": "code",
   "execution_count": 15,
   "id": "e1d33af0",
   "metadata": {},
   "outputs": [
    {
     "data": {
      "text/html": [
       "<div>\n",
       "<style scoped>\n",
       "    .dataframe tbody tr th:only-of-type {\n",
       "        vertical-align: middle;\n",
       "    }\n",
       "\n",
       "    .dataframe tbody tr th {\n",
       "        vertical-align: top;\n",
       "    }\n",
       "\n",
       "    .dataframe thead th {\n",
       "        text-align: right;\n",
       "    }\n",
       "</style>\n",
       "<table border=\"1\" class=\"dataframe\">\n",
       "  <thead>\n",
       "    <tr style=\"text-align: right;\">\n",
       "      <th></th>\n",
       "      <th>City</th>\n",
       "      <th>Rent Index</th>\n",
       "      <th>Equivalent Budget (USD)</th>\n",
       "    </tr>\n",
       "  </thead>\n",
       "  <tbody>\n",
       "    <tr>\n",
       "      <th>577</th>\n",
       "      <td>Peshawar, Pakistan</td>\n",
       "      <td>2.37</td>\n",
       "      <td>1020.0</td>\n",
       "    </tr>\n",
       "    <tr>\n",
       "      <th>566</th>\n",
       "      <td>Jammu, India</td>\n",
       "      <td>2.94</td>\n",
       "      <td>1020.0</td>\n",
       "    </tr>\n",
       "    <tr>\n",
       "      <th>576</th>\n",
       "      <td>Multan, Pakistan</td>\n",
       "      <td>2.94</td>\n",
       "      <td>1020.0</td>\n",
       "    </tr>\n",
       "    <tr>\n",
       "      <th>565</th>\n",
       "      <td>Agra, India</td>\n",
       "      <td>2.97</td>\n",
       "      <td>1020.0</td>\n",
       "    </tr>\n",
       "    <tr>\n",
       "      <th>571</th>\n",
       "      <td>Kabul, Afghanistan</td>\n",
       "      <td>3.17</td>\n",
       "      <td>1530.0</td>\n",
       "    </tr>\n",
       "  </tbody>\n",
       "</table>\n",
       "</div>"
      ],
      "text/plain": [
       "                   City  Rent Index  Equivalent Budget (USD)\n",
       "577  Peshawar, Pakistan        2.37                   1020.0\n",
       "566        Jammu, India        2.94                   1020.0\n",
       "576    Multan, Pakistan        2.94                   1020.0\n",
       "565         Agra, India        2.97                   1020.0\n",
       "571  Kabul, Afghanistan        3.17                   1530.0"
      ]
     },
     "execution_count": 15,
     "metadata": {},
     "output_type": "execute_result"
    }
   ],
   "source": [
    "renti_top5_df['Equivalent Budget (USD)'] = (renti_top5_df['Rent Index'].astype(int)/100)*(51000)\n",
    "\n",
    "renti_top5_df"
   ]
  },
  {
   "cell_type": "markdown",
   "id": "fc1b0c9b",
   "metadata": {},
   "source": [
    "- Peshawar once again was at the bottom of the index, this time for rent, and if we choose to move to Peshawar, we can expect our annual rent to go down to \\\\$1020.00 (USD)"
   ]
  },
  {
   "cell_type": "markdown",
   "id": "edfb04fa",
   "metadata": {},
   "source": [
    "## 3. Cost of Living Plus Rent Index"
   ]
  },
  {
   "cell_type": "markdown",
   "id": "43ced8d3",
   "metadata": {},
   "source": [
    "Third, I will analyze the Cost of Living Plus Rent Index. In my opinion this is the single most comprehensive index of all of them since it takes into account Cost of Living (which encompasses groceries and restaurant prices) and Rent."
   ]
  },
  {
   "cell_type": "code",
   "execution_count": 132,
   "id": "5384dc1a",
   "metadata": {},
   "outputs": [
    {
     "data": {
      "image/png": "[encoded data removed]",
      "text/plain": [
       "<Figure size 640x480 with 1 Axes>"
      ]
     },
     "metadata": {},
     "output_type": "display_data"
    }
   ],
   "source": [
    "clr_hist = sns.histplot(clean_col_df['Cost of Living Plus Rent Index'], \n",
    "                        color = 'blue',                  \n",
    "                        alpha = 0.10, \n",
    "                        bins = [10, 20, 30, 40, 50, 60, 70, 80, 90, 100, 110, 120, 130],\n",
    "                        kde = True)\n",
    "plt.show()"
   ]
  },
  {
   "cell_type": "markdown",
   "id": "4bb135f3",
   "metadata": {},
   "source": [
    "- NYC is once again at the top of this index, so we can expect to save money if we move to a lot of places and keep our salary, but let's see where we can save the most money."
   ]
  },
  {
   "cell_type": "code",
   "execution_count": 84,
   "id": "379b44e7",
   "metadata": {},
   "outputs": [
    {
     "data": {
      "text/html": [
       "<div>\n",
       "<style scoped>\n",
       "    .dataframe tbody tr th:only-of-type {\n",
       "        vertical-align: middle;\n",
       "    }\n",
       "\n",
       "    .dataframe tbody tr th {\n",
       "        vertical-align: top;\n",
       "    }\n",
       "\n",
       "    .dataframe thead th {\n",
       "        text-align: right;\n",
       "    }\n",
       "</style>\n",
       "<table border=\"1\" class=\"dataframe\">\n",
       "  <thead>\n",
       "    <tr style=\"text-align: right;\">\n",
       "      <th></th>\n",
       "      <th>City</th>\n",
       "      <th>Cost of Living Plus Rent Index</th>\n",
       "    </tr>\n",
       "  </thead>\n",
       "  <tbody>\n",
       "    <tr>\n",
       "      <th>577</th>\n",
       "      <td>Peshawar, Pakistan</td>\n",
       "      <td>10.97</td>\n",
       "    </tr>\n",
       "    <tr>\n",
       "      <th>576</th>\n",
       "      <td>Multan, Pakistan</td>\n",
       "      <td>11.30</td>\n",
       "    </tr>\n",
       "    <tr>\n",
       "      <th>573</th>\n",
       "      <td>Kanpur, India</td>\n",
       "      <td>12.73</td>\n",
       "    </tr>\n",
       "    <tr>\n",
       "      <th>571</th>\n",
       "      <td>Kabul, Afghanistan</td>\n",
       "      <td>12.83</td>\n",
       "    </tr>\n",
       "    <tr>\n",
       "      <th>566</th>\n",
       "      <td>Jammu, India</td>\n",
       "      <td>13.08</td>\n",
       "    </tr>\n",
       "  </tbody>\n",
       "</table>\n",
       "</div>"
      ],
      "text/plain": [
       "                   City  Cost of Living Plus Rent Index\n",
       "577  Peshawar, Pakistan                           10.97\n",
       "576    Multan, Pakistan                           11.30\n",
       "573       Kanpur, India                           12.73\n",
       "571  Kabul, Afghanistan                           12.83\n",
       "566        Jammu, India                           13.08"
      ]
     },
     "execution_count": 84,
     "metadata": {},
     "output_type": "execute_result"
    }
   ],
   "source": [
    "colpri_df = []\n",
    "\n",
    "colpri_df = clean_col_df[['City', 'Cost of Living Plus Rent Index']].copy()\n",
    "\n",
    "colpri_df = colpri_df.sort_values(['Cost of Living Plus Rent Index'], ascending=[True])\n",
    "\n",
    "colpri_top5_df = colpri_df.copy().head()\n",
    "\n",
    "colpri_top5_df"
   ]
  },
  {
   "cell_type": "markdown",
   "id": "246c9571",
   "metadata": {},
   "source": [
    "- Once again, Peshawar, Pakistan is the cheapest location by another index. "
   ]
  },
  {
   "cell_type": "markdown",
   "id": "5100f567",
   "metadata": {},
   "source": [
    "- Using the median income from NYC once again, we will find the equivalent salary we would need to maintain our lifestyle."
   ]
  },
  {
   "cell_type": "code",
   "execution_count": 18,
   "id": "e74c42fb",
   "metadata": {},
   "outputs": [
    {
     "data": {
      "text/html": [
       "<div>\n",
       "<style scoped>\n",
       "    .dataframe tbody tr th:only-of-type {\n",
       "        vertical-align: middle;\n",
       "    }\n",
       "\n",
       "    .dataframe tbody tr th {\n",
       "        vertical-align: top;\n",
       "    }\n",
       "\n",
       "    .dataframe thead th {\n",
       "        text-align: right;\n",
       "    }\n",
       "</style>\n",
       "<table border=\"1\" class=\"dataframe\">\n",
       "  <thead>\n",
       "    <tr style=\"text-align: right;\">\n",
       "      <th></th>\n",
       "      <th>City</th>\n",
       "      <th>Cost of Living Plus Rent Index</th>\n",
       "      <th>Equivalent Salary (USD)</th>\n",
       "    </tr>\n",
       "  </thead>\n",
       "  <tbody>\n",
       "    <tr>\n",
       "      <th>577</th>\n",
       "      <td>Peshawar, Pakistan</td>\n",
       "      <td>10.97</td>\n",
       "      <td>17000.0</td>\n",
       "    </tr>\n",
       "    <tr>\n",
       "      <th>576</th>\n",
       "      <td>Multan, Pakistan</td>\n",
       "      <td>11.30</td>\n",
       "      <td>18700.0</td>\n",
       "    </tr>\n",
       "    <tr>\n",
       "      <th>573</th>\n",
       "      <td>Kanpur, India</td>\n",
       "      <td>12.73</td>\n",
       "      <td>20400.0</td>\n",
       "    </tr>\n",
       "    <tr>\n",
       "      <th>571</th>\n",
       "      <td>Kabul, Afghanistan</td>\n",
       "      <td>12.83</td>\n",
       "      <td>20400.0</td>\n",
       "    </tr>\n",
       "    <tr>\n",
       "      <th>566</th>\n",
       "      <td>Jammu, India</td>\n",
       "      <td>13.08</td>\n",
       "      <td>22100.0</td>\n",
       "    </tr>\n",
       "  </tbody>\n",
       "</table>\n",
       "</div>"
      ],
      "text/plain": [
       "                   City  Cost of Living Plus Rent Index  \\\n",
       "577  Peshawar, Pakistan                           10.97   \n",
       "576    Multan, Pakistan                           11.30   \n",
       "573       Kanpur, India                           12.73   \n",
       "571  Kabul, Afghanistan                           12.83   \n",
       "566        Jammu, India                           13.08   \n",
       "\n",
       "     Equivalent Salary (USD)  \n",
       "577                  17000.0  \n",
       "576                  18700.0  \n",
       "573                  20400.0  \n",
       "571                  20400.0  \n",
       "566                  22100.0  "
      ]
     },
     "execution_count": 18,
     "metadata": {},
     "output_type": "execute_result"
    }
   ],
   "source": [
    "colpri_top5_df['Equivalent Salary (USD)'] = (colpri_top5_df['Cost of Living Plus Rent Index'].astype(int)/100)*170000\n",
    "\n",
    "colpri_top5_df"
   ]
  },
  {
   "cell_type": "markdown",
   "id": "beeade51",
   "metadata": {},
   "source": [
    "Living in Peshawar is looking like it is going to be one of our best options for saving money and living cheaper. We will only need to use \\\\$17,000 of our salary to maintain our lifestyle in Peshawar, so we would have \\\\$153,000 (USD) to use how we would like after we've met our basic needs"
   ]
  },
  {
   "cell_type": "markdown",
   "id": "908c15b9",
   "metadata": {},
   "source": [
    "## 4. Groceries Index"
   ]
  },
  {
   "cell_type": "markdown",
   "id": "131f8272",
   "metadata": {},
   "source": [
    "Fourth, I will analyze the Groceries Index and determine where we can live and spend the least on groceries."
   ]
  },
  {
   "cell_type": "code",
   "execution_count": 140,
   "id": "ff641c5e",
   "metadata": {},
   "outputs": [
    {
     "data": {
      "image/png": "[encoded data removed]",
      "text/plain": [
       "<Figure size 640x480 with 1 Axes>"
      ]
     },
     "metadata": {},
     "output_type": "display_data"
    }
   ],
   "source": [
    "groci_hist = sns.histplot(clean_col_df['Groceries Index'], \n",
    "                          color = 'cyan',                  \n",
    "                          alpha = 0.10, \n",
    "                          bins = [10, 20, 30, 40, 50, 60, 70, 80, 90, 100, 110, 120, 130, 140, 150, 160],\n",
    "                          kde = True)\n",
    "plt.show()"
   ]
  },
  {
   "cell_type": "markdown",
   "id": "3761e7cb",
   "metadata": {},
   "source": [
    "- There are a few locations that are much more expensive than NYC for groceries but once again the vast majority of locations will be cheaper."
   ]
  },
  {
   "cell_type": "code",
   "execution_count": 88,
   "id": "7ec529f2",
   "metadata": {},
   "outputs": [
    {
     "data": {
      "text/html": [
       "<div>\n",
       "<style scoped>\n",
       "    .dataframe tbody tr th:only-of-type {\n",
       "        vertical-align: middle;\n",
       "    }\n",
       "\n",
       "    .dataframe tbody tr th {\n",
       "        vertical-align: top;\n",
       "    }\n",
       "\n",
       "    .dataframe thead th {\n",
       "        text-align: right;\n",
       "    }\n",
       "</style>\n",
       "<table border=\"1\" class=\"dataframe\">\n",
       "  <thead>\n",
       "    <tr style=\"text-align: right;\">\n",
       "      <th></th>\n",
       "      <th>City</th>\n",
       "      <th>Groceries Index</th>\n",
       "    </tr>\n",
       "  </thead>\n",
       "  <tbody>\n",
       "    <tr>\n",
       "      <th>571</th>\n",
       "      <td>Kabul, Afghanistan</td>\n",
       "      <td>15.22</td>\n",
       "    </tr>\n",
       "    <tr>\n",
       "      <th>577</th>\n",
       "      <td>Peshawar, Pakistan</td>\n",
       "      <td>16.62</td>\n",
       "    </tr>\n",
       "    <tr>\n",
       "      <th>559</th>\n",
       "      <td>Bucaramanga, Colombia</td>\n",
       "      <td>18.09</td>\n",
       "    </tr>\n",
       "    <tr>\n",
       "      <th>576</th>\n",
       "      <td>Multan, Pakistan</td>\n",
       "      <td>18.37</td>\n",
       "    </tr>\n",
       "    <tr>\n",
       "      <th>570</th>\n",
       "      <td>Islamabad, Pakistan</td>\n",
       "      <td>18.39</td>\n",
       "    </tr>\n",
       "  </tbody>\n",
       "</table>\n",
       "</div>"
      ],
      "text/plain": [
       "                      City  Groceries Index\n",
       "571     Kabul, Afghanistan            15.22\n",
       "577     Peshawar, Pakistan            16.62\n",
       "559  Bucaramanga, Colombia            18.09\n",
       "576       Multan, Pakistan            18.37\n",
       "570    Islamabad, Pakistan            18.39"
      ]
     },
     "execution_count": 88,
     "metadata": {},
     "output_type": "execute_result"
    }
   ],
   "source": [
    "groci_df = []\n",
    "\n",
    "groci_df = clean_col_df[['City', 'Groceries Index']].copy()\n",
    "\n",
    "groci_df = groci_df.sort_values(['Groceries Index'], ascending=[True])\n",
    "\n",
    "groci_top5_df = groci_df.copy().head()\n",
    "\n",
    "groci_top5_df"
   ]
  },
  {
   "cell_type": "markdown",
   "id": "1920dd6b",
   "metadata": {},
   "source": [
    "- This is the first index that Peshawar isn't the lowest on. This time, Kabul, Afghanistan is the cheapest location for groceries. Peshawar comes in second though and still looks good as the best candidate to move to to save money."
   ]
  },
  {
   "cell_type": "code",
   "execution_count": 89,
   "id": "81d64aca",
   "metadata": {},
   "outputs": [
    {
     "data": {
      "text/html": [
       "<div>\n",
       "<style scoped>\n",
       "    .dataframe tbody tr th:only-of-type {\n",
       "        vertical-align: middle;\n",
       "    }\n",
       "\n",
       "    .dataframe tbody tr th {\n",
       "        vertical-align: top;\n",
       "    }\n",
       "\n",
       "    .dataframe thead th {\n",
       "        text-align: right;\n",
       "    }\n",
       "</style>\n",
       "<table border=\"1\" class=\"dataframe\">\n",
       "  <thead>\n",
       "    <tr style=\"text-align: right;\">\n",
       "      <th></th>\n",
       "      <th>City</th>\n",
       "      <th>Groceries Index</th>\n",
       "      <th>Equivalent Budget (USD)</th>\n",
       "    </tr>\n",
       "  </thead>\n",
       "  <tbody>\n",
       "    <tr>\n",
       "      <th>571</th>\n",
       "      <td>Kabul, Afghanistan</td>\n",
       "      <td>15.22</td>\n",
       "      <td>1693.20</td>\n",
       "    </tr>\n",
       "    <tr>\n",
       "      <th>577</th>\n",
       "      <td>Peshawar, Pakistan</td>\n",
       "      <td>16.62</td>\n",
       "      <td>1806.08</td>\n",
       "    </tr>\n",
       "    <tr>\n",
       "      <th>559</th>\n",
       "      <td>Bucaramanga, Colombia</td>\n",
       "      <td>18.09</td>\n",
       "      <td>2031.84</td>\n",
       "    </tr>\n",
       "    <tr>\n",
       "      <th>576</th>\n",
       "      <td>Multan, Pakistan</td>\n",
       "      <td>18.37</td>\n",
       "      <td>2031.84</td>\n",
       "    </tr>\n",
       "    <tr>\n",
       "      <th>570</th>\n",
       "      <td>Islamabad, Pakistan</td>\n",
       "      <td>18.39</td>\n",
       "      <td>2031.84</td>\n",
       "    </tr>\n",
       "  </tbody>\n",
       "</table>\n",
       "</div>"
      ],
      "text/plain": [
       "                      City  Groceries Index  Equivalent Budget (USD)\n",
       "571     Kabul, Afghanistan            15.22                  1693.20\n",
       "577     Peshawar, Pakistan            16.62                  1806.08\n",
       "559  Bucaramanga, Colombia            18.09                  2031.84\n",
       "576       Multan, Pakistan            18.37                  2031.84\n",
       "570    Islamabad, Pakistan            18.39                  2031.84"
      ]
     },
     "execution_count": 89,
     "metadata": {},
     "output_type": "execute_result"
    }
   ],
   "source": [
    "groci_top5_df['Equivalent Budget (USD)'] = (groci_top5_df['Groceries Index'].astype(int)/100)*11288\n",
    "\n",
    "groci_top5_df"
   ]
  },
  {
   "cell_type": "markdown",
   "id": "6b1581cb",
   "metadata": {},
   "source": [
    "- In Kabul, we can expect our annual grocery budget to be \\\\$1693.20 (USD). Once again, forex doesn't have Afghanistan Afghanis loaded so we will keep using (USD)."
   ]
  },
  {
   "cell_type": "markdown",
   "id": "eea3b9f7",
   "metadata": {},
   "source": [
    "## 5. Restaurant Price Index"
   ]
  },
  {
   "cell_type": "markdown",
   "id": "3145d7d5",
   "metadata": {},
   "source": [
    "Fifth, I will analyze the Restaurant Price Index and determine where we can live and spend the least on eating out."
   ]
  },
  {
   "cell_type": "code",
   "execution_count": 143,
   "id": "b6a40a71",
   "metadata": {
    "scrolled": true
   },
   "outputs": [
    {
     "data": {
      "image/png": "[encoded data removed]",
      "text/plain": [
       "<Figure size 640x480 with 1 Axes>"
      ]
     },
     "metadata": {},
     "output_type": "display_data"
    }
   ],
   "source": [
    "rest_hist = sns.histplot(clean_col_df['Restaurant Price Index'], \n",
    "                         color = 'teal',                   \n",
    "                         alpha = 0.10, \n",
    "                         bins = [10, 20, 30, 40, 50, 60, 70, 80, 90, 100, 110, 120, 130, 140, 150, 160],\n",
    "                         kde = True)\n",
    "plt.show()"
   ]
  },
  {
   "cell_type": "markdown",
   "id": "c8a51a4c",
   "metadata": {},
   "source": [
    "- NYC is once again one of the most expensive locations to eat out"
   ]
  },
  {
   "cell_type": "code",
   "execution_count": 90,
   "id": "3ed549f7",
   "metadata": {},
   "outputs": [
    {
     "data": {
      "text/html": [
       "<div>\n",
       "<style scoped>\n",
       "    .dataframe tbody tr th:only-of-type {\n",
       "        vertical-align: middle;\n",
       "    }\n",
       "\n",
       "    .dataframe tbody tr th {\n",
       "        vertical-align: top;\n",
       "    }\n",
       "\n",
       "    .dataframe thead th {\n",
       "        text-align: right;\n",
       "    }\n",
       "</style>\n",
       "<table border=\"1\" class=\"dataframe\">\n",
       "  <thead>\n",
       "    <tr style=\"text-align: right;\">\n",
       "      <th></th>\n",
       "      <th>City</th>\n",
       "      <th>Restaurant Price Index</th>\n",
       "    </tr>\n",
       "  </thead>\n",
       "  <tbody>\n",
       "    <tr>\n",
       "      <th>572</th>\n",
       "      <td>Thrissur, India</td>\n",
       "      <td>11.39</td>\n",
       "    </tr>\n",
       "    <tr>\n",
       "      <th>576</th>\n",
       "      <td>Multan, Pakistan</td>\n",
       "      <td>11.80</td>\n",
       "    </tr>\n",
       "    <tr>\n",
       "      <th>568</th>\n",
       "      <td>Kozhikode (Calicut), India</td>\n",
       "      <td>12.07</td>\n",
       "    </tr>\n",
       "    <tr>\n",
       "      <th>542</th>\n",
       "      <td>Madurai, India</td>\n",
       "      <td>12.30</td>\n",
       "    </tr>\n",
       "    <tr>\n",
       "      <th>573</th>\n",
       "      <td>Kanpur, India</td>\n",
       "      <td>13.31</td>\n",
       "    </tr>\n",
       "  </tbody>\n",
       "</table>\n",
       "</div>"
      ],
      "text/plain": [
       "                           City  Restaurant Price Index\n",
       "572             Thrissur, India                   11.39\n",
       "576            Multan, Pakistan                   11.80\n",
       "568  Kozhikode (Calicut), India                   12.07\n",
       "542              Madurai, India                   12.30\n",
       "573               Kanpur, India                   13.31"
      ]
     },
     "execution_count": 90,
     "metadata": {},
     "output_type": "execute_result"
    }
   ],
   "source": [
    "resti_df = []\n",
    "\n",
    "resti_df = clean_col_df[['City', 'Restaurant Price Index']].copy()\n",
    "\n",
    "resti_df = resti_df.sort_values(['Restaurant Price Index'], ascending=[True])\n",
    "\n",
    "resti_top5_df = resti_df.copy().head()\n",
    "\n",
    "resti_top5_df"
   ]
  },
  {
   "cell_type": "markdown",
   "id": "368934a3",
   "metadata": {},
   "source": [
    "- This is the first time that Peshawar isn't even on the top five. Instead, the top city for saving money while eating out is Thrissur, India."
   ]
  },
  {
   "cell_type": "code",
   "execution_count": 23,
   "id": "613be53e",
   "metadata": {},
   "outputs": [
    {
     "data": {
      "text/html": [
       "<div>\n",
       "<style scoped>\n",
       "    .dataframe tbody tr th:only-of-type {\n",
       "        vertical-align: middle;\n",
       "    }\n",
       "\n",
       "    .dataframe tbody tr th {\n",
       "        vertical-align: top;\n",
       "    }\n",
       "\n",
       "    .dataframe thead th {\n",
       "        text-align: right;\n",
       "    }\n",
       "</style>\n",
       "<table border=\"1\" class=\"dataframe\">\n",
       "  <thead>\n",
       "    <tr style=\"text-align: right;\">\n",
       "      <th></th>\n",
       "      <th>City</th>\n",
       "      <th>Restaurant Price Index</th>\n",
       "      <th>Equivalent Budget (USD)</th>\n",
       "    </tr>\n",
       "  </thead>\n",
       "  <tbody>\n",
       "    <tr>\n",
       "      <th>572</th>\n",
       "      <td>Thrissur, India</td>\n",
       "      <td>11.39</td>\n",
       "      <td>628.32</td>\n",
       "    </tr>\n",
       "    <tr>\n",
       "      <th>576</th>\n",
       "      <td>Multan, Pakistan</td>\n",
       "      <td>11.80</td>\n",
       "      <td>628.32</td>\n",
       "    </tr>\n",
       "    <tr>\n",
       "      <th>568</th>\n",
       "      <td>Kozhikode (Calicut), India</td>\n",
       "      <td>12.07</td>\n",
       "      <td>685.44</td>\n",
       "    </tr>\n",
       "    <tr>\n",
       "      <th>542</th>\n",
       "      <td>Madurai, India</td>\n",
       "      <td>12.30</td>\n",
       "      <td>685.44</td>\n",
       "    </tr>\n",
       "    <tr>\n",
       "      <th>573</th>\n",
       "      <td>Kanpur, India</td>\n",
       "      <td>13.31</td>\n",
       "      <td>742.56</td>\n",
       "    </tr>\n",
       "  </tbody>\n",
       "</table>\n",
       "</div>"
      ],
      "text/plain": [
       "                           City  Restaurant Price Index  \\\n",
       "572             Thrissur, India                   11.39   \n",
       "576            Multan, Pakistan                   11.80   \n",
       "568  Kozhikode (Calicut), India                   12.07   \n",
       "542              Madurai, India                   12.30   \n",
       "573               Kanpur, India                   13.31   \n",
       "\n",
       "     Equivalent Budget (USD)  \n",
       "572                   628.32  \n",
       "576                   628.32  \n",
       "568                   685.44  \n",
       "542                   685.44  \n",
       "573                   742.56  "
      ]
     },
     "execution_count": 23,
     "metadata": {},
     "output_type": "execute_result"
    }
   ],
   "source": [
    "resti_top5_df['Equivalent Budget (USD)'] = (resti_top5_df['Restaurant Price Index'].astype(int)/100)*5712\n",
    "\n",
    "resti_top5_df"
   ]
  },
  {
   "cell_type": "code",
   "execution_count": 93,
   "id": "e7f400ed",
   "metadata": {},
   "outputs": [
    {
     "name": "stdout",
     "output_type": "stream",
     "text": [
      "13918584.52\n",
      "51443.09\n"
     ]
    }
   ],
   "source": [
    "print(round(c.convert('USD','INR', 170000),2))\n",
    "\n",
    "print(round(c.convert('USD','INR', 628.32),2))"
   ]
  },
  {
   "cell_type": "markdown",
   "id": "43459a77",
   "metadata": {},
   "source": [
    "- If our company chooses to pay us in Indian Rupees while we lived in Thrissur our annual salary would be ₹13,918,584.52\n",
    "\n",
    "- In Thrissur, we can budget annually 51,443.09 (INR) or \\\\$628.32 (USD) for dining out"
   ]
  },
  {
   "cell_type": "markdown",
   "id": "0a5c4dc0",
   "metadata": {},
   "source": [
    "## 6. Local Purchasing Power Index"
   ]
  },
  {
   "cell_type": "markdown",
   "id": "f6d2ddaa",
   "metadata": {},
   "source": [
    "Finally, I took a look at Local Purchasing Power Index. This is different from all the other indexes because unlike the others, a lower value means that it is more expensive for goods and services relative to NYC"
   ]
  },
  {
   "cell_type": "code",
   "execution_count": 145,
   "id": "e43a155c",
   "metadata": {},
   "outputs": [
    {
     "data": {
      "image/png": "[encoded data removed]",
      "text/plain": [
       "<Figure size 640x480 with 1 Axes>"
      ]
     },
     "metadata": {},
     "output_type": "display_data"
    }
   ],
   "source": [
    "lppi_hist = sns.histplot(clean_col_df['Local Purchasing Power Index'],\n",
    "                         color = 'magenta',\n",
    "                         alpha = 0.10, \n",
    "                         bins = [0, 25, 50, 75, 100, 125, 150, 175],\n",
    "                         kde = True)\n",
    "plt.show()"
   ]
  },
  {
   "cell_type": "markdown",
   "id": "d9abf021",
   "metadata": {},
   "source": [
    "- This index is also the only one where NYC is at the top of the values.\n",
    "- This index is looking at how much a person can purchase on an average salary, and so we might expect some differences from our earlier indexes"
   ]
  },
  {
   "cell_type": "markdown",
   "id": "db76e5ae",
   "metadata": {},
   "source": [
    "- Since higher is better for this index, we will order the values descending this time."
   ]
  },
  {
   "cell_type": "code",
   "execution_count": 94,
   "id": "757191bd",
   "metadata": {},
   "outputs": [
    {
     "data": {
      "text/html": [
       "<div>\n",
       "<style scoped>\n",
       "    .dataframe tbody tr th:only-of-type {\n",
       "        vertical-align: middle;\n",
       "    }\n",
       "\n",
       "    .dataframe tbody tr th {\n",
       "        vertical-align: top;\n",
       "    }\n",
       "\n",
       "    .dataframe thead th {\n",
       "        text-align: right;\n",
       "    }\n",
       "</style>\n",
       "<table border=\"1\" class=\"dataframe\">\n",
       "  <thead>\n",
       "    <tr style=\"text-align: right;\">\n",
       "      <th></th>\n",
       "      <th>City</th>\n",
       "      <th>Local Purchasing Power Index</th>\n",
       "    </tr>\n",
       "  </thead>\n",
       "  <tbody>\n",
       "    <tr>\n",
       "      <th>276</th>\n",
       "      <td>Houston, TX, United States</td>\n",
       "      <td>172.98</td>\n",
       "    </tr>\n",
       "    <tr>\n",
       "      <th>233</th>\n",
       "      <td>Dallas, TX, United States</td>\n",
       "      <td>170.66</td>\n",
       "    </tr>\n",
       "    <tr>\n",
       "      <th>190</th>\n",
       "      <td>Ann Arbor, MI, United States</td>\n",
       "      <td>159.99</td>\n",
       "    </tr>\n",
       "    <tr>\n",
       "      <th>250</th>\n",
       "      <td>Austin, TX, United States</td>\n",
       "      <td>158.21</td>\n",
       "    </tr>\n",
       "    <tr>\n",
       "      <th>130</th>\n",
       "      <td>San Jose, CA, United States</td>\n",
       "      <td>157.39</td>\n",
       "    </tr>\n",
       "  </tbody>\n",
       "</table>\n",
       "</div>"
      ],
      "text/plain": [
       "                             City  Local Purchasing Power Index\n",
       "276    Houston, TX, United States                        172.98\n",
       "233     Dallas, TX, United States                        170.66\n",
       "190  Ann Arbor, MI, United States                        159.99\n",
       "250     Austin, TX, United States                        158.21\n",
       "130   San Jose, CA, United States                        157.39"
      ]
     },
     "execution_count": 94,
     "metadata": {},
     "output_type": "execute_result"
    }
   ],
   "source": [
    "lppi_df = []\n",
    "\n",
    "lppi_df = clean_col_df[['City', 'Local Purchasing Power Index']].copy()\n",
    "\n",
    "lppi_df = lppi_df.sort_values(['Local Purchasing Power Index'], ascending=[False])\n",
    "\n",
    "lppi_top5_df = lppi_df.copy().head()\n",
    "lppi_top5_df"
   ]
  },
  {
   "cell_type": "markdown",
   "id": "38f78f37",
   "metadata": {},
   "source": [
    "- For this index, our best city is Houston. In Houston a person can afford to buy on average 72.98% more than a person in NYC given the average net salary in NYC. This means that for goods and services our dollar will go further in Houston than any other city."
   ]
  },
  {
   "cell_type": "markdown",
   "id": "c01cdeb9",
   "metadata": {},
   "source": [
    "- Given how much we are saving by moving to Peshawar in all the other aspects of life, let's see how much more we can expect to spend on goods and services and make sure the move is still worth it"
   ]
  },
  {
   "cell_type": "code",
   "execution_count": 103,
   "id": "b6c5050f",
   "metadata": {
    "scrolled": true
   },
   "outputs": [
    {
     "data": {
      "text/html": [
       "<div>\n",
       "<style scoped>\n",
       "    .dataframe tbody tr th:only-of-type {\n",
       "        vertical-align: middle;\n",
       "    }\n",
       "\n",
       "    .dataframe tbody tr th {\n",
       "        vertical-align: top;\n",
       "    }\n",
       "\n",
       "    .dataframe thead th {\n",
       "        text-align: right;\n",
       "    }\n",
       "</style>\n",
       "<table border=\"1\" class=\"dataframe\">\n",
       "  <thead>\n",
       "    <tr style=\"text-align: right;\">\n",
       "      <th></th>\n",
       "      <th>City</th>\n",
       "      <th>Cost of Living Index</th>\n",
       "      <th>Rent Index</th>\n",
       "      <th>Cost of Living Plus Rent Index</th>\n",
       "      <th>Groceries Index</th>\n",
       "      <th>Restaurant Price Index</th>\n",
       "      <th>Local Purchasing Power Index</th>\n",
       "    </tr>\n",
       "  </thead>\n",
       "  <tbody>\n",
       "    <tr>\n",
       "      <th>577</th>\n",
       "      <td>Peshawar, Pakistan</td>\n",
       "      <td>18.55</td>\n",
       "      <td>2.37</td>\n",
       "      <td>10.97</td>\n",
       "      <td>16.62</td>\n",
       "      <td>14.39</td>\n",
       "      <td>26.0</td>\n",
       "    </tr>\n",
       "  </tbody>\n",
       "</table>\n",
       "</div>"
      ],
      "text/plain": [
       "                   City  Cost of Living Index  Rent Index  \\\n",
       "577  Peshawar, Pakistan                 18.55        2.37   \n",
       "\n",
       "     Cost of Living Plus Rent Index  Groceries Index  Restaurant Price Index  \\\n",
       "577                           10.97            16.62                   14.39   \n",
       "\n",
       "     Local Purchasing Power Index  \n",
       "577                          26.0  "
      ]
     },
     "execution_count": 103,
     "metadata": {},
     "output_type": "execute_result"
    }
   ],
   "source": [
    "pesh_col = clean_col_df.loc[(col_df['City'].str.contains(\"peshawar\", case = False))].copy()\n",
    "\n",
    "pesh_col"
   ]
  },
  {
   "cell_type": "markdown",
   "id": "2c3dfa88",
   "metadata": {},
   "source": [
    "- Our local purchasing power index in Peshawar Pakistan is 26.0. So while we are saving a lot of money and necessities, goods and services will cost us on average 74% more living in Peshawar"
   ]
  },
  {
   "cell_type": "markdown",
   "id": "9df0745d",
   "metadata": {},
   "source": [
    "## Results:\n",
    "\n",
    "If our main goal is saving as much of our salary as possible, living in Peshawar remains our best option. We will be able to maintain our lifestyle for a low cost and be able to either save or spend on luxury goods a majority of our salary.\n",
    "\n",
    "I don't think I'm quite ready to leave the US though, so I wanted to analyze the best locations in the US to live in to make the most of my salary."
   ]
  },
  {
   "cell_type": "markdown",
   "id": "c120013d",
   "metadata": {},
   "source": [
    "## US Locations\n",
    "\n",
    "I am now going to analzye each of the indexes across US locations:\n",
    "\n",
    "    1. Cost of Living\n",
    "    2. Rent\n",
    "    3. Cost of Living plus Rent\n",
    "    4. Groceries\n",
    "    5. Restaurant Price\n",
    "    6. Local Purchasing Power\n",
    "   "
   ]
  },
  {
   "cell_type": "markdown",
   "id": "25fa83c3",
   "metadata": {},
   "source": [
    "I created a new data frame containing only cities from the US"
   ]
  },
  {
   "cell_type": "code",
   "execution_count": 104,
   "id": "02d2f7ea",
   "metadata": {},
   "outputs": [
    {
     "data": {
      "text/html": [
       "<div>\n",
       "<style scoped>\n",
       "    .dataframe tbody tr th:only-of-type {\n",
       "        vertical-align: middle;\n",
       "    }\n",
       "\n",
       "    .dataframe tbody tr th {\n",
       "        vertical-align: top;\n",
       "    }\n",
       "\n",
       "    .dataframe thead th {\n",
       "        text-align: right;\n",
       "    }\n",
       "</style>\n",
       "<table border=\"1\" class=\"dataframe\">\n",
       "  <thead>\n",
       "    <tr style=\"text-align: right;\">\n",
       "      <th></th>\n",
       "      <th>City</th>\n",
       "      <th>Cost of Living Index</th>\n",
       "      <th>Rent Index</th>\n",
       "      <th>Cost of Living Plus Rent Index</th>\n",
       "      <th>Groceries Index</th>\n",
       "      <th>Restaurant Price Index</th>\n",
       "      <th>Local Purchasing Power Index</th>\n",
       "    </tr>\n",
       "  </thead>\n",
       "  <tbody>\n",
       "    <tr>\n",
       "      <th>10</th>\n",
       "      <td>Honolulu, HI, United States</td>\n",
       "      <td>103.65</td>\n",
       "      <td>65.07</td>\n",
       "      <td>85.56</td>\n",
       "      <td>114.92</td>\n",
       "      <td>94.28</td>\n",
       "      <td>89.24</td>\n",
       "    </tr>\n",
       "    <tr>\n",
       "      <th>13</th>\n",
       "      <td>New York, NY, United States</td>\n",
       "      <td>100.00</td>\n",
       "      <td>100.00</td>\n",
       "      <td>100.00</td>\n",
       "      <td>100.00</td>\n",
       "      <td>100.00</td>\n",
       "      <td>100.00</td>\n",
       "    </tr>\n",
       "    <tr>\n",
       "      <th>18</th>\n",
       "      <td>Santa Barbara, CA, United States</td>\n",
       "      <td>95.01</td>\n",
       "      <td>78.42</td>\n",
       "      <td>87.23</td>\n",
       "      <td>99.53</td>\n",
       "      <td>99.41</td>\n",
       "      <td>93.86</td>\n",
       "    </tr>\n",
       "    <tr>\n",
       "      <th>20</th>\n",
       "      <td>Berkeley, CA, United States</td>\n",
       "      <td>94.36</td>\n",
       "      <td>88.22</td>\n",
       "      <td>91.48</td>\n",
       "      <td>106.23</td>\n",
       "      <td>78.85</td>\n",
       "      <td>85.78</td>\n",
       "    </tr>\n",
       "    <tr>\n",
       "      <th>21</th>\n",
       "      <td>San Francisco, CA, United States</td>\n",
       "      <td>93.91</td>\n",
       "      <td>108.42</td>\n",
       "      <td>100.72</td>\n",
       "      <td>97.05</td>\n",
       "      <td>93.40</td>\n",
       "      <td>133.16</td>\n",
       "    </tr>\n",
       "    <tr>\n",
       "      <th>...</th>\n",
       "      <td>...</td>\n",
       "      <td>...</td>\n",
       "      <td>...</td>\n",
       "      <td>...</td>\n",
       "      <td>...</td>\n",
       "      <td>...</td>\n",
       "      <td>...</td>\n",
       "    </tr>\n",
       "    <tr>\n",
       "      <th>291</th>\n",
       "      <td>Memphis, TN, United States</td>\n",
       "      <td>62.29</td>\n",
       "      <td>34.91</td>\n",
       "      <td>49.45</td>\n",
       "      <td>58.08</td>\n",
       "      <td>69.54</td>\n",
       "      <td>109.95</td>\n",
       "    </tr>\n",
       "    <tr>\n",
       "      <th>293</th>\n",
       "      <td>Akron, OH, United States</td>\n",
       "      <td>62.20</td>\n",
       "      <td>22.90</td>\n",
       "      <td>43.78</td>\n",
       "      <td>63.55</td>\n",
       "      <td>55.56</td>\n",
       "      <td>102.89</td>\n",
       "    </tr>\n",
       "    <tr>\n",
       "      <th>299</th>\n",
       "      <td>Little Rock, AR, United States</td>\n",
       "      <td>59.26</td>\n",
       "      <td>25.60</td>\n",
       "      <td>43.48</td>\n",
       "      <td>57.28</td>\n",
       "      <td>64.63</td>\n",
       "      <td>131.07</td>\n",
       "    </tr>\n",
       "    <tr>\n",
       "      <th>304</th>\n",
       "      <td>Wichita, KS, United States</td>\n",
       "      <td>58.92</td>\n",
       "      <td>24.26</td>\n",
       "      <td>42.67</td>\n",
       "      <td>53.08</td>\n",
       "      <td>57.42</td>\n",
       "      <td>119.24</td>\n",
       "    </tr>\n",
       "    <tr>\n",
       "      <th>314</th>\n",
       "      <td>El Paso, TX, United States</td>\n",
       "      <td>55.92</td>\n",
       "      <td>23.17</td>\n",
       "      <td>40.56</td>\n",
       "      <td>54.45</td>\n",
       "      <td>48.18</td>\n",
       "      <td>118.77</td>\n",
       "    </tr>\n",
       "  </tbody>\n",
       "</table>\n",
       "<p>95 rows × 7 columns</p>\n",
       "</div>"
      ],
      "text/plain": [
       "                                 City  Cost of Living Index  Rent Index  \\\n",
       "10        Honolulu, HI, United States                103.65       65.07   \n",
       "13        New York, NY, United States                100.00      100.00   \n",
       "18   Santa Barbara, CA, United States                 95.01       78.42   \n",
       "20        Berkeley, CA, United States                 94.36       88.22   \n",
       "21   San Francisco, CA, United States                 93.91      108.42   \n",
       "..                                ...                   ...         ...   \n",
       "291        Memphis, TN, United States                 62.29       34.91   \n",
       "293          Akron, OH, United States                 62.20       22.90   \n",
       "299    Little Rock, AR, United States                 59.26       25.60   \n",
       "304        Wichita, KS, United States                 58.92       24.26   \n",
       "314        El Paso, TX, United States                 55.92       23.17   \n",
       "\n",
       "     Cost of Living Plus Rent Index  Groceries Index  Restaurant Price Index  \\\n",
       "10                            85.56           114.92                   94.28   \n",
       "13                           100.00           100.00                  100.00   \n",
       "18                            87.23            99.53                   99.41   \n",
       "20                            91.48           106.23                   78.85   \n",
       "21                           100.72            97.05                   93.40   \n",
       "..                              ...              ...                     ...   \n",
       "291                           49.45            58.08                   69.54   \n",
       "293                           43.78            63.55                   55.56   \n",
       "299                           43.48            57.28                   64.63   \n",
       "304                           42.67            53.08                   57.42   \n",
       "314                           40.56            54.45                   48.18   \n",
       "\n",
       "     Local Purchasing Power Index  \n",
       "10                          89.24  \n",
       "13                         100.00  \n",
       "18                          93.86  \n",
       "20                          85.78  \n",
       "21                         133.16  \n",
       "..                            ...  \n",
       "291                        109.95  \n",
       "293                        102.89  \n",
       "299                        131.07  \n",
       "304                        119.24  \n",
       "314                        118.77  \n",
       "\n",
       "[95 rows x 7 columns]"
      ]
     },
     "execution_count": 104,
     "metadata": {},
     "output_type": "execute_result"
    }
   ],
   "source": [
    "us_col_df = []\n",
    "\n",
    "us_col_df = clean_col_df.loc[(col_df['City'].str.contains(\"United States\", case = False))].copy()\n",
    "\n",
    "us_col_df"
   ]
  },
  {
   "cell_type": "markdown",
   "id": "d749cdb5",
   "metadata": {},
   "source": [
    "## 1. Cost of Living (Excluding Rent)"
   ]
  },
  {
   "cell_type": "markdown",
   "id": "d9af706f",
   "metadata": {},
   "source": [
    "- I then ran the same analysis of Cost of Living (Excluding Rent)"
   ]
  },
  {
   "cell_type": "code",
   "execution_count": 138,
   "id": "66eafb8f",
   "metadata": {},
   "outputs": [
    {
     "data": {
      "image/png": "[encoded data removed]",
      "text/plain": [
       "<Figure size 640x480 with 1 Axes>"
      ]
     },
     "metadata": {},
     "output_type": "display_data"
    }
   ],
   "source": [
    "us_col_hist = sns.histplot(us_col_df['Cost of Living Index'], \n",
    "                           color = 'red',\n",
    "                           alpha = 0.10, \n",
    "                           bins = [50, 60, 70, 80, 90, 100, 110],\n",
    "                           kde = True)\n",
    "plt.show()"
   ]
  },
  {
   "cell_type": "markdown",
   "id": "f2d68df7",
   "metadata": {},
   "source": [
    "- We can see that even compared to just US cities, New York is towards the top of the cost of living index. By moving to a different city we should be able to save money."
   ]
  },
  {
   "cell_type": "code",
   "execution_count": 108,
   "id": "3db75e34",
   "metadata": {
    "scrolled": true
   },
   "outputs": [
    {
     "data": {
      "text/html": [
       "<div>\n",
       "<style scoped>\n",
       "    .dataframe tbody tr th:only-of-type {\n",
       "        vertical-align: middle;\n",
       "    }\n",
       "\n",
       "    .dataframe tbody tr th {\n",
       "        vertical-align: top;\n",
       "    }\n",
       "\n",
       "    .dataframe thead th {\n",
       "        text-align: right;\n",
       "    }\n",
       "</style>\n",
       "<table border=\"1\" class=\"dataframe\">\n",
       "  <thead>\n",
       "    <tr style=\"text-align: right;\">\n",
       "      <th></th>\n",
       "      <th>City</th>\n",
       "      <th>Cost of Living Index</th>\n",
       "    </tr>\n",
       "  </thead>\n",
       "  <tbody>\n",
       "    <tr>\n",
       "      <th>314</th>\n",
       "      <td>El Paso, TX, United States</td>\n",
       "      <td>55.92</td>\n",
       "    </tr>\n",
       "    <tr>\n",
       "      <th>304</th>\n",
       "      <td>Wichita, KS, United States</td>\n",
       "      <td>58.92</td>\n",
       "    </tr>\n",
       "    <tr>\n",
       "      <th>299</th>\n",
       "      <td>Little Rock, AR, United States</td>\n",
       "      <td>59.26</td>\n",
       "    </tr>\n",
       "    <tr>\n",
       "      <th>293</th>\n",
       "      <td>Akron, OH, United States</td>\n",
       "      <td>62.20</td>\n",
       "    </tr>\n",
       "    <tr>\n",
       "      <th>291</th>\n",
       "      <td>Memphis, TN, United States</td>\n",
       "      <td>62.29</td>\n",
       "    </tr>\n",
       "  </tbody>\n",
       "</table>\n",
       "</div>"
      ],
      "text/plain": [
       "                               City  Cost of Living Index\n",
       "314      El Paso, TX, United States                 55.92\n",
       "304      Wichita, KS, United States                 58.92\n",
       "299  Little Rock, AR, United States                 59.26\n",
       "293        Akron, OH, United States                 62.20\n",
       "291      Memphis, TN, United States                 62.29"
      ]
     },
     "execution_count": 108,
     "metadata": {},
     "output_type": "execute_result"
    }
   ],
   "source": [
    "us_coli_df = []\n",
    "\n",
    "us_coli_df = us_col_df[['City', 'Cost of Living Index']].copy()\n",
    "\n",
    "us_coli_df = us_coli_df.sort_values(['Cost of Living Index'], ascending=[True])\n",
    "\n",
    "us_coli_top5 = us_coli_df.copy().head()\n",
    "\n",
    "us_coli_top5"
   ]
  },
  {
   "cell_type": "markdown",
   "id": "cb5097f5",
   "metadata": {},
   "source": [
    "- The lowest cost of living index for our US cities in the dataset is El Paso, Texas."
   ]
  },
  {
   "cell_type": "code",
   "execution_count": 30,
   "id": "3d1b1ff1",
   "metadata": {},
   "outputs": [
    {
     "data": {
      "text/html": [
       "<div>\n",
       "<style scoped>\n",
       "    .dataframe tbody tr th:only-of-type {\n",
       "        vertical-align: middle;\n",
       "    }\n",
       "\n",
       "    .dataframe tbody tr th {\n",
       "        vertical-align: top;\n",
       "    }\n",
       "\n",
       "    .dataframe thead th {\n",
       "        text-align: right;\n",
       "    }\n",
       "</style>\n",
       "<table border=\"1\" class=\"dataframe\">\n",
       "  <thead>\n",
       "    <tr style=\"text-align: right;\">\n",
       "      <th></th>\n",
       "      <th>City</th>\n",
       "      <th>Cost of Living Index</th>\n",
       "      <th>Equivalent Salary Require Minus Rent(USD)</th>\n",
       "    </tr>\n",
       "  </thead>\n",
       "  <tbody>\n",
       "    <tr>\n",
       "      <th>314</th>\n",
       "      <td>El Paso, TX, United States</td>\n",
       "      <td>55.92</td>\n",
       "      <td>65450.0</td>\n",
       "    </tr>\n",
       "    <tr>\n",
       "      <th>304</th>\n",
       "      <td>Wichita, KS, United States</td>\n",
       "      <td>58.92</td>\n",
       "      <td>69020.0</td>\n",
       "    </tr>\n",
       "    <tr>\n",
       "      <th>299</th>\n",
       "      <td>Little Rock, AR, United States</td>\n",
       "      <td>59.26</td>\n",
       "      <td>70210.0</td>\n",
       "    </tr>\n",
       "    <tr>\n",
       "      <th>293</th>\n",
       "      <td>Akron, OH, United States</td>\n",
       "      <td>62.20</td>\n",
       "      <td>73780.0</td>\n",
       "    </tr>\n",
       "    <tr>\n",
       "      <th>291</th>\n",
       "      <td>Memphis, TN, United States</td>\n",
       "      <td>62.29</td>\n",
       "      <td>73780.0</td>\n",
       "    </tr>\n",
       "  </tbody>\n",
       "</table>\n",
       "</div>"
      ],
      "text/plain": [
       "                               City  Cost of Living Index  \\\n",
       "314      El Paso, TX, United States                 55.92   \n",
       "304      Wichita, KS, United States                 58.92   \n",
       "299  Little Rock, AR, United States                 59.26   \n",
       "293        Akron, OH, United States                 62.20   \n",
       "291      Memphis, TN, United States                 62.29   \n",
       "\n",
       "     Equivalent Salary Require Minus Rent(USD)  \n",
       "314                                    65450.0  \n",
       "304                                    69020.0  \n",
       "299                                    70210.0  \n",
       "293                                    73780.0  \n",
       "291                                    73780.0  "
      ]
     },
     "execution_count": 30,
     "metadata": {},
     "output_type": "execute_result"
    }
   ],
   "source": [
    "us_coli_top5['Equivalent Salary Required Minus Rent(USD)'] = (us_coli_top5['Cost of Living Index'].astype(int)/100)*(170000-51000)\n",
    "\n",
    "us_coli_top5"
   ]
  },
  {
   "cell_type": "markdown",
   "id": "272fd09e",
   "metadata": {},
   "source": [
    "- In El Paso, to maintain our standard of living minus rent, we only need to make \\\\$65,450"
   ]
  },
  {
   "cell_type": "markdown",
   "id": "ed40aa25",
   "metadata": {},
   "source": [
    "## 2. Rent"
   ]
  },
  {
   "cell_type": "code",
   "execution_count": 123,
   "id": "c2dd645e",
   "metadata": {
    "scrolled": true
   },
   "outputs": [
    {
     "data": {
      "image/png": "[encoded data removed]",
      "text/plain": [
       "<Figure size 640x480 with 1 Axes>"
      ]
     },
     "metadata": {},
     "output_type": "display_data"
    }
   ],
   "source": [
    "us_rent_hist = sns.histplot(us_col_df['Rent Index'], color = 'green',                   \n",
    "                  alpha = 0.10, \n",
    "                  bins = [20, 30, 40, 50, 60, 70, 80, 90, 100],\n",
    "                  kde = True)\n",
    "plt.show()"
   ]
  },
  {
   "cell_type": "markdown",
   "id": "c93b2999",
   "metadata": {},
   "source": [
    "- NYC is also among the most expensive rents in the United States"
   ]
  },
  {
   "cell_type": "code",
   "execution_count": 106,
   "id": "d3d5f9a6",
   "metadata": {},
   "outputs": [
    {
     "data": {
      "text/html": [
       "<div>\n",
       "<style scoped>\n",
       "    .dataframe tbody tr th:only-of-type {\n",
       "        vertical-align: middle;\n",
       "    }\n",
       "\n",
       "    .dataframe tbody tr th {\n",
       "        vertical-align: top;\n",
       "    }\n",
       "\n",
       "    .dataframe thead th {\n",
       "        text-align: right;\n",
       "    }\n",
       "</style>\n",
       "<table border=\"1\" class=\"dataframe\">\n",
       "  <thead>\n",
       "    <tr style=\"text-align: right;\">\n",
       "      <th></th>\n",
       "      <th>City</th>\n",
       "      <th>Rent Index</th>\n",
       "    </tr>\n",
       "  </thead>\n",
       "  <tbody>\n",
       "    <tr>\n",
       "      <th>293</th>\n",
       "      <td>Akron, OH, United States</td>\n",
       "      <td>22.90</td>\n",
       "    </tr>\n",
       "    <tr>\n",
       "      <th>265</th>\n",
       "      <td>Toledo, OH, United States</td>\n",
       "      <td>22.91</td>\n",
       "    </tr>\n",
       "    <tr>\n",
       "      <th>314</th>\n",
       "      <td>El Paso, TX, United States</td>\n",
       "      <td>23.17</td>\n",
       "    </tr>\n",
       "    <tr>\n",
       "      <th>304</th>\n",
       "      <td>Wichita, KS, United States</td>\n",
       "      <td>24.26</td>\n",
       "    </tr>\n",
       "    <tr>\n",
       "      <th>299</th>\n",
       "      <td>Little Rock, AR, United States</td>\n",
       "      <td>25.60</td>\n",
       "    </tr>\n",
       "  </tbody>\n",
       "</table>\n",
       "</div>"
      ],
      "text/plain": [
       "                               City  Rent Index\n",
       "293        Akron, OH, United States       22.90\n",
       "265       Toledo, OH, United States       22.91\n",
       "314      El Paso, TX, United States       23.17\n",
       "304      Wichita, KS, United States       24.26\n",
       "299  Little Rock, AR, United States       25.60"
      ]
     },
     "execution_count": 106,
     "metadata": {},
     "output_type": "execute_result"
    }
   ],
   "source": [
    "us_renti_df = []\n",
    "\n",
    "us_renti_df = us_col_df[['City', 'Rent Index']].copy()\n",
    "\n",
    "us_renti_df = us_renti_df.sort_values(['Rent Index'], ascending=[True])\n",
    "\n",
    "us_renti_top5 = us_renti_df.copy().head()\n",
    "\n",
    "us_renti_top5"
   ]
  },
  {
   "cell_type": "markdown",
   "id": "60540183",
   "metadata": {},
   "source": [
    "- The lowest rent index for the cities in our dataset is Akron, Ohio. El Paso is third lowest, so we will see if it stays the best option with Cost of Living Plus Rent."
   ]
  },
  {
   "cell_type": "code",
   "execution_count": 33,
   "id": "cfcf78d7",
   "metadata": {},
   "outputs": [
    {
     "data": {
      "text/html": [
       "<div>\n",
       "<style scoped>\n",
       "    .dataframe tbody tr th:only-of-type {\n",
       "        vertical-align: middle;\n",
       "    }\n",
       "\n",
       "    .dataframe tbody tr th {\n",
       "        vertical-align: top;\n",
       "    }\n",
       "\n",
       "    .dataframe thead th {\n",
       "        text-align: right;\n",
       "    }\n",
       "</style>\n",
       "<table border=\"1\" class=\"dataframe\">\n",
       "  <thead>\n",
       "    <tr style=\"text-align: right;\">\n",
       "      <th></th>\n",
       "      <th>City</th>\n",
       "      <th>Rent Index</th>\n",
       "      <th>Equivalent Rent Budget (USD)</th>\n",
       "    </tr>\n",
       "  </thead>\n",
       "  <tbody>\n",
       "    <tr>\n",
       "      <th>293</th>\n",
       "      <td>Akron, OH, United States</td>\n",
       "      <td>22.90</td>\n",
       "      <td>11220.0</td>\n",
       "    </tr>\n",
       "    <tr>\n",
       "      <th>265</th>\n",
       "      <td>Toledo, OH, United States</td>\n",
       "      <td>22.91</td>\n",
       "      <td>11220.0</td>\n",
       "    </tr>\n",
       "    <tr>\n",
       "      <th>314</th>\n",
       "      <td>El Paso, TX, United States</td>\n",
       "      <td>23.17</td>\n",
       "      <td>11730.0</td>\n",
       "    </tr>\n",
       "    <tr>\n",
       "      <th>304</th>\n",
       "      <td>Wichita, KS, United States</td>\n",
       "      <td>24.26</td>\n",
       "      <td>12240.0</td>\n",
       "    </tr>\n",
       "    <tr>\n",
       "      <th>299</th>\n",
       "      <td>Little Rock, AR, United States</td>\n",
       "      <td>25.60</td>\n",
       "      <td>12750.0</td>\n",
       "    </tr>\n",
       "  </tbody>\n",
       "</table>\n",
       "</div>"
      ],
      "text/plain": [
       "                               City  Rent Index  Equivalent Rent Budget (USD)\n",
       "293        Akron, OH, United States       22.90                       11220.0\n",
       "265       Toledo, OH, United States       22.91                       11220.0\n",
       "314      El Paso, TX, United States       23.17                       11730.0\n",
       "304      Wichita, KS, United States       24.26                       12240.0\n",
       "299  Little Rock, AR, United States       25.60                       12750.0"
      ]
     },
     "execution_count": 33,
     "metadata": {},
     "output_type": "execute_result"
    }
   ],
   "source": [
    "us_renti_top5['Equivalent Rent Budget (USD)'] = (us_renti_top5['Rent Index'].astype(int)/100)*51000\n",
    "\n",
    "us_renti_top5"
   ]
  },
  {
   "cell_type": "markdown",
   "id": "4224694e",
   "metadata": {},
   "source": [
    "- In Akron, we can expect to spend \\\\$11220.00 on rent to maintain our standard"
   ]
  },
  {
   "cell_type": "markdown",
   "id": "62e9e111",
   "metadata": {},
   "source": [
    "## 3. Cost of Living plus Rent"
   ]
  },
  {
   "cell_type": "code",
   "execution_count": 121,
   "id": "234c8d69",
   "metadata": {},
   "outputs": [
    {
     "data": {
      "image/png": "[encoded data removed]",
      "text/plain": [
       "<Figure size 640x480 with 1 Axes>"
      ]
     },
     "metadata": {},
     "output_type": "display_data"
    }
   ],
   "source": [
    "us_clr_hist = sns.histplot(us_col_df['Cost of Living Plus Rent Index'],\n",
    "                           color = 'blue',\n",
    "                           alpha = 0.10, \n",
    "                           bins = [40, 50, 60, 70, 80, 90, 100, 110],\n",
    "                           kde = True)\n",
    "plt.show()"
   ]
  },
  {
   "cell_type": "markdown",
   "id": "9159e862",
   "metadata": {},
   "source": [
    "- NYC is high in cost of living plus rent, so moving to a lot of different locations will be helpful for saving money."
   ]
  },
  {
   "cell_type": "code",
   "execution_count": 109,
   "id": "00aecda4",
   "metadata": {},
   "outputs": [
    {
     "data": {
      "text/html": [
       "<div>\n",
       "<style scoped>\n",
       "    .dataframe tbody tr th:only-of-type {\n",
       "        vertical-align: middle;\n",
       "    }\n",
       "\n",
       "    .dataframe tbody tr th {\n",
       "        vertical-align: top;\n",
       "    }\n",
       "\n",
       "    .dataframe thead th {\n",
       "        text-align: right;\n",
       "    }\n",
       "</style>\n",
       "<table border=\"1\" class=\"dataframe\">\n",
       "  <thead>\n",
       "    <tr style=\"text-align: right;\">\n",
       "      <th></th>\n",
       "      <th>City</th>\n",
       "      <th>Cost of Living Plus Rent Index</th>\n",
       "    </tr>\n",
       "  </thead>\n",
       "  <tbody>\n",
       "    <tr>\n",
       "      <th>314</th>\n",
       "      <td>El Paso, TX, United States</td>\n",
       "      <td>40.56</td>\n",
       "    </tr>\n",
       "    <tr>\n",
       "      <th>304</th>\n",
       "      <td>Wichita, KS, United States</td>\n",
       "      <td>42.67</td>\n",
       "    </tr>\n",
       "    <tr>\n",
       "      <th>299</th>\n",
       "      <td>Little Rock, AR, United States</td>\n",
       "      <td>43.48</td>\n",
       "    </tr>\n",
       "    <tr>\n",
       "      <th>293</th>\n",
       "      <td>Akron, OH, United States</td>\n",
       "      <td>43.78</td>\n",
       "    </tr>\n",
       "    <tr>\n",
       "      <th>265</th>\n",
       "      <td>Toledo, OH, United States</td>\n",
       "      <td>45.26</td>\n",
       "    </tr>\n",
       "  </tbody>\n",
       "</table>\n",
       "</div>"
      ],
      "text/plain": [
       "                               City  Cost of Living Plus Rent Index\n",
       "314      El Paso, TX, United States                           40.56\n",
       "304      Wichita, KS, United States                           42.67\n",
       "299  Little Rock, AR, United States                           43.48\n",
       "293        Akron, OH, United States                           43.78\n",
       "265       Toledo, OH, United States                           45.26"
      ]
     },
     "execution_count": 109,
     "metadata": {},
     "output_type": "execute_result"
    }
   ],
   "source": [
    "us_colpri_df = []\n",
    "\n",
    "us_colpri_df = us_col_df[['City', 'Cost of Living Plus Rent Index']].copy()\n",
    "\n",
    "us_colpri_df = us_colpri_df.sort_values(['Cost of Living Plus Rent Index'], ascending=[True])\n",
    "\n",
    "us_colpri_top5 = us_colpri_df.copy().head()\n",
    "\n",
    "us_colpri_top5"
   ]
  },
  {
   "cell_type": "markdown",
   "id": "aef7d17e",
   "metadata": {},
   "source": [
    "- El Paso, Texas is the best city to move to according to our Cost of Living plus Rent index"
   ]
  },
  {
   "cell_type": "code",
   "execution_count": 36,
   "id": "76575e7b",
   "metadata": {},
   "outputs": [
    {
     "data": {
      "text/html": [
       "<div>\n",
       "<style scoped>\n",
       "    .dataframe tbody tr th:only-of-type {\n",
       "        vertical-align: middle;\n",
       "    }\n",
       "\n",
       "    .dataframe tbody tr th {\n",
       "        vertical-align: top;\n",
       "    }\n",
       "\n",
       "    .dataframe thead th {\n",
       "        text-align: right;\n",
       "    }\n",
       "</style>\n",
       "<table border=\"1\" class=\"dataframe\">\n",
       "  <thead>\n",
       "    <tr style=\"text-align: right;\">\n",
       "      <th></th>\n",
       "      <th>City</th>\n",
       "      <th>Cost of Living Plus Rent Index</th>\n",
       "      <th>Equivalent Salary Required(USD)</th>\n",
       "    </tr>\n",
       "  </thead>\n",
       "  <tbody>\n",
       "    <tr>\n",
       "      <th>314</th>\n",
       "      <td>El Paso, TX, United States</td>\n",
       "      <td>40.56</td>\n",
       "      <td>68000.0</td>\n",
       "    </tr>\n",
       "    <tr>\n",
       "      <th>304</th>\n",
       "      <td>Wichita, KS, United States</td>\n",
       "      <td>42.67</td>\n",
       "      <td>71400.0</td>\n",
       "    </tr>\n",
       "    <tr>\n",
       "      <th>299</th>\n",
       "      <td>Little Rock, AR, United States</td>\n",
       "      <td>43.48</td>\n",
       "      <td>73100.0</td>\n",
       "    </tr>\n",
       "    <tr>\n",
       "      <th>293</th>\n",
       "      <td>Akron, OH, United States</td>\n",
       "      <td>43.78</td>\n",
       "      <td>73100.0</td>\n",
       "    </tr>\n",
       "    <tr>\n",
       "      <th>265</th>\n",
       "      <td>Toledo, OH, United States</td>\n",
       "      <td>45.26</td>\n",
       "      <td>76500.0</td>\n",
       "    </tr>\n",
       "  </tbody>\n",
       "</table>\n",
       "</div>"
      ],
      "text/plain": [
       "                               City  Cost of Living Plus Rent Index  \\\n",
       "314      El Paso, TX, United States                           40.56   \n",
       "304      Wichita, KS, United States                           42.67   \n",
       "299  Little Rock, AR, United States                           43.48   \n",
       "293        Akron, OH, United States                           43.78   \n",
       "265       Toledo, OH, United States                           45.26   \n",
       "\n",
       "     Equivalent Salary Required(USD)  \n",
       "314                          68000.0  \n",
       "304                          71400.0  \n",
       "299                          73100.0  \n",
       "293                          73100.0  \n",
       "265                          76500.0  "
      ]
     },
     "execution_count": 36,
     "metadata": {},
     "output_type": "execute_result"
    }
   ],
   "source": [
    "us_colpri_top5['Equivalent Salary Required(USD)'] = (us_colpri_top5['Cost of Living Plus Rent Index'].astype(int)/100)*170000\n",
    "\n",
    "us_colpri_top5"
   ]
  },
  {
   "cell_type": "markdown",
   "id": "148cc7f9",
   "metadata": {},
   "source": [
    "- The salary required to maintain our lifestyle in El Paso is only \\\\$68,000!"
   ]
  },
  {
   "cell_type": "markdown",
   "id": "20dd8dca",
   "metadata": {},
   "source": [
    "## 4. Groceries"
   ]
  },
  {
   "cell_type": "code",
   "execution_count": 118,
   "id": "2ebccab4",
   "metadata": {},
   "outputs": [
    {
     "data": {
      "image/png": "[encoded data removed]",
      "text/plain": [
       "<Figure size 640x480 with 1 Axes>"
      ]
     },
     "metadata": {},
     "output_type": "display_data"
    }
   ],
   "source": [
    "us_groci_hist = sns.histplot(us_col_df['Groceries Index'],\n",
    "                             color = 'cyan', \n",
    "                             alpha = 0.10, \n",
    "                             bins = [50, 60, 70, 80, 90, 100, 110, 120],\n",
    "                             kde = True)\n",
    "plt.show()"
   ]
  },
  {
   "cell_type": "markdown",
   "id": "aa041481",
   "metadata": {},
   "source": [
    "- Groceries cost more in NYC than they do in most of the US"
   ]
  },
  {
   "cell_type": "code",
   "execution_count": 38,
   "id": "5d6f3068",
   "metadata": {},
   "outputs": [
    {
     "data": {
      "text/html": [
       "<div>\n",
       "<style scoped>\n",
       "    .dataframe tbody tr th:only-of-type {\n",
       "        vertical-align: middle;\n",
       "    }\n",
       "\n",
       "    .dataframe tbody tr th {\n",
       "        vertical-align: top;\n",
       "    }\n",
       "\n",
       "    .dataframe thead th {\n",
       "        text-align: right;\n",
       "    }\n",
       "</style>\n",
       "<table border=\"1\" class=\"dataframe\">\n",
       "  <thead>\n",
       "    <tr style=\"text-align: right;\">\n",
       "      <th></th>\n",
       "      <th>City</th>\n",
       "      <th>Groceries Index</th>\n",
       "    </tr>\n",
       "  </thead>\n",
       "  <tbody>\n",
       "    <tr>\n",
       "      <th>304</th>\n",
       "      <td>Wichita, KS, United States</td>\n",
       "      <td>53.08</td>\n",
       "    </tr>\n",
       "    <tr>\n",
       "      <th>314</th>\n",
       "      <td>El Paso, TX, United States</td>\n",
       "      <td>54.45</td>\n",
       "    </tr>\n",
       "    <tr>\n",
       "      <th>286</th>\n",
       "      <td>San Antonio, TX, United States</td>\n",
       "      <td>57.25</td>\n",
       "    </tr>\n",
       "    <tr>\n",
       "      <th>299</th>\n",
       "      <td>Little Rock, AR, United States</td>\n",
       "      <td>57.28</td>\n",
       "    </tr>\n",
       "    <tr>\n",
       "      <th>291</th>\n",
       "      <td>Memphis, TN, United States</td>\n",
       "      <td>58.08</td>\n",
       "    </tr>\n",
       "  </tbody>\n",
       "</table>\n",
       "</div>"
      ],
      "text/plain": [
       "                               City  Groceries Index\n",
       "304      Wichita, KS, United States            53.08\n",
       "314      El Paso, TX, United States            54.45\n",
       "286  San Antonio, TX, United States            57.25\n",
       "299  Little Rock, AR, United States            57.28\n",
       "291      Memphis, TN, United States            58.08"
      ]
     },
     "execution_count": 38,
     "metadata": {},
     "output_type": "execute_result"
    }
   ],
   "source": [
    "us_groci_df = []\n",
    "\n",
    "us_groci_df = us_col_df[['City', 'Groceries Index']].copy()\n",
    "\n",
    "us_groci_df = us_groci_df.sort_values(['Groceries Index'], ascending=[True])\n",
    "\n",
    "us_groci_top5 = us_groci_df.head().copy()\n",
    "\n",
    "us_groci_top5"
   ]
  },
  {
   "cell_type": "markdown",
   "id": "c9341a24",
   "metadata": {},
   "source": [
    "- Wichita, Kansas is the cheapest US city for groceries in our dataset, but El Paso is second cheapest."
   ]
  },
  {
   "cell_type": "code",
   "execution_count": 39,
   "id": "3185fa76",
   "metadata": {},
   "outputs": [
    {
     "data": {
      "text/html": [
       "<div>\n",
       "<style scoped>\n",
       "    .dataframe tbody tr th:only-of-type {\n",
       "        vertical-align: middle;\n",
       "    }\n",
       "\n",
       "    .dataframe tbody tr th {\n",
       "        vertical-align: top;\n",
       "    }\n",
       "\n",
       "    .dataframe thead th {\n",
       "        text-align: right;\n",
       "    }\n",
       "</style>\n",
       "<table border=\"1\" class=\"dataframe\">\n",
       "  <thead>\n",
       "    <tr style=\"text-align: right;\">\n",
       "      <th></th>\n",
       "      <th>City</th>\n",
       "      <th>Groceries Index</th>\n",
       "      <th>Equivalent Grocery Budget (USD)</th>\n",
       "    </tr>\n",
       "  </thead>\n",
       "  <tbody>\n",
       "    <tr>\n",
       "      <th>304</th>\n",
       "      <td>Wichita, KS, United States</td>\n",
       "      <td>53.08</td>\n",
       "      <td>5982.64</td>\n",
       "    </tr>\n",
       "    <tr>\n",
       "      <th>314</th>\n",
       "      <td>El Paso, TX, United States</td>\n",
       "      <td>54.45</td>\n",
       "      <td>6095.52</td>\n",
       "    </tr>\n",
       "    <tr>\n",
       "      <th>286</th>\n",
       "      <td>San Antonio, TX, United States</td>\n",
       "      <td>57.25</td>\n",
       "      <td>6434.16</td>\n",
       "    </tr>\n",
       "    <tr>\n",
       "      <th>299</th>\n",
       "      <td>Little Rock, AR, United States</td>\n",
       "      <td>57.28</td>\n",
       "      <td>6434.16</td>\n",
       "    </tr>\n",
       "    <tr>\n",
       "      <th>291</th>\n",
       "      <td>Memphis, TN, United States</td>\n",
       "      <td>58.08</td>\n",
       "      <td>6547.04</td>\n",
       "    </tr>\n",
       "  </tbody>\n",
       "</table>\n",
       "</div>"
      ],
      "text/plain": [
       "                               City  Groceries Index  \\\n",
       "304      Wichita, KS, United States            53.08   \n",
       "314      El Paso, TX, United States            54.45   \n",
       "286  San Antonio, TX, United States            57.25   \n",
       "299  Little Rock, AR, United States            57.28   \n",
       "291      Memphis, TN, United States            58.08   \n",
       "\n",
       "     Equivalent Grocery Budget (USD)  \n",
       "304                          5982.64  \n",
       "314                          6095.52  \n",
       "286                          6434.16  \n",
       "299                          6434.16  \n",
       "291                          6547.04  "
      ]
     },
     "execution_count": 39,
     "metadata": {},
     "output_type": "execute_result"
    }
   ],
   "source": [
    "us_groci_top5['Equivalent Grocery Budget (USD)'] = (us_groci_top5['Groceries Index'].astype(int)/100)*11288\n",
    "\n",
    "us_groci_top5"
   ]
  },
  {
   "cell_type": "markdown",
   "id": "ebbc8b08",
   "metadata": {},
   "source": [
    "- Our annual grocery budget in Wichita would only be \\\\$5982.64 and in El Paso it would only be \\\\$6095.52"
   ]
  },
  {
   "cell_type": "markdown",
   "id": "ace1f326",
   "metadata": {},
   "source": [
    "## 5. Restaurant Price"
   ]
  },
  {
   "cell_type": "code",
   "execution_count": 149,
   "id": "b1f187bd",
   "metadata": {},
   "outputs": [
    {
     "data": {
      "image/png": "[encoded data removed]",
      "text/plain": [
       "<Figure size 640x480 with 1 Axes>"
      ]
     },
     "metadata": {},
     "output_type": "display_data"
    }
   ],
   "source": [
    "us_resti_hist = sns.histplot(us_col_df['Restaurant Price Index'], \n",
    "                             color = 'teal',\n",
    "                             alpha = 0.10, \n",
    "                             bins = [40, 50, 60, 70, 80, 90, 100, 110],\n",
    "                             kde = True)\n",
    "plt.show()"
   ]
  },
  {
   "cell_type": "markdown",
   "id": "71f1f93b",
   "metadata": {},
   "source": [
    "- NYC is one of the most expensive cities in the US for dining out."
   ]
  },
  {
   "cell_type": "code",
   "execution_count": 41,
   "id": "dbe798d5",
   "metadata": {},
   "outputs": [
    {
     "data": {
      "text/html": [
       "<div>\n",
       "<style scoped>\n",
       "    .dataframe tbody tr th:only-of-type {\n",
       "        vertical-align: middle;\n",
       "    }\n",
       "\n",
       "    .dataframe tbody tr th {\n",
       "        vertical-align: top;\n",
       "    }\n",
       "\n",
       "    .dataframe thead th {\n",
       "        text-align: right;\n",
       "    }\n",
       "</style>\n",
       "<table border=\"1\" class=\"dataframe\">\n",
       "  <thead>\n",
       "    <tr style=\"text-align: right;\">\n",
       "      <th></th>\n",
       "      <th>City</th>\n",
       "      <th>Restaurant Price Index</th>\n",
       "    </tr>\n",
       "  </thead>\n",
       "  <tbody>\n",
       "    <tr>\n",
       "      <th>314</th>\n",
       "      <td>El Paso, TX, United States</td>\n",
       "      <td>48.18</td>\n",
       "    </tr>\n",
       "    <tr>\n",
       "      <th>293</th>\n",
       "      <td>Akron, OH, United States</td>\n",
       "      <td>55.56</td>\n",
       "    </tr>\n",
       "    <tr>\n",
       "      <th>283</th>\n",
       "      <td>Lexington, KY, United States</td>\n",
       "      <td>55.65</td>\n",
       "    </tr>\n",
       "    <tr>\n",
       "      <th>150</th>\n",
       "      <td>Fort Collins, CO, United States</td>\n",
       "      <td>56.71</td>\n",
       "    </tr>\n",
       "    <tr>\n",
       "      <th>304</th>\n",
       "      <td>Wichita, KS, United States</td>\n",
       "      <td>57.42</td>\n",
       "    </tr>\n",
       "  </tbody>\n",
       "</table>\n",
       "</div>"
      ],
      "text/plain": [
       "                                City  Restaurant Price Index\n",
       "314       El Paso, TX, United States                   48.18\n",
       "293         Akron, OH, United States                   55.56\n",
       "283     Lexington, KY, United States                   55.65\n",
       "150  Fort Collins, CO, United States                   56.71\n",
       "304       Wichita, KS, United States                   57.42"
      ]
     },
     "execution_count": 41,
     "metadata": {},
     "output_type": "execute_result"
    }
   ],
   "source": [
    "us_resti_df = []\n",
    "\n",
    "us_resti_df = us_col_df[['City', 'Restaurant Price Index']].copy()\n",
    "\n",
    "us_resti_df = us_resti_df.sort_values(['Restaurant Price Index'], ascending=[True])\n",
    "\n",
    "us_resti_top5 = us_resti_df.head().copy()\n",
    "\n",
    "us_resti_top5"
   ]
  },
  {
   "cell_type": "markdown",
   "id": "45eb733b",
   "metadata": {},
   "source": [
    "- El Paso, Texas is the cheapest US city in our dataset for dining out."
   ]
  },
  {
   "cell_type": "code",
   "execution_count": 42,
   "id": "39a31c37",
   "metadata": {},
   "outputs": [
    {
     "data": {
      "text/html": [
       "<div>\n",
       "<style scoped>\n",
       "    .dataframe tbody tr th:only-of-type {\n",
       "        vertical-align: middle;\n",
       "    }\n",
       "\n",
       "    .dataframe tbody tr th {\n",
       "        vertical-align: top;\n",
       "    }\n",
       "\n",
       "    .dataframe thead th {\n",
       "        text-align: right;\n",
       "    }\n",
       "</style>\n",
       "<table border=\"1\" class=\"dataframe\">\n",
       "  <thead>\n",
       "    <tr style=\"text-align: right;\">\n",
       "      <th></th>\n",
       "      <th>City</th>\n",
       "      <th>Restaurant Price Index</th>\n",
       "      <th>Equivalent Restaurant Budget (USD)</th>\n",
       "    </tr>\n",
       "  </thead>\n",
       "  <tbody>\n",
       "    <tr>\n",
       "      <th>314</th>\n",
       "      <td>El Paso, TX, United States</td>\n",
       "      <td>48.18</td>\n",
       "      <td>2741.76</td>\n",
       "    </tr>\n",
       "    <tr>\n",
       "      <th>293</th>\n",
       "      <td>Akron, OH, United States</td>\n",
       "      <td>55.56</td>\n",
       "      <td>3141.60</td>\n",
       "    </tr>\n",
       "    <tr>\n",
       "      <th>283</th>\n",
       "      <td>Lexington, KY, United States</td>\n",
       "      <td>55.65</td>\n",
       "      <td>3141.60</td>\n",
       "    </tr>\n",
       "    <tr>\n",
       "      <th>150</th>\n",
       "      <td>Fort Collins, CO, United States</td>\n",
       "      <td>56.71</td>\n",
       "      <td>3198.72</td>\n",
       "    </tr>\n",
       "    <tr>\n",
       "      <th>304</th>\n",
       "      <td>Wichita, KS, United States</td>\n",
       "      <td>57.42</td>\n",
       "      <td>3255.84</td>\n",
       "    </tr>\n",
       "  </tbody>\n",
       "</table>\n",
       "</div>"
      ],
      "text/plain": [
       "                                City  Restaurant Price Index  \\\n",
       "314       El Paso, TX, United States                   48.18   \n",
       "293         Akron, OH, United States                   55.56   \n",
       "283     Lexington, KY, United States                   55.65   \n",
       "150  Fort Collins, CO, United States                   56.71   \n",
       "304       Wichita, KS, United States                   57.42   \n",
       "\n",
       "     Equivalent Restaurant Budget (USD)  \n",
       "314                             2741.76  \n",
       "293                             3141.60  \n",
       "283                             3141.60  \n",
       "150                             3198.72  \n",
       "304                             3255.84  "
      ]
     },
     "execution_count": 42,
     "metadata": {},
     "output_type": "execute_result"
    }
   ],
   "source": [
    "us_resti_top5['Equivalent Restaurant Budget (USD)'] = (us_resti_top5['Restaurant Price Index'].astype(int)/100)*5712\n",
    "\n",
    "us_resti_top5"
   ]
  },
  {
   "cell_type": "markdown",
   "id": "9b54449d",
   "metadata": {},
   "source": [
    "- In El Paso our equivalent dining out budget is only \\\\$2741.76, so we will save a good amount when eating out."
   ]
  },
  {
   "cell_type": "markdown",
   "id": "7c3230a2",
   "metadata": {},
   "source": [
    "## 6. Local Purchasing Power"
   ]
  },
  {
   "cell_type": "markdown",
   "id": "24ec1df8",
   "metadata": {},
   "source": [
    "- Again, with Local Purchasing Power, the higher the number, the better."
   ]
  },
  {
   "cell_type": "code",
   "execution_count": 151,
   "id": "42000abd",
   "metadata": {},
   "outputs": [
    {
     "data": {
      "image/png": "[encoded data removed]",
      "text/plain": [
       "<Figure size 640x480 with 1 Axes>"
      ]
     },
     "metadata": {},
     "output_type": "display_data"
    }
   ],
   "source": [
    "us_lppi_hist = sns.histplot(us_col_df['Local Purchasing Power Index'], \n",
    "                            color = 'magenta', \n",
    "                            alpha = 0.10, \n",
    "                            bins = [60, 70, 80, 90, 100, 110, 120, 130, 140, 150, 160 ,170, 180],\n",
    "                            kde = True)\n",
    "plt.show()"
   ]
  },
  {
   "cell_type": "markdown",
   "id": "5df2d1fd",
   "metadata": {},
   "source": [
    "- Our money appears to go further in a majority of the US as opposed to NYC."
   ]
  },
  {
   "cell_type": "code",
   "execution_count": 44,
   "id": "6f684521",
   "metadata": {},
   "outputs": [
    {
     "data": {
      "text/html": [
       "<div>\n",
       "<style scoped>\n",
       "    .dataframe tbody tr th:only-of-type {\n",
       "        vertical-align: middle;\n",
       "    }\n",
       "\n",
       "    .dataframe tbody tr th {\n",
       "        vertical-align: top;\n",
       "    }\n",
       "\n",
       "    .dataframe thead th {\n",
       "        text-align: right;\n",
       "    }\n",
       "</style>\n",
       "<table border=\"1\" class=\"dataframe\">\n",
       "  <thead>\n",
       "    <tr style=\"text-align: right;\">\n",
       "      <th></th>\n",
       "      <th>City</th>\n",
       "      <th>Local Purchasing Power Index</th>\n",
       "    </tr>\n",
       "  </thead>\n",
       "  <tbody>\n",
       "    <tr>\n",
       "      <th>276</th>\n",
       "      <td>Houston, TX, United States</td>\n",
       "      <td>172.98</td>\n",
       "    </tr>\n",
       "    <tr>\n",
       "      <th>233</th>\n",
       "      <td>Dallas, TX, United States</td>\n",
       "      <td>170.66</td>\n",
       "    </tr>\n",
       "    <tr>\n",
       "      <th>190</th>\n",
       "      <td>Ann Arbor, MI, United States</td>\n",
       "      <td>159.99</td>\n",
       "    </tr>\n",
       "    <tr>\n",
       "      <th>250</th>\n",
       "      <td>Austin, TX, United States</td>\n",
       "      <td>158.21</td>\n",
       "    </tr>\n",
       "    <tr>\n",
       "      <th>130</th>\n",
       "      <td>San Jose, CA, United States</td>\n",
       "      <td>157.39</td>\n",
       "    </tr>\n",
       "  </tbody>\n",
       "</table>\n",
       "</div>"
      ],
      "text/plain": [
       "                             City  Local Purchasing Power Index\n",
       "276    Houston, TX, United States                        172.98\n",
       "233     Dallas, TX, United States                        170.66\n",
       "190  Ann Arbor, MI, United States                        159.99\n",
       "250     Austin, TX, United States                        158.21\n",
       "130   San Jose, CA, United States                        157.39"
      ]
     },
     "execution_count": 44,
     "metadata": {},
     "output_type": "execute_result"
    }
   ],
   "source": [
    "us_lppi_df = []\n",
    "\n",
    "us_lppi_df = us_col_df[['City', 'Local Purchasing Power Index']].copy()\n",
    "\n",
    "us_lppi_df = us_lppi_df.sort_values(['Local Purchasing Power Index'], ascending=[False])\n",
    "\n",
    "us_lppi_top5 = us_lppi_df.head().copy()\n",
    "\n",
    "us_lppi_top5"
   ]
  },
  {
   "cell_type": "markdown",
   "id": "1df4e0a9",
   "metadata": {},
   "source": [
    "- Houston remain the best city for Local Purchasing Power, but let's see how El Paso looks since that looks to be the city we can move to in th US to save the most amount of money."
   ]
  },
  {
   "cell_type": "code",
   "execution_count": 152,
   "id": "9ecebc41",
   "metadata": {
    "scrolled": true
   },
   "outputs": [
    {
     "data": {
      "text/html": [
       "<div>\n",
       "<style scoped>\n",
       "    .dataframe tbody tr th:only-of-type {\n",
       "        vertical-align: middle;\n",
       "    }\n",
       "\n",
       "    .dataframe tbody tr th {\n",
       "        vertical-align: top;\n",
       "    }\n",
       "\n",
       "    .dataframe thead th {\n",
       "        text-align: right;\n",
       "    }\n",
       "</style>\n",
       "<table border=\"1\" class=\"dataframe\">\n",
       "  <thead>\n",
       "    <tr style=\"text-align: right;\">\n",
       "      <th></th>\n",
       "      <th>City</th>\n",
       "      <th>Cost of Living Index</th>\n",
       "      <th>Rent Index</th>\n",
       "      <th>Cost of Living Plus Rent Index</th>\n",
       "      <th>Groceries Index</th>\n",
       "      <th>Restaurant Price Index</th>\n",
       "      <th>Local Purchasing Power Index</th>\n",
       "    </tr>\n",
       "  </thead>\n",
       "  <tbody>\n",
       "    <tr>\n",
       "      <th>314</th>\n",
       "      <td>El Paso, TX, United States</td>\n",
       "      <td>55.92</td>\n",
       "      <td>23.17</td>\n",
       "      <td>40.56</td>\n",
       "      <td>54.45</td>\n",
       "      <td>48.18</td>\n",
       "      <td>118.77</td>\n",
       "    </tr>\n",
       "  </tbody>\n",
       "</table>\n",
       "</div>"
      ],
      "text/plain": [
       "                           City  Cost of Living Index  Rent Index  \\\n",
       "314  El Paso, TX, United States                 55.92       23.17   \n",
       "\n",
       "     Cost of Living Plus Rent Index  Groceries Index  Restaurant Price Index  \\\n",
       "314                           40.56            54.45                   48.18   \n",
       "\n",
       "     Local Purchasing Power Index  \n",
       "314                        118.77  "
      ]
     },
     "execution_count": 152,
     "metadata": {},
     "output_type": "execute_result"
    }
   ],
   "source": [
    "elpaso_col = us_col_df.loc[(col_df['City'].str.contains(\"el paso\", case = False))].copy()\n",
    "\n",
    "elpaso_col"
   ]
  },
  {
   "cell_type": "markdown",
   "id": "32667e5d",
   "metadata": {},
   "source": [
    "- Our Local Purchasing Power in El Paso is 118.77, so while we might be spending more on goods and services than we would in Houston, we are still spending less than we would in NYC."
   ]
  },
  {
   "cell_type": "markdown",
   "id": "5e0f5737",
   "metadata": {},
   "source": [
    "## Results\n",
    "\n",
    "Given how much money we are saving on esssentials by looking at the first five indexes, and that our local purchasing power is still strong; El Paso, Texas is where we should move in the US to maintain our standard of living and save the most money."
   ]
  }
 ],
 "metadata": {
  "kernelspec": {
   "display_name": "Python 3 (ipykernel)",
   "language": "python",
   "name": "python3"
  },
  "language_info": {
   "codemirror_mode": {
    "name": "ipython",
    "version": 3
   },
   "file_extension": ".py",
   "mimetype": "text/x-python",
   "name": "python",
   "nbconvert_exporter": "python",
   "pygments_lexer": "ipython3",
   "version": "3.9.13"
  }
 },
 "nbformat": 4,
 "nbformat_minor": 5
}
