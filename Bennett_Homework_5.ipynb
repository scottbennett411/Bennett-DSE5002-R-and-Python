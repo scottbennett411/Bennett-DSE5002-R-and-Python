{
 "cells": [
  {
   "cell_type": "markdown",
   "id": "88671a38",
   "metadata": {},
   "source": [
    "# Homework 5\n",
    "### Scott Bennett\n",
    "### 14 Apr 2023"
   ]
  },
  {
   "cell_type": "markdown",
   "id": "822c38b0",
   "metadata": {},
   "source": [
    "Answer each question by writing the Python code needed to perform the task. Please only use the libraries requested in each problem. "
   ]
  },
  {
   "cell_type": "markdown",
   "id": "c25d3684",
   "metadata": {},
   "source": [
    "### Problem 1\n",
    "Load the interest_inflation data from the statsmodels library as a pandas data frame assigned to `df`. Use the function `df.head()` to view the first 5 rows of the data. Notice the first observation is indexed at 0. Unlike R, Python is a 0 based index language which means when you iterate or wish to view the first observation of a data object it will be at the index 0. \n",
    "\n",
    "What do the columns `Dp` and `R` represent? (You can find this using the documentation)\n"
   ]
  },
  {
   "cell_type": "code",
   "execution_count": 1,
   "id": "723f0215",
   "metadata": {},
   "outputs": [],
   "source": [
    "# your code here\n",
    "from statsmodels.datasets.interest_inflation.data import load_pandas"
   ]
  },
  {
   "cell_type": "code",
   "execution_count": 2,
   "id": "180bf97b",
   "metadata": {},
   "outputs": [],
   "source": [
    "df = load_pandas().data"
   ]
  },
  {
   "cell_type": "code",
   "execution_count": 3,
   "id": "30acba07",
   "metadata": {},
   "outputs": [
    {
     "data": {
      "text/html": [
       "<div>\n",
       "<style scoped>\n",
       "    .dataframe tbody tr th:only-of-type {\n",
       "        vertical-align: middle;\n",
       "    }\n",
       "\n",
       "    .dataframe tbody tr th {\n",
       "        vertical-align: top;\n",
       "    }\n",
       "\n",
       "    .dataframe thead th {\n",
       "        text-align: right;\n",
       "    }\n",
       "</style>\n",
       "<table border=\"1\" class=\"dataframe\">\n",
       "  <thead>\n",
       "    <tr style=\"text-align: right;\">\n",
       "      <th></th>\n",
       "      <th>year</th>\n",
       "      <th>quarter</th>\n",
       "      <th>Dp</th>\n",
       "      <th>R</th>\n",
       "    </tr>\n",
       "  </thead>\n",
       "  <tbody>\n",
       "    <tr>\n",
       "      <th>0</th>\n",
       "      <td>1972.0</td>\n",
       "      <td>2.0</td>\n",
       "      <td>-0.003133</td>\n",
       "      <td>0.083</td>\n",
       "    </tr>\n",
       "    <tr>\n",
       "      <th>1</th>\n",
       "      <td>1972.0</td>\n",
       "      <td>3.0</td>\n",
       "      <td>0.018871</td>\n",
       "      <td>0.083</td>\n",
       "    </tr>\n",
       "    <tr>\n",
       "      <th>2</th>\n",
       "      <td>1972.0</td>\n",
       "      <td>4.0</td>\n",
       "      <td>0.024804</td>\n",
       "      <td>0.087</td>\n",
       "    </tr>\n",
       "    <tr>\n",
       "      <th>3</th>\n",
       "      <td>1973.0</td>\n",
       "      <td>1.0</td>\n",
       "      <td>0.016278</td>\n",
       "      <td>0.087</td>\n",
       "    </tr>\n",
       "    <tr>\n",
       "      <th>4</th>\n",
       "      <td>1973.0</td>\n",
       "      <td>2.0</td>\n",
       "      <td>0.000290</td>\n",
       "      <td>0.102</td>\n",
       "    </tr>\n",
       "  </tbody>\n",
       "</table>\n",
       "</div>"
      ],
      "text/plain": [
       "     year  quarter        Dp      R\n",
       "0  1972.0      2.0 -0.003133  0.083\n",
       "1  1972.0      3.0  0.018871  0.083\n",
       "2  1972.0      4.0  0.024804  0.087\n",
       "3  1973.0      1.0  0.016278  0.087\n",
       "4  1973.0      2.0  0.000290  0.102"
      ]
     },
     "execution_count": 3,
     "metadata": {},
     "output_type": "execute_result"
    }
   ],
   "source": [
    "df.head(5)"
   ]
  },
  {
   "cell_type": "markdown",
   "id": "b193d9f4",
   "metadata": {},
   "source": [
    "Dp - Delta log gdp deflator\n",
    "\n",
    "R - nominal long term interest rate"
   ]
  },
  {
   "cell_type": "markdown",
   "id": "724b3e2c",
   "metadata": {},
   "source": [
    "### Problem 2\n",
    "Import scipy as sp and numpy as np. Using the `mean()` and `var()` function from scipy, validate that both functions equate to their numpy counterparts against the column `Dp`.\n",
    "\n",
    "By using the scipy library you should receive a warning message. What does the warning message indicate? Which function should you use going forward? "
   ]
  },
  {
   "cell_type": "code",
   "execution_count": 4,
   "id": "83dc8d7f",
   "metadata": {},
   "outputs": [],
   "source": [
    "# your code here\n",
    "import scipy as sp\n",
    "\n",
    "import numpy as np"
   ]
  },
  {
   "cell_type": "code",
   "execution_count": 5,
   "id": "8c59298d",
   "metadata": {},
   "outputs": [
    {
     "name": "stderr",
     "output_type": "stream",
     "text": [
      "/var/folders/x6/mfh33q7s3cvc898c6t2db6jc0000gp/T/ipykernel_24586/2735895050.py:1: DeprecationWarning: scipy.mean is deprecated and will be removed in SciPy 2.0.0, use numpy.mean instead\n",
      "  sp.mean(df['Dp'])\n"
     ]
    },
    {
     "data": {
      "text/plain": [
       "0.008397309906542054"
      ]
     },
     "execution_count": 5,
     "metadata": {},
     "output_type": "execute_result"
    }
   ],
   "source": [
    "sp.mean(df['Dp'])"
   ]
  },
  {
   "cell_type": "code",
   "execution_count": 6,
   "id": "cda42014",
   "metadata": {},
   "outputs": [
    {
     "name": "stderr",
     "output_type": "stream",
     "text": [
      "/var/folders/x6/mfh33q7s3cvc898c6t2db6jc0000gp/T/ipykernel_24586/1383872187.py:1: DeprecationWarning: scipy.var is deprecated and will be removed in SciPy 2.0.0, use numpy.var instead\n",
      "  sp.var(df['Dp'])\n"
     ]
    },
    {
     "data": {
      "text/plain": [
       "0.00035296754186450404"
      ]
     },
     "execution_count": 6,
     "metadata": {},
     "output_type": "execute_result"
    }
   ],
   "source": [
    "sp.var(df['Dp'])"
   ]
  },
  {
   "cell_type": "code",
   "execution_count": 7,
   "id": "6f25afdf",
   "metadata": {},
   "outputs": [
    {
     "data": {
      "text/plain": [
       "0.008397309906542054"
      ]
     },
     "execution_count": 7,
     "metadata": {},
     "output_type": "execute_result"
    }
   ],
   "source": [
    "np.mean(df['Dp'])"
   ]
  },
  {
   "cell_type": "code",
   "execution_count": 8,
   "id": "4b17e51c",
   "metadata": {},
   "outputs": [
    {
     "data": {
      "text/plain": [
       "0.00035296754186450404"
      ]
     },
     "execution_count": 8,
     "metadata": {},
     "output_type": "execute_result"
    }
   ],
   "source": [
    "np.var(df['Dp'])"
   ]
  },
  {
   "cell_type": "markdown",
   "id": "943b6df5",
   "metadata": {},
   "source": [
    "Using the scipy library gave the warning 'scipy.mean(var) is deprecated and will be removed in SciPy 2.0.0, use numpy.mean(var) instead.' This is because scipy.mean and scipy.var might be removed in future versions of Python, so best practice moving forward is to use Numpy functions instead."
   ]
  },
  {
   "cell_type": "markdown",
   "id": "7334bad9",
   "metadata": {},
   "source": [
    "### Problem 3\n",
    "Fit an OLS regression (linear regression) using the statsmodels api where `y = df['Dp']` and `x = df['R']`. By default OLS estimates the theoretical mean of the dependent variable y. Statsmodels.ols does not fit a constant value by default so be sure to add a constant to `x`. Extract the coefficients into a variable named `res1_coefs`. See the documentation for `params`. Finally print the `summary()` of the model. \n",
    "\n",
    "Documentation: https://www.statsmodels.org/dev/generated/statsmodels.regression.linear_model.OLS.html"
   ]
  },
  {
   "cell_type": "code",
   "execution_count": 9,
   "id": "30e5d02a",
   "metadata": {},
   "outputs": [
    {
     "name": "stdout",
     "output_type": "stream",
     "text": [
      "const   -0.003126\n",
      "R        0.154512\n",
      "dtype: float64\n"
     ]
    }
   ],
   "source": [
    "# your code here\n",
    "import statsmodels.api as sm\n",
    "y = df['Dp']\n",
    "x = df['R']\n",
    "x = sm.add_constant(x)\n",
    "model1 = sm.OLS(y, x)\n",
    "results1 = model1.fit()\n",
    "res1_coefs = results1.params\n",
    "\n",
    "print(res1_coefs)"
   ]
  },
  {
   "cell_type": "code",
   "execution_count": 10,
   "id": "d2965b8e",
   "metadata": {},
   "outputs": [
    {
     "name": "stdout",
     "output_type": "stream",
     "text": [
      "                            OLS Regression Results                            \n",
      "==============================================================================\n",
      "Dep. Variable:                     Dp   R-squared:                       0.018\n",
      "Model:                            OLS   Adj. R-squared:                  0.009\n",
      "Method:                 Least Squares   F-statistic:                     1.954\n",
      "Date:                Sat, 15 Apr 2023   Prob (F-statistic):              0.165\n",
      "Time:                        16:49:13   Log-Likelihood:                 274.44\n",
      "No. Observations:                 107   AIC:                            -544.9\n",
      "Df Residuals:                     105   BIC:                            -539.5\n",
      "Df Model:                           1                                         \n",
      "Covariance Type:            nonrobust                                         \n",
      "==============================================================================\n",
      "                 coef    std err          t      P>|t|      [0.025      0.975]\n",
      "------------------------------------------------------------------------------\n",
      "const         -0.0031      0.008     -0.370      0.712      -0.020       0.014\n",
      "R              0.1545      0.111      1.398      0.165      -0.065       0.374\n",
      "==============================================================================\n",
      "Omnibus:                       11.018   Durbin-Watson:                   2.552\n",
      "Prob(Omnibus):                  0.004   Jarque-Bera (JB):                3.844\n",
      "Skew:                          -0.050   Prob(JB):                        0.146\n",
      "Kurtosis:                       2.077   Cond. No.                         61.2\n",
      "==============================================================================\n",
      "\n",
      "Notes:\n",
      "[1] Standard Errors assume that the covariance matrix of the errors is correctly specified.\n"
     ]
    }
   ],
   "source": [
    "print(results1.summary())"
   ]
  },
  {
   "cell_type": "markdown",
   "id": "f630fe6c",
   "metadata": {},
   "source": [
    "### Probelm 4\n",
    "Fit a quantile regression model using the statsmodels api using the formula `Dp ~ R`. By default quantreg creates a constant so there is no need to add one to this model. In your `fit()` method be sure to set `q = 0.5` so that we are estimating the theoritical median.  Extract the coefficients into a variable named `res2_coefs`.  Finally print the `summary()` of the model. \n",
    "\n",
    "\n",
    "Documentation: https://www.statsmodels.org/dev/generated/statsmodels.regression.quantile_regression.QuantReg.html"
   ]
  },
  {
   "cell_type": "code",
   "execution_count": 11,
   "id": "4731c2e4",
   "metadata": {},
   "outputs": [
    {
     "name": "stdout",
     "output_type": "stream",
     "text": [
      "Intercept   -0.005388\n",
      "R            0.181800\n",
      "dtype: float64\n"
     ]
    }
   ],
   "source": [
    "# your code here\n",
    "import statsmodels.formula.api as smf\n",
    "\n",
    "model2 = smf.quantreg('Dp~R', df)\n",
    "results2 = model2.fit(q=0.5)\n",
    "res2_coefs = results2.params\n",
    "print(res2_coefs)"
   ]
  },
  {
   "cell_type": "code",
   "execution_count": 12,
   "id": "869b4f7f",
   "metadata": {},
   "outputs": [
    {
     "name": "stdout",
     "output_type": "stream",
     "text": [
      "                         QuantReg Regression Results                          \n",
      "==============================================================================\n",
      "Dep. Variable:                     Dp   Pseudo R-squared:              0.02100\n",
      "Model:                       QuantReg   Bandwidth:                     0.02021\n",
      "Method:                 Least Squares   Sparsity:                      0.05748\n",
      "Date:                Sat, 15 Apr 2023   No. Observations:                  107\n",
      "Time:                        16:49:21   Df Residuals:                      105\n",
      "                                        Df Model:                            1\n",
      "==============================================================================\n",
      "                 coef    std err          t      P>|t|      [0.025      0.975]\n",
      "------------------------------------------------------------------------------\n",
      "Intercept     -0.0054      0.013     -0.417      0.677      -0.031       0.020\n",
      "R              0.1818      0.169      1.075      0.285      -0.153       0.517\n",
      "==============================================================================\n"
     ]
    }
   ],
   "source": [
    "print(results2.summary())"
   ]
  },
  {
   "cell_type": "markdown",
   "id": "2d0d47d5",
   "metadata": {},
   "source": [
    "### Problem 5\n",
    "\n",
    "Part 1: Use the `type()` method to determine the type of `res1_coefs` and `res2_coefs`. Print the type in a Jupyter cell. \n",
    "\n",
    "Part 2: In the next Jupyter cell show that `res1_coefs > res2_coefs`. What does the error mean? To resolve this error we must convert the data to an unnamed object or change the names of the objects. Since we are not focusing on pandas this week we will simply convert to a different data type.\n",
    "\n",
    "Part 3: Now, do the same comparision using the `tolist()` function at the end of each object name. \n",
    "\n",
    "Part 4: We performed two types of linear regression and compared their coefficients. Coefficients are essentially the rate at which x changes the values of y. Do some research on what OLS estimates versus what quantreg estimates and explain why we have two different coefficient estimates. In which cases do you think quantile regression will be useful? What about ordinary least squares regression? "
   ]
  },
  {
   "cell_type": "code",
   "execution_count": 13,
   "id": "554fbe9a",
   "metadata": {},
   "outputs": [
    {
     "data": {
      "text/plain": [
       "pandas.core.series.Series"
      ]
     },
     "execution_count": 13,
     "metadata": {},
     "output_type": "execute_result"
    }
   ],
   "source": [
    "# your code here\n",
    "type(res1_coefs)"
   ]
  },
  {
   "cell_type": "code",
   "execution_count": 14,
   "id": "ea25401b",
   "metadata": {},
   "outputs": [
    {
     "data": {
      "text/plain": [
       "pandas.core.series.Series"
      ]
     },
     "execution_count": 14,
     "metadata": {},
     "output_type": "execute_result"
    }
   ],
   "source": [
    "type(res2_coefs)"
   ]
  },
  {
   "cell_type": "markdown",
   "id": "1ca6c555",
   "metadata": {},
   "source": [
    "#### Part 1\n",
    "- type - Series"
   ]
  },
  {
   "cell_type": "code",
   "execution_count": 15,
   "id": "dd2773cf",
   "metadata": {},
   "outputs": [
    {
     "ename": "ValueError",
     "evalue": "Can only compare identically-labeled Series objects",
     "output_type": "error",
     "traceback": [
      "\u001b[0;31m---------------------------------------------------------------------------\u001b[0m",
      "\u001b[0;31mValueError\u001b[0m                                Traceback (most recent call last)",
      "\u001b[0;32m/var/folders/x6/mfh33q7s3cvc898c6t2db6jc0000gp/T/ipykernel_24586/292601516.py\u001b[0m in \u001b[0;36m<module>\u001b[0;34m\u001b[0m\n\u001b[0;32m----> 1\u001b[0;31m \u001b[0mres1_coefs\u001b[0m \u001b[0;34m>\u001b[0m \u001b[0mres2_coefs\u001b[0m\u001b[0;34m\u001b[0m\u001b[0;34m\u001b[0m\u001b[0m\n\u001b[0m",
      "\u001b[0;32m~/opt/anaconda3/lib/python3.9/site-packages/pandas/core/ops/common.py\u001b[0m in \u001b[0;36mnew_method\u001b[0;34m(self, other)\u001b[0m\n\u001b[1;32m     68\u001b[0m         \u001b[0mother\u001b[0m \u001b[0;34m=\u001b[0m \u001b[0mitem_from_zerodim\u001b[0m\u001b[0;34m(\u001b[0m\u001b[0mother\u001b[0m\u001b[0;34m)\u001b[0m\u001b[0;34m\u001b[0m\u001b[0;34m\u001b[0m\u001b[0m\n\u001b[1;32m     69\u001b[0m \u001b[0;34m\u001b[0m\u001b[0m\n\u001b[0;32m---> 70\u001b[0;31m         \u001b[0;32mreturn\u001b[0m \u001b[0mmethod\u001b[0m\u001b[0;34m(\u001b[0m\u001b[0mself\u001b[0m\u001b[0;34m,\u001b[0m \u001b[0mother\u001b[0m\u001b[0;34m)\u001b[0m\u001b[0;34m\u001b[0m\u001b[0;34m\u001b[0m\u001b[0m\n\u001b[0m\u001b[1;32m     71\u001b[0m \u001b[0;34m\u001b[0m\u001b[0m\n\u001b[1;32m     72\u001b[0m     \u001b[0;32mreturn\u001b[0m \u001b[0mnew_method\u001b[0m\u001b[0;34m\u001b[0m\u001b[0;34m\u001b[0m\u001b[0m\n",
      "\u001b[0;32m~/opt/anaconda3/lib/python3.9/site-packages/pandas/core/arraylike.py\u001b[0m in \u001b[0;36m__gt__\u001b[0;34m(self, other)\u001b[0m\n\u001b[1;32m     54\u001b[0m     \u001b[0;34m@\u001b[0m\u001b[0munpack_zerodim_and_defer\u001b[0m\u001b[0;34m(\u001b[0m\u001b[0;34m\"__gt__\"\u001b[0m\u001b[0;34m)\u001b[0m\u001b[0;34m\u001b[0m\u001b[0;34m\u001b[0m\u001b[0m\n\u001b[1;32m     55\u001b[0m     \u001b[0;32mdef\u001b[0m \u001b[0m__gt__\u001b[0m\u001b[0;34m(\u001b[0m\u001b[0mself\u001b[0m\u001b[0;34m,\u001b[0m \u001b[0mother\u001b[0m\u001b[0;34m)\u001b[0m\u001b[0;34m:\u001b[0m\u001b[0;34m\u001b[0m\u001b[0;34m\u001b[0m\u001b[0m\n\u001b[0;32m---> 56\u001b[0;31m         \u001b[0;32mreturn\u001b[0m \u001b[0mself\u001b[0m\u001b[0;34m.\u001b[0m\u001b[0m_cmp_method\u001b[0m\u001b[0;34m(\u001b[0m\u001b[0mother\u001b[0m\u001b[0;34m,\u001b[0m \u001b[0moperator\u001b[0m\u001b[0;34m.\u001b[0m\u001b[0mgt\u001b[0m\u001b[0;34m)\u001b[0m\u001b[0;34m\u001b[0m\u001b[0;34m\u001b[0m\u001b[0m\n\u001b[0m\u001b[1;32m     57\u001b[0m \u001b[0;34m\u001b[0m\u001b[0m\n\u001b[1;32m     58\u001b[0m     \u001b[0;34m@\u001b[0m\u001b[0munpack_zerodim_and_defer\u001b[0m\u001b[0;34m(\u001b[0m\u001b[0;34m\"__ge__\"\u001b[0m\u001b[0;34m)\u001b[0m\u001b[0;34m\u001b[0m\u001b[0;34m\u001b[0m\u001b[0m\n",
      "\u001b[0;32m~/opt/anaconda3/lib/python3.9/site-packages/pandas/core/series.py\u001b[0m in \u001b[0;36m_cmp_method\u001b[0;34m(self, other, op)\u001b[0m\n\u001b[1;32m   5615\u001b[0m \u001b[0;34m\u001b[0m\u001b[0m\n\u001b[1;32m   5616\u001b[0m         \u001b[0;32mif\u001b[0m \u001b[0misinstance\u001b[0m\u001b[0;34m(\u001b[0m\u001b[0mother\u001b[0m\u001b[0;34m,\u001b[0m \u001b[0mSeries\u001b[0m\u001b[0;34m)\u001b[0m \u001b[0;32mand\u001b[0m \u001b[0;32mnot\u001b[0m \u001b[0mself\u001b[0m\u001b[0;34m.\u001b[0m\u001b[0m_indexed_same\u001b[0m\u001b[0;34m(\u001b[0m\u001b[0mother\u001b[0m\u001b[0;34m)\u001b[0m\u001b[0;34m:\u001b[0m\u001b[0;34m\u001b[0m\u001b[0;34m\u001b[0m\u001b[0m\n\u001b[0;32m-> 5617\u001b[0;31m             \u001b[0;32mraise\u001b[0m \u001b[0mValueError\u001b[0m\u001b[0;34m(\u001b[0m\u001b[0;34m\"Can only compare identically-labeled Series objects\"\u001b[0m\u001b[0;34m)\u001b[0m\u001b[0;34m\u001b[0m\u001b[0;34m\u001b[0m\u001b[0m\n\u001b[0m\u001b[1;32m   5618\u001b[0m \u001b[0;34m\u001b[0m\u001b[0m\n\u001b[1;32m   5619\u001b[0m         \u001b[0mlvalues\u001b[0m \u001b[0;34m=\u001b[0m \u001b[0mself\u001b[0m\u001b[0;34m.\u001b[0m\u001b[0m_values\u001b[0m\u001b[0;34m\u001b[0m\u001b[0;34m\u001b[0m\u001b[0m\n",
      "\u001b[0;31mValueError\u001b[0m: Can only compare identically-labeled Series objects"
     ]
    }
   ],
   "source": [
    "res1_coefs > res2_coefs"
   ]
  },
  {
   "cell_type": "markdown",
   "id": "87dd7e64",
   "metadata": {},
   "source": [
    "#### Part 2\n",
    "- This error means that it can't compare the two coefficients using '>' since they are not identically-labled Series objects"
   ]
  },
  {
   "cell_type": "code",
   "execution_count": 16,
   "id": "ba28d3b0",
   "metadata": {},
   "outputs": [
    {
     "data": {
      "text/plain": [
       "True"
      ]
     },
     "execution_count": 16,
     "metadata": {},
     "output_type": "execute_result"
    }
   ],
   "source": [
    "res1_coefs.tolist() > res2_coefs.tolist()"
   ]
  },
  {
   "cell_type": "markdown",
   "id": "54524248",
   "metadata": {},
   "source": [
    "#### Part 3\n",
    "- Returns True once converted to list\n",
    "\n",
    "#### Part 4\n",
    "- We have two different coefficients because they are estimating using a different summary statistic. Ordinary Least Squares is estimating the mean while quantreg is estimating by a specific quantile of a target variable, in this case the median. Quantile regression then is helpful when you want to make sure that outliers don't influence the model as much. On the flip side, sometimes outliers can be important, and so OLS would be helpful when looking at data where outliers are important.\n",
    "\n",
    "[IBM Quantile Regression](https://www.ibm.com/docs/en/spss-statistics/saas?topic=regression-quantile)"
   ]
  },
  {
   "cell_type": "markdown",
   "id": "c0c8c7cd",
   "metadata": {},
   "source": [
    "### Problem 6\n",
    "What are the advantages of using Python as a general purpose programming language? What are the disadvantages? Why do you think data scientists and machine learning engineers prefer Python over other statistically focused languages like R? Your answer should a paragraph for: (1) advantages, (2) disadvantages, and (3) why its popular. Please cite each source used in your answer. "
   ]
  },
  {
   "cell_type": "markdown",
   "id": "a1ac1049",
   "metadata": {},
   "source": [
    "#### Advantages\n",
    "\n",
    "There are plenty of advantages to learning Python and using it due to it being a general purpose programming language. Since it wasn't created for a specific purpose, it is really versatile and can support projects from the analytic side of Data Science to integrating that data into applications. It is also considered one of the easiest languages to learn and therefore has become the most common programming language in the world, these means that the barrier to entry for coders is much lower. As general purpose language it also has a very large community across multiple industries that help people collaborate either just by asking questions on online forums to ensuring that libraries are current.\n",
    "\n",
    "[Advantages and Disadvantages of Python](https://understandingdata.com/posts/advantages-and-disadvantages-of-python/)\n",
    "\n",
    "#### Disadvantages\n",
    "\n",
    "One of the main criticisms of Python is how slow it is, so for applications where differences of speed are important, it might not be the best option. [Advantages and Disadvantages of Python](https://understandingdata.com/posts/advantages-and-disadvantages-of-python/) It also doesn't have as extensive libraries for data exploration and experimentation. Additionally, it is not as good at displaying visuals as other options such as R. Sometimes by being a jack of all trades, it isn't the best option for hyper specialized work that might be better suited for another language. [IBM: Python vs. R](https://www.ibm.com/cloud/blog/python-vs-r) \n",
    "\n",
    "#### Why is it Popular\n",
    "\n",
    "Whereas R is a really helpful tool for statistics and for data analysis, I think that Python is more popular with data scientists and machine learning engineers for a variety of reasons. Data scientists do more than just analyze data, they also come up with ways to model data and make predictions about the future. As such, using a language like Python is helpful because it is more flexible and better for designing new tools to help with data science than R is. It is also better for machine learning with its specialized deep learning and machine learning libraries that help data scientists develop data models. Finally, Python is better at collecting data from the web where R needs more structured data formats. [IBM: Python vs. R](https://www.ibm.com/cloud/blog/python-vs-r) \n",
    "\n",
    "#### Sources\n",
    "\n",
    "IBM Cloud Team. “Python vs R: What’s the Difference.” IBM.com, March 23, 2021. https://www.ibm.com/cloud/blog/python-vs-r.\n",
    "\n",
    "\n",
    "IBM.com. “Quantile Regression,” October 5, 2022. https://www.ibm.com/docs/en/spss-statistics/saas?topic=regression-quantile.\n",
    "\n",
    "\n",
    "Phoenix, James. “Advantages and Disadvantages of Python.” UnderstandingData.com, n.d. https://understandingdata.com/posts/advantages-and-disadvantages-of-python/.\n"
   ]
  }
 ],
 "metadata": {
  "kernelspec": {
   "display_name": "Python 3 (ipykernel)",
   "language": "python",
   "name": "python3"
  },
  "language_info": {
   "codemirror_mode": {
    "name": "ipython",
    "version": 3
   },
   "file_extension": ".py",
   "mimetype": "text/x-python",
   "name": "python",
   "nbconvert_exporter": "python",
   "pygments_lexer": "ipython3",
   "version": "3.9.13"
  }
 },
 "nbformat": 4,
 "nbformat_minor": 5
}
