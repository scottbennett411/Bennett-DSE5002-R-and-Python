{
 "cells": [
  {
   "cell_type": "markdown",
   "id": "5b5258fe",
   "metadata": {},
   "source": [
    "# Assignment 7\n",
    "### Scott Bennett\n",
    "### 29 Apr 2023"
   ]
  },
  {
   "cell_type": "markdown",
   "id": "c0ebfbde",
   "metadata": {},
   "source": [
    "## Question 1\n",
    "A palindrome is a word, phrase, or sequence that is the same spelled forward as it is backwards.\n",
    "Write a function using a for-loop to determine if a string is a palindrome. Your function should only have one argument. "
   ]
  },
  {
   "cell_type": "code",
   "execution_count": 1,
   "id": "75b35247",
   "metadata": {},
   "outputs": [
    {
     "name": "stdout",
     "output_type": "stream",
     "text": [
      "t\n",
      "at\n",
      "cat\n",
      "ocat\n",
      "taco is not a palindrome\n",
      "r\n",
      "ar\n",
      "car\n",
      "ecar\n",
      "cecar\n",
      "acecar\n",
      "racecar\n",
      "racecar is a palindrome\n"
     ]
    }
   ],
   "source": [
    "# your code here\n",
    "def forPalindrome(string): #define a function, use a for loop to determine if a string is a palindrome\n",
    "    reverse_string = \"\" #creates an empty string that will become the reverse of our input\n",
    "    string = string.lower() #ensure that all letters are made lower case so that cases don't matter\n",
    "    for i in string: #Initialize for loop\n",
    "        reverse_string = i + reverse_string #adds the letter at index 'i' at the beginning of 'reverse_string'\n",
    "        print(reverse_string) #shows how our reverse string is being built out\n",
    "    if(string == reverse_string): #checks to see if our input equals the reverse of our input\n",
    "        print(string, \"is a palindrome\") \n",
    "    else:\n",
    "        print(string, \"is not a palindrome\")"
   ]
  },
  {
   "cell_type": "code",
   "execution_count": 40,
   "id": "74f2440f",
   "metadata": {},
   "outputs": [
    {
     "name": "stdout",
     "output_type": "stream",
     "text": [
      "t\n",
      "at\n",
      "cat\n",
      "ocat\n",
      "taco is not a palindrome\n",
      "r\n",
      "ar\n",
      "car\n",
      "ecar\n",
      "cecar\n",
      "acecar\n",
      "racecar\n",
      "racecar is a palindrome\n"
     ]
    }
   ],
   "source": [
    "forPalindrome(\"taco\") \n",
    "forPalindrome(\"Racecar\")"
   ]
  },
  {
   "cell_type": "markdown",
   "id": "c6916bad",
   "metadata": {},
   "source": [
    "## Question 2\n",
    "Write a function using a while-loop to determine if a string is a palindrome. Your function should only have one argument. "
   ]
  },
  {
   "cell_type": "code",
   "execution_count": 2,
   "id": "c0f1525d",
   "metadata": {},
   "outputs": [
    {
     "name": "stdout",
     "output_type": "stream",
     "text": [
      "racecar is a palindrome\n",
      "palindrome is not a palindrome\n"
     ]
    }
   ],
   "source": [
    "# your code here\n",
    "def whilePalindrome(string): #define a function, use a while loop to determine if a string is a palindrome\n",
    "    string = string.lower() #ensure that all letters are made lower case so that cases don't matter\n",
    "    i = 0 #creates a variable 'i' which I will use to iterate through the while loop\n",
    "    while i <= len(string) / 2: #The while loop will iterate while 'i' is less than or equal to half the length of our input\n",
    "        if string[i] != string[-i-1]: #Checks to see if the character at index 'i' is not equal to the character at index '-i-1'\n",
    "            print(string, \"is not a palindrome\") #Prints that the string is not a palindrome\n",
    "            return #breaks out of the while loop since we've determined that our string is not a palindrome\n",
    "        i += 1 #adds 1 to 'i'\n",
    "    print(string, \"is a palindrome\") #if the string never causes the while loop to end, prints that the string is a palindrome"
   ]
  },
  {
   "cell_type": "code",
   "execution_count": 39,
   "id": "5685df52",
   "metadata": {},
   "outputs": [
    {
     "name": "stdout",
     "output_type": "stream",
     "text": [
      "racecar is a palindrome\n",
      "palindrome is not a palindrome\n"
     ]
    }
   ],
   "source": [
    "whilePalindrome(\"racecar\")\n",
    "whilePalindrome(\"Palindrome\")"
   ]
  },
  {
   "cell_type": "markdown",
   "id": "d85c8321",
   "metadata": {},
   "source": [
    "## Question 3\n",
    "Two Sum - Write a function named two_sum()\n",
    "Given a vector of integers nums and an integer target, return indices of the two numbers such that they add\n",
    "up to target. You may assume that each input would have exactly one solution, and you may not use the same element\n",
    "twice. You can return the answer in any order.Use defaultdict and hash maps/tables to complete this problem. \n",
    "\n",
    "Example 1:\n",
    "Input: `nums = [2,7,11,15]`, target = 9 Output: `[0,1]` Explanation: Because `nums[0] + nums[1] == 9`, we\n",
    "return `[0, 1]`. \n",
    "\n",
    "Example 2:\n",
    "Input: `nums = [3,2,4]`, `target = 6 Output: [1,2]` \n",
    "\n",
    "Example 3:\n",
    "Input: `nums = [3,3]`, `target = 6 Output: [0,1]`\n",
    "\n",
    "Constraints:\n",
    "`2 <= nums.length <= 104 –109 <= nums[i] <= 109 –109 <= target <= 109` Only one valid answer exists."
   ]
  },
  {
   "cell_type": "code",
   "execution_count": 37,
   "id": "46a63aa3",
   "metadata": {},
   "outputs": [],
   "source": [
    "# your code here\n",
    "from collections import defaultdict\n",
    "\n",
    "def two_sum(nums, target): #define a function to perform the two_sum problem using hashing\n",
    "    hash_sums = defaultdict(int)\n",
    "    for i in range(len(nums)): #iterates over the length of the nums input\n",
    "        complement = target - nums[i] #creates a complements variable which is the target minus the num at index i\n",
    "        if complement in hash_sums: #checks to see if the complement is already in the hash\n",
    "            return[hash_sums[complement], i] #returns the index of the complement and the current index i\n",
    "        hash_sums[nums[i]] = i #Adds index i as a value into hash_sums with nums[i] as the key"
   ]
  },
  {
   "cell_type": "code",
   "execution_count": 41,
   "id": "f0019230",
   "metadata": {},
   "outputs": [
    {
     "name": "stdout",
     "output_type": "stream",
     "text": [
      "[0, 1]\n",
      "[1, 2]\n",
      "[0, 1]\n"
     ]
    }
   ],
   "source": [
    "print(two_sum(nums = [2,7,11,15], target = 9))\n",
    "\n",
    "print(two_sum(nums = [3,2,4], target = 6))\n",
    "\n",
    "print(two_sum(nums = [3,3], target = 6))"
   ]
  },
  {
   "cell_type": "markdown",
   "id": "9ec37669",
   "metadata": {},
   "source": [
    "## Question 4\n",
    "How is a negative index used in Python? Show an example"
   ]
  },
  {
   "cell_type": "markdown",
   "id": "37705330",
   "metadata": {},
   "source": [
    "A negative index can be used to access elements in arrays, strings, lists, etc. from the end of the object that you are looking at. In the example below, I will use negative indexing as another way to solve the palindrome problem without using a loop."
   ]
  },
  {
   "cell_type": "code",
   "execution_count": 50,
   "id": "3c646d4e",
   "metadata": {},
   "outputs": [],
   "source": [
    "# your code here\n",
    "def indexPalindrome(string): #define a function, use negative indexing to determine if a string is a palindrome\n",
    "    string = string.lower() #ensure that all letters are made lower case so that cases don't matter\n",
    "    if(string == string[::-1]): #Checks to see if the string is equal to the string when it is reversed starting at it's last element\n",
    "        print(\"String reversed is: \",string[::-1]) #prints what the reversed string looks like\n",
    "        print(string,\"is a palindrome\") #Tells us it is a palindrome\n",
    "    else:\n",
    "        print(\"String reversed is: \",string[::-1])#prints what the reversed string looks like\n",
    "        print(string,\"is not a palindrome\") #Tells us it is not a palindrome"
   ]
  },
  {
   "cell_type": "code",
   "execution_count": 51,
   "id": "6885a141",
   "metadata": {},
   "outputs": [
    {
     "name": "stdout",
     "output_type": "stream",
     "text": [
      "String reversed is:  racecar\n",
      "racecar is a palindrome\n",
      "String reversed is:  emordnilap\n",
      "palindrome is not a palindrome\n"
     ]
    }
   ],
   "source": [
    "indexPalindrome('racecar')\n",
    "indexPalindrome('Palindrome')"
   ]
  },
  {
   "cell_type": "markdown",
   "id": "3128782b",
   "metadata": {},
   "source": [
    "## Question 5\n",
    "Check if two given strings are isomorphic to each other. Two strings str1 and str2 are called isomorphic if there is a one-to-one mapping possible for every character of str1 to every character of str2. And all occurrences of every character in ‘str1’ map to the same character in ‘str2’.\n",
    "\n",
    "`Input:  str1 = \"aab\", str2 = \"xxy\"`\n",
    "\n",
    "`Output: True`\n",
    "\n",
    "`'a' is mapped to 'x' and 'b' is mapped to 'y'.`\n",
    "\n",
    "`Input:  str1 = \"aab\", str2 = \"xyz\"`\n",
    "\n",
    "`Output: False`\n",
    "\n",
    "`One occurrence of 'a' in str1 has 'x' in str2 and other occurrence of 'a' has 'y'.`\n",
    "\n",
    "A Simple Solution is to consider every character of ‘str1’ and check if all occurrences of it map to the same character in ‘str2’. The time complexity of this solution is O(n*n).\n",
    "\n",
    "An Efficient Solution can solve this problem in O(n) time. The idea is to create an array to store mappings of processed characters. \n"
   ]
  },
  {
   "cell_type": "code",
   "execution_count": 90,
   "id": "53f3a149",
   "metadata": {},
   "outputs": [],
   "source": [
    "# your code here\n",
    "from collections import defaultdict\n",
    "\n",
    "def areIsomorphic(str1, str2): #define a function to determine if two strings are isomorphic\n",
    "    hash_iso = defaultdict(dict) #intitialize a hash map\n",
    "    c = \"a\" #Initialize a variable to use in comparison later\n",
    "    if(len(str1) != len(str2)): #Check if the inputs are the same length, if they are not, by default they can't be isomorphic\n",
    "        print(\"These strings are not the same length\") #give the reason why false was returned\n",
    "        return False\n",
    "    for i in range(len(str1)): #Iterates through str1\n",
    "        if str1[i] in hash_iso: #Checks to see if the character at index i is already in hash_iso\n",
    "            c = hash_iso[str1[i]] #assigns c the value of the hash_iso[str1[i]]\n",
    "            if c != str2[i]: #checks to see if c is not equal to str2[i]\n",
    "                return False #If c isn't equal to str2[i] that means that str1[i] has already been assigned a letter in str2\n",
    "        elif str2[i] not in hash_iso: #checks to see if character at str2[i] is not in hash_iso\n",
    "            hash_iso[str1[i]] = str2[i] #If it is not, it assigns the str2[i] to hash_iso[str[i]]\n",
    "        else:\n",
    "            return False\n",
    "    return True\n",
    "    \n",
    "    "
   ]
  },
  {
   "cell_type": "code",
   "execution_count": 92,
   "id": "177e099c",
   "metadata": {},
   "outputs": [
    {
     "name": "stdout",
     "output_type": "stream",
     "text": [
      "True\n",
      "False\n",
      "These strings are not the same length\n",
      "False\n"
     ]
    }
   ],
   "source": [
    "print(areIsomorphic(\"aab\", \"yyx\"))\n",
    "\n",
    "print(areIsomorphic(\"aab\",\"xyz\"))\n",
    "\n",
    "print(areIsomorphic(\"aab\", \"xxyy\"))"
   ]
  }
 ],
 "metadata": {
  "kernelspec": {
   "display_name": "Python 3 (ipykernel)",
   "language": "python",
   "name": "python3"
  },
  "language_info": {
   "codemirror_mode": {
    "name": "ipython",
    "version": 3
   },
   "file_extension": ".py",
   "mimetype": "text/x-python",
   "name": "python",
   "nbconvert_exporter": "python",
   "pygments_lexer": "ipython3",
   "version": "3.9.13"
  }
 },
 "nbformat": 4,
 "nbformat_minor": 5
}
