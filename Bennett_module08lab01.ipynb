{
 "cells": [
  {
   "cell_type": "markdown",
   "id": "5b5258fe",
   "metadata": {},
   "source": [
    "# Assignment 8\n",
    "### Scott Bennett\n",
    "### 29 Apr 2023"
   ]
  },
  {
   "cell_type": "markdown",
   "id": "b7111d7d",
   "metadata": {},
   "source": [
    "### The libraries you will use are already loaded for you below"
   ]
  },
  {
   "cell_type": "code",
   "execution_count": 1,
   "id": "1e816004",
   "metadata": {},
   "outputs": [],
   "source": [
    "import pandas as pd\n",
    "import numpy as np\n",
    "import seaborn as sns\n",
    "import matplotlib.pyplot as plt\n",
    "from itertools import chain"
   ]
  },
  {
   "cell_type": "markdown",
   "id": "c0ebfbde",
   "metadata": {},
   "source": [
    "## Question 1\n",
    "Read in the two Netflix CSV files from /Data/Netflix as pandas dataframes. Print the number of unique genres. This is not as simple as it sounds. You cannot simply find the length of `titles['genres'].unique()`. You must convert the output of that code to a list, iterate over that list and replace the following characters: `[]',`. Once you have them replace you can split the individual strings to list items and flatten the list. I have already imported the `chain()` function for you to flatten the list. Look up the documentation to see its usage. There are 19 unique genres, but I want you to write the code to find them. "
   ]
  },
  {
   "cell_type": "markdown",
   "id": "09b3cec0",
   "metadata": {},
   "source": [
    "- First I am going to imports and reads titles.csv into a pandas dataframe\n",
    "\n",
    "- Then I will use .head() to displays the first five rows of the data frame"
   ]
  },
  {
   "cell_type": "code",
   "execution_count": 2,
   "id": "75b35247",
   "metadata": {},
   "outputs": [
    {
     "data": {
      "text/html": [
       "<div>\n",
       "<style scoped>\n",
       "    .dataframe tbody tr th:only-of-type {\n",
       "        vertical-align: middle;\n",
       "    }\n",
       "\n",
       "    .dataframe tbody tr th {\n",
       "        vertical-align: top;\n",
       "    }\n",
       "\n",
       "    .dataframe thead th {\n",
       "        text-align: right;\n",
       "    }\n",
       "</style>\n",
       "<table border=\"1\" class=\"dataframe\">\n",
       "  <thead>\n",
       "    <tr style=\"text-align: right;\">\n",
       "      <th></th>\n",
       "      <th>id</th>\n",
       "      <th>title</th>\n",
       "      <th>type</th>\n",
       "      <th>description</th>\n",
       "      <th>release_year</th>\n",
       "      <th>age_certification</th>\n",
       "      <th>runtime</th>\n",
       "      <th>genres</th>\n",
       "      <th>production_countries</th>\n",
       "      <th>seasons</th>\n",
       "      <th>imdb_id</th>\n",
       "      <th>imdb_score</th>\n",
       "      <th>imdb_votes</th>\n",
       "      <th>tmdb_popularity</th>\n",
       "      <th>tmdb_score</th>\n",
       "    </tr>\n",
       "  </thead>\n",
       "  <tbody>\n",
       "    <tr>\n",
       "      <th>0</th>\n",
       "      <td>ts300399</td>\n",
       "      <td>Five Came Back: The Reference Films</td>\n",
       "      <td>SHOW</td>\n",
       "      <td>This collection includes 12 World War II-era p...</td>\n",
       "      <td>1945</td>\n",
       "      <td>TV-MA</td>\n",
       "      <td>48</td>\n",
       "      <td>['documentation']</td>\n",
       "      <td>['US']</td>\n",
       "      <td>1.0</td>\n",
       "      <td>NaN</td>\n",
       "      <td>NaN</td>\n",
       "      <td>NaN</td>\n",
       "      <td>0.600</td>\n",
       "      <td>NaN</td>\n",
       "    </tr>\n",
       "    <tr>\n",
       "      <th>1</th>\n",
       "      <td>tm84618</td>\n",
       "      <td>Taxi Driver</td>\n",
       "      <td>MOVIE</td>\n",
       "      <td>A mentally unstable Vietnam War veteran works ...</td>\n",
       "      <td>1976</td>\n",
       "      <td>R</td>\n",
       "      <td>113</td>\n",
       "      <td>['crime', 'drama']</td>\n",
       "      <td>['US']</td>\n",
       "      <td>NaN</td>\n",
       "      <td>tt0075314</td>\n",
       "      <td>8.3</td>\n",
       "      <td>795222.0</td>\n",
       "      <td>27.612</td>\n",
       "      <td>8.2</td>\n",
       "    </tr>\n",
       "    <tr>\n",
       "      <th>2</th>\n",
       "      <td>tm127384</td>\n",
       "      <td>Monty Python and the Holy Grail</td>\n",
       "      <td>MOVIE</td>\n",
       "      <td>King Arthur, accompanied by his squire, recrui...</td>\n",
       "      <td>1975</td>\n",
       "      <td>PG</td>\n",
       "      <td>91</td>\n",
       "      <td>['comedy', 'fantasy']</td>\n",
       "      <td>['GB']</td>\n",
       "      <td>NaN</td>\n",
       "      <td>tt0071853</td>\n",
       "      <td>8.2</td>\n",
       "      <td>530877.0</td>\n",
       "      <td>18.216</td>\n",
       "      <td>7.8</td>\n",
       "    </tr>\n",
       "    <tr>\n",
       "      <th>3</th>\n",
       "      <td>tm70993</td>\n",
       "      <td>Life of Brian</td>\n",
       "      <td>MOVIE</td>\n",
       "      <td>Brian Cohen is an average young Jewish man, bu...</td>\n",
       "      <td>1979</td>\n",
       "      <td>R</td>\n",
       "      <td>94</td>\n",
       "      <td>['comedy']</td>\n",
       "      <td>['GB']</td>\n",
       "      <td>NaN</td>\n",
       "      <td>tt0079470</td>\n",
       "      <td>8.0</td>\n",
       "      <td>392419.0</td>\n",
       "      <td>17.505</td>\n",
       "      <td>7.8</td>\n",
       "    </tr>\n",
       "    <tr>\n",
       "      <th>4</th>\n",
       "      <td>tm190788</td>\n",
       "      <td>The Exorcist</td>\n",
       "      <td>MOVIE</td>\n",
       "      <td>12-year-old Regan MacNeil begins to adapt an e...</td>\n",
       "      <td>1973</td>\n",
       "      <td>R</td>\n",
       "      <td>133</td>\n",
       "      <td>['horror']</td>\n",
       "      <td>['US']</td>\n",
       "      <td>NaN</td>\n",
       "      <td>tt0070047</td>\n",
       "      <td>8.1</td>\n",
       "      <td>391942.0</td>\n",
       "      <td>95.337</td>\n",
       "      <td>7.7</td>\n",
       "    </tr>\n",
       "  </tbody>\n",
       "</table>\n",
       "</div>"
      ],
      "text/plain": [
       "         id                                title   type  \\\n",
       "0  ts300399  Five Came Back: The Reference Films   SHOW   \n",
       "1   tm84618                          Taxi Driver  MOVIE   \n",
       "2  tm127384      Monty Python and the Holy Grail  MOVIE   \n",
       "3   tm70993                        Life of Brian  MOVIE   \n",
       "4  tm190788                         The Exorcist  MOVIE   \n",
       "\n",
       "                                         description  release_year  \\\n",
       "0  This collection includes 12 World War II-era p...          1945   \n",
       "1  A mentally unstable Vietnam War veteran works ...          1976   \n",
       "2  King Arthur, accompanied by his squire, recrui...          1975   \n",
       "3  Brian Cohen is an average young Jewish man, bu...          1979   \n",
       "4  12-year-old Regan MacNeil begins to adapt an e...          1973   \n",
       "\n",
       "  age_certification  runtime                 genres production_countries  \\\n",
       "0             TV-MA       48      ['documentation']               ['US']   \n",
       "1                 R      113     ['crime', 'drama']               ['US']   \n",
       "2                PG       91  ['comedy', 'fantasy']               ['GB']   \n",
       "3                 R       94             ['comedy']               ['GB']   \n",
       "4                 R      133             ['horror']               ['US']   \n",
       "\n",
       "   seasons    imdb_id  imdb_score  imdb_votes  tmdb_popularity  tmdb_score  \n",
       "0      1.0        NaN         NaN         NaN            0.600         NaN  \n",
       "1      NaN  tt0075314         8.3    795222.0           27.612         8.2  \n",
       "2      NaN  tt0071853         8.2    530877.0           18.216         7.8  \n",
       "3      NaN  tt0079470         8.0    392419.0           17.505         7.8  \n",
       "4      NaN  tt0070047         8.1    391942.0           95.337         7.7  "
      ]
     },
     "execution_count": 2,
     "metadata": {},
     "output_type": "execute_result"
    }
   ],
   "source": [
    "# your code here\n",
    "titles_df = pd.read_csv('titles.csv')\n",
    "\n",
    "titles_df.head()"
   ]
  },
  {
   "cell_type": "markdown",
   "id": "fb3e2931",
   "metadata": {},
   "source": [
    "- That loaded the 'titles.csv', and now I will do the same with 'credits.csv'"
   ]
  },
  {
   "cell_type": "code",
   "execution_count": 3,
   "id": "e4eeb250",
   "metadata": {},
   "outputs": [
    {
     "data": {
      "text/html": [
       "<div>\n",
       "<style scoped>\n",
       "    .dataframe tbody tr th:only-of-type {\n",
       "        vertical-align: middle;\n",
       "    }\n",
       "\n",
       "    .dataframe tbody tr th {\n",
       "        vertical-align: top;\n",
       "    }\n",
       "\n",
       "    .dataframe thead th {\n",
       "        text-align: right;\n",
       "    }\n",
       "</style>\n",
       "<table border=\"1\" class=\"dataframe\">\n",
       "  <thead>\n",
       "    <tr style=\"text-align: right;\">\n",
       "      <th></th>\n",
       "      <th>person_id</th>\n",
       "      <th>id</th>\n",
       "      <th>name</th>\n",
       "      <th>character</th>\n",
       "      <th>role</th>\n",
       "    </tr>\n",
       "  </thead>\n",
       "  <tbody>\n",
       "    <tr>\n",
       "      <th>0</th>\n",
       "      <td>3748</td>\n",
       "      <td>tm84618</td>\n",
       "      <td>Robert De Niro</td>\n",
       "      <td>Travis Bickle</td>\n",
       "      <td>ACTOR</td>\n",
       "    </tr>\n",
       "    <tr>\n",
       "      <th>1</th>\n",
       "      <td>14658</td>\n",
       "      <td>tm84618</td>\n",
       "      <td>Jodie Foster</td>\n",
       "      <td>Iris Steensma</td>\n",
       "      <td>ACTOR</td>\n",
       "    </tr>\n",
       "    <tr>\n",
       "      <th>2</th>\n",
       "      <td>7064</td>\n",
       "      <td>tm84618</td>\n",
       "      <td>Albert Brooks</td>\n",
       "      <td>Tom</td>\n",
       "      <td>ACTOR</td>\n",
       "    </tr>\n",
       "    <tr>\n",
       "      <th>3</th>\n",
       "      <td>3739</td>\n",
       "      <td>tm84618</td>\n",
       "      <td>Harvey Keitel</td>\n",
       "      <td>Matthew 'Sport' Higgins</td>\n",
       "      <td>ACTOR</td>\n",
       "    </tr>\n",
       "    <tr>\n",
       "      <th>4</th>\n",
       "      <td>48933</td>\n",
       "      <td>tm84618</td>\n",
       "      <td>Cybill Shepherd</td>\n",
       "      <td>Betsy</td>\n",
       "      <td>ACTOR</td>\n",
       "    </tr>\n",
       "  </tbody>\n",
       "</table>\n",
       "</div>"
      ],
      "text/plain": [
       "   person_id       id             name                character   role\n",
       "0       3748  tm84618   Robert De Niro            Travis Bickle  ACTOR\n",
       "1      14658  tm84618     Jodie Foster            Iris Steensma  ACTOR\n",
       "2       7064  tm84618    Albert Brooks                      Tom  ACTOR\n",
       "3       3739  tm84618    Harvey Keitel  Matthew 'Sport' Higgins  ACTOR\n",
       "4      48933  tm84618  Cybill Shepherd                    Betsy  ACTOR"
      ]
     },
     "execution_count": 3,
     "metadata": {},
     "output_type": "execute_result"
    }
   ],
   "source": [
    "credits_df = pd.read_csv('credits.csv')\n",
    "\n",
    "credits_df.head()"
   ]
  },
  {
   "cell_type": "markdown",
   "id": "926ffa0d",
   "metadata": {},
   "source": [
    "In order to determine unique genres, I first had to clean the special characters around the values. I ddi that and created a new data frame with the clean genres to work from."
   ]
  },
  {
   "cell_type": "code",
   "execution_count": 4,
   "id": "dbb1fd3f",
   "metadata": {},
   "outputs": [
    {
     "name": "stderr",
     "output_type": "stream",
     "text": [
      "/var/folders/x6/mfh33q7s3cvc898c6t2db6jc0000gp/T/ipykernel_48003/1591239276.py:2: FutureWarning: The default value of regex will change from True to False in a future version. In addition, single character regular expressions will *not* be treated as literal strings when regex=True.\n",
      "  titles_df['genres'] = titles_df['genres'].str.replace(\",\",'').str.replace(\"[\",'').str.replace(\"]\",'').str.replace(\"'\",'')\n"
     ]
    },
    {
     "data": {
      "text/html": [
       "<div>\n",
       "<style scoped>\n",
       "    .dataframe tbody tr th:only-of-type {\n",
       "        vertical-align: middle;\n",
       "    }\n",
       "\n",
       "    .dataframe tbody tr th {\n",
       "        vertical-align: top;\n",
       "    }\n",
       "\n",
       "    .dataframe thead th {\n",
       "        text-align: right;\n",
       "    }\n",
       "</style>\n",
       "<table border=\"1\" class=\"dataframe\">\n",
       "  <thead>\n",
       "    <tr style=\"text-align: right;\">\n",
       "      <th></th>\n",
       "      <th>id</th>\n",
       "      <th>title</th>\n",
       "      <th>type</th>\n",
       "      <th>description</th>\n",
       "      <th>release_year</th>\n",
       "      <th>age_certification</th>\n",
       "      <th>runtime</th>\n",
       "      <th>genres</th>\n",
       "      <th>production_countries</th>\n",
       "      <th>seasons</th>\n",
       "      <th>imdb_id</th>\n",
       "      <th>imdb_score</th>\n",
       "      <th>imdb_votes</th>\n",
       "      <th>tmdb_popularity</th>\n",
       "      <th>tmdb_score</th>\n",
       "    </tr>\n",
       "  </thead>\n",
       "  <tbody>\n",
       "    <tr>\n",
       "      <th>0</th>\n",
       "      <td>ts300399</td>\n",
       "      <td>Five Came Back: The Reference Films</td>\n",
       "      <td>SHOW</td>\n",
       "      <td>This collection includes 12 World War II-era p...</td>\n",
       "      <td>1945</td>\n",
       "      <td>TV-MA</td>\n",
       "      <td>48</td>\n",
       "      <td>documentation</td>\n",
       "      <td>['US']</td>\n",
       "      <td>1.0</td>\n",
       "      <td>NaN</td>\n",
       "      <td>NaN</td>\n",
       "      <td>NaN</td>\n",
       "      <td>0.600</td>\n",
       "      <td>NaN</td>\n",
       "    </tr>\n",
       "    <tr>\n",
       "      <th>1</th>\n",
       "      <td>tm84618</td>\n",
       "      <td>Taxi Driver</td>\n",
       "      <td>MOVIE</td>\n",
       "      <td>A mentally unstable Vietnam War veteran works ...</td>\n",
       "      <td>1976</td>\n",
       "      <td>R</td>\n",
       "      <td>113</td>\n",
       "      <td>crime drama</td>\n",
       "      <td>['US']</td>\n",
       "      <td>NaN</td>\n",
       "      <td>tt0075314</td>\n",
       "      <td>8.3</td>\n",
       "      <td>795222.0</td>\n",
       "      <td>27.612</td>\n",
       "      <td>8.2</td>\n",
       "    </tr>\n",
       "    <tr>\n",
       "      <th>2</th>\n",
       "      <td>tm127384</td>\n",
       "      <td>Monty Python and the Holy Grail</td>\n",
       "      <td>MOVIE</td>\n",
       "      <td>King Arthur, accompanied by his squire, recrui...</td>\n",
       "      <td>1975</td>\n",
       "      <td>PG</td>\n",
       "      <td>91</td>\n",
       "      <td>comedy fantasy</td>\n",
       "      <td>['GB']</td>\n",
       "      <td>NaN</td>\n",
       "      <td>tt0071853</td>\n",
       "      <td>8.2</td>\n",
       "      <td>530877.0</td>\n",
       "      <td>18.216</td>\n",
       "      <td>7.8</td>\n",
       "    </tr>\n",
       "    <tr>\n",
       "      <th>3</th>\n",
       "      <td>tm70993</td>\n",
       "      <td>Life of Brian</td>\n",
       "      <td>MOVIE</td>\n",
       "      <td>Brian Cohen is an average young Jewish man, bu...</td>\n",
       "      <td>1979</td>\n",
       "      <td>R</td>\n",
       "      <td>94</td>\n",
       "      <td>comedy</td>\n",
       "      <td>['GB']</td>\n",
       "      <td>NaN</td>\n",
       "      <td>tt0079470</td>\n",
       "      <td>8.0</td>\n",
       "      <td>392419.0</td>\n",
       "      <td>17.505</td>\n",
       "      <td>7.8</td>\n",
       "    </tr>\n",
       "    <tr>\n",
       "      <th>4</th>\n",
       "      <td>tm190788</td>\n",
       "      <td>The Exorcist</td>\n",
       "      <td>MOVIE</td>\n",
       "      <td>12-year-old Regan MacNeil begins to adapt an e...</td>\n",
       "      <td>1973</td>\n",
       "      <td>R</td>\n",
       "      <td>133</td>\n",
       "      <td>horror</td>\n",
       "      <td>['US']</td>\n",
       "      <td>NaN</td>\n",
       "      <td>tt0070047</td>\n",
       "      <td>8.1</td>\n",
       "      <td>391942.0</td>\n",
       "      <td>95.337</td>\n",
       "      <td>7.7</td>\n",
       "    </tr>\n",
       "  </tbody>\n",
       "</table>\n",
       "</div>"
      ],
      "text/plain": [
       "         id                                title   type  \\\n",
       "0  ts300399  Five Came Back: The Reference Films   SHOW   \n",
       "1   tm84618                          Taxi Driver  MOVIE   \n",
       "2  tm127384      Monty Python and the Holy Grail  MOVIE   \n",
       "3   tm70993                        Life of Brian  MOVIE   \n",
       "4  tm190788                         The Exorcist  MOVIE   \n",
       "\n",
       "                                         description  release_year  \\\n",
       "0  This collection includes 12 World War II-era p...          1945   \n",
       "1  A mentally unstable Vietnam War veteran works ...          1976   \n",
       "2  King Arthur, accompanied by his squire, recrui...          1975   \n",
       "3  Brian Cohen is an average young Jewish man, bu...          1979   \n",
       "4  12-year-old Regan MacNeil begins to adapt an e...          1973   \n",
       "\n",
       "  age_certification  runtime          genres production_countries  seasons  \\\n",
       "0             TV-MA       48   documentation               ['US']      1.0   \n",
       "1                 R      113     crime drama               ['US']      NaN   \n",
       "2                PG       91  comedy fantasy               ['GB']      NaN   \n",
       "3                 R       94          comedy               ['GB']      NaN   \n",
       "4                 R      133          horror               ['US']      NaN   \n",
       "\n",
       "     imdb_id  imdb_score  imdb_votes  tmdb_popularity  tmdb_score  \n",
       "0        NaN         NaN         NaN            0.600         NaN  \n",
       "1  tt0075314         8.3    795222.0           27.612         8.2  \n",
       "2  tt0071853         8.2    530877.0           18.216         7.8  \n",
       "3  tt0079470         8.0    392419.0           17.505         7.8  \n",
       "4  tt0070047         8.1    391942.0           95.337         7.7  "
      ]
     },
     "execution_count": 4,
     "metadata": {},
     "output_type": "execute_result"
    }
   ],
   "source": [
    "#Remove all special characters from genres\n",
    "titles_df['genres'] = titles_df['genres'].str.replace(\",\",'').str.replace(\"[\",'').str.replace(\"]\",'').str.replace(\"'\",'')      \n",
    "\n",
    "titles_clean_genre = titles_df\n",
    "\n",
    "titles_clean_genre.head()   "
   ]
  },
  {
   "cell_type": "markdown",
   "id": "f879ea00",
   "metadata": {},
   "source": [
    "Then I created a list with all the genres as individual elements and split the elements that had multiple genres combined. Finally, I appended all unique items in that list to a new list called unique_genres."
   ]
  },
  {
   "cell_type": "code",
   "execution_count": 5,
   "id": "414fb921",
   "metadata": {},
   "outputs": [
    {
     "name": "stdout",
     "output_type": "stream",
     "text": [
      "['documentation', 'crime', 'comedy', 'horror', 'thriller', 'drama', 'romance', 'western', 'war', 'fantasy', 'scifi', 'action', 'family', 'animation', 'reality', '', 'music', 'history', 'sport']\n"
     ]
    }
   ],
   "source": [
    "all_genres = list(chain(titles_clean_genre['genres']))\n",
    "all_genres = [genre.split(' ')[0] for genre in all_genres]\n",
    "\n",
    "unique_genres = []\n",
    "\n",
    "for genre in all_genres: \n",
    "    if genre not in unique_genres:\n",
    "        unique_genres.append(genre)\n",
    "\n",
    "print(unique_genres)"
   ]
  },
  {
   "cell_type": "markdown",
   "id": "c6916bad",
   "metadata": {},
   "source": [
    "## Question 2\n",
    "Print the release year and the imdb score of the highest average score of all movies by year. This is trickier than it sounds. To do this you will need to aggregate the means by year. If you use the simple method you will get a pandas series. The series will need to be converted to a dataframe and the index will need to be set as a column (release year). Once you have done that you can find the numerical index with the highest average imdb score. "
   ]
  },
  {
   "cell_type": "markdown",
   "id": "f81eace3",
   "metadata": {},
   "source": [
    "I first created a new data frame with just title, release_year, and imdb_score to work with."
   ]
  },
  {
   "cell_type": "code",
   "execution_count": 6,
   "id": "c0f1525d",
   "metadata": {},
   "outputs": [
    {
     "data": {
      "text/html": [
       "<div>\n",
       "<style scoped>\n",
       "    .dataframe tbody tr th:only-of-type {\n",
       "        vertical-align: middle;\n",
       "    }\n",
       "\n",
       "    .dataframe tbody tr th {\n",
       "        vertical-align: top;\n",
       "    }\n",
       "\n",
       "    .dataframe thead th {\n",
       "        text-align: right;\n",
       "    }\n",
       "</style>\n",
       "<table border=\"1\" class=\"dataframe\">\n",
       "  <thead>\n",
       "    <tr style=\"text-align: right;\">\n",
       "      <th></th>\n",
       "      <th>title</th>\n",
       "      <th>release_year</th>\n",
       "      <th>imdb_score</th>\n",
       "    </tr>\n",
       "  </thead>\n",
       "  <tbody>\n",
       "    <tr>\n",
       "      <th>0</th>\n",
       "      <td>Five Came Back: The Reference Films</td>\n",
       "      <td>1945</td>\n",
       "      <td>NaN</td>\n",
       "    </tr>\n",
       "    <tr>\n",
       "      <th>1</th>\n",
       "      <td>Taxi Driver</td>\n",
       "      <td>1976</td>\n",
       "      <td>8.3</td>\n",
       "    </tr>\n",
       "    <tr>\n",
       "      <th>2</th>\n",
       "      <td>Monty Python and the Holy Grail</td>\n",
       "      <td>1975</td>\n",
       "      <td>8.2</td>\n",
       "    </tr>\n",
       "    <tr>\n",
       "      <th>3</th>\n",
       "      <td>Life of Brian</td>\n",
       "      <td>1979</td>\n",
       "      <td>8.0</td>\n",
       "    </tr>\n",
       "    <tr>\n",
       "      <th>4</th>\n",
       "      <td>The Exorcist</td>\n",
       "      <td>1973</td>\n",
       "      <td>8.1</td>\n",
       "    </tr>\n",
       "  </tbody>\n",
       "</table>\n",
       "</div>"
      ],
      "text/plain": [
       "                                 title  release_year  imdb_score\n",
       "0  Five Came Back: The Reference Films          1945         NaN\n",
       "1                          Taxi Driver          1976         8.3\n",
       "2      Monty Python and the Holy Grail          1975         8.2\n",
       "3                        Life of Brian          1979         8.0\n",
       "4                         The Exorcist          1973         8.1"
      ]
     },
     "execution_count": 6,
     "metadata": {},
     "output_type": "execute_result"
    }
   ],
   "source": [
    "# your code here\n",
    "titles_imdb_year = titles_clean_genre[['title', 'release_year','imdb_score']]\n",
    "\n",
    "titles_imdb_year.head()"
   ]
  },
  {
   "cell_type": "markdown",
   "id": "0d3f70a7",
   "metadata": {},
   "source": [
    "There is an NaN value in the first row under imdb_score, so I made sure to drop all values that had NA values throughout my selection of columns."
   ]
  },
  {
   "cell_type": "code",
   "execution_count": 7,
   "id": "83fdbead",
   "metadata": {},
   "outputs": [
    {
     "data": {
      "text/html": [
       "<div>\n",
       "<style scoped>\n",
       "    .dataframe tbody tr th:only-of-type {\n",
       "        vertical-align: middle;\n",
       "    }\n",
       "\n",
       "    .dataframe tbody tr th {\n",
       "        vertical-align: top;\n",
       "    }\n",
       "\n",
       "    .dataframe thead th {\n",
       "        text-align: right;\n",
       "    }\n",
       "</style>\n",
       "<table border=\"1\" class=\"dataframe\">\n",
       "  <thead>\n",
       "    <tr style=\"text-align: right;\">\n",
       "      <th></th>\n",
       "      <th>title</th>\n",
       "      <th>release_year</th>\n",
       "      <th>imdb_score</th>\n",
       "    </tr>\n",
       "  </thead>\n",
       "  <tbody>\n",
       "    <tr>\n",
       "      <th>1</th>\n",
       "      <td>Taxi Driver</td>\n",
       "      <td>1976</td>\n",
       "      <td>8.3</td>\n",
       "    </tr>\n",
       "    <tr>\n",
       "      <th>2</th>\n",
       "      <td>Monty Python and the Holy Grail</td>\n",
       "      <td>1975</td>\n",
       "      <td>8.2</td>\n",
       "    </tr>\n",
       "    <tr>\n",
       "      <th>3</th>\n",
       "      <td>Life of Brian</td>\n",
       "      <td>1979</td>\n",
       "      <td>8.0</td>\n",
       "    </tr>\n",
       "    <tr>\n",
       "      <th>4</th>\n",
       "      <td>The Exorcist</td>\n",
       "      <td>1973</td>\n",
       "      <td>8.1</td>\n",
       "    </tr>\n",
       "    <tr>\n",
       "      <th>5</th>\n",
       "      <td>Monty Python's Flying Circus</td>\n",
       "      <td>1969</td>\n",
       "      <td>8.8</td>\n",
       "    </tr>\n",
       "  </tbody>\n",
       "</table>\n",
       "</div>"
      ],
      "text/plain": [
       "                             title  release_year  imdb_score\n",
       "1                      Taxi Driver          1976         8.3\n",
       "2  Monty Python and the Holy Grail          1975         8.2\n",
       "3                    Life of Brian          1979         8.0\n",
       "4                     The Exorcist          1973         8.1\n",
       "5     Monty Python's Flying Circus          1969         8.8"
      ]
     },
     "execution_count": 7,
     "metadata": {},
     "output_type": "execute_result"
    }
   ],
   "source": [
    "titles_imdb_year = titles_imdb_year.dropna()\n",
    "\n",
    "titles_imdb_year.head()"
   ]
  },
  {
   "cell_type": "markdown",
   "id": "896ca8fe",
   "metadata": {},
   "source": [
    "Then I grouped the items by release year and found the mean imdb_score."
   ]
  },
  {
   "cell_type": "code",
   "execution_count": 8,
   "id": "2ce2c79c",
   "metadata": {},
   "outputs": [
    {
     "data": {
      "text/html": [
       "<div>\n",
       "<style scoped>\n",
       "    .dataframe tbody tr th:only-of-type {\n",
       "        vertical-align: middle;\n",
       "    }\n",
       "\n",
       "    .dataframe tbody tr th {\n",
       "        vertical-align: top;\n",
       "    }\n",
       "\n",
       "    .dataframe thead th {\n",
       "        text-align: right;\n",
       "    }\n",
       "</style>\n",
       "<table border=\"1\" class=\"dataframe\">\n",
       "  <thead>\n",
       "    <tr style=\"text-align: right;\">\n",
       "      <th></th>\n",
       "      <th>imdb_score</th>\n",
       "    </tr>\n",
       "    <tr>\n",
       "      <th>release_year</th>\n",
       "      <th></th>\n",
       "    </tr>\n",
       "  </thead>\n",
       "  <tbody>\n",
       "    <tr>\n",
       "      <th>1953</th>\n",
       "      <td>6.80</td>\n",
       "    </tr>\n",
       "    <tr>\n",
       "      <th>1954</th>\n",
       "      <td>7.45</td>\n",
       "    </tr>\n",
       "    <tr>\n",
       "      <th>1956</th>\n",
       "      <td>6.70</td>\n",
       "    </tr>\n",
       "    <tr>\n",
       "      <th>1958</th>\n",
       "      <td>7.50</td>\n",
       "    </tr>\n",
       "    <tr>\n",
       "      <th>1959</th>\n",
       "      <td>6.70</td>\n",
       "    </tr>\n",
       "  </tbody>\n",
       "</table>\n",
       "</div>"
      ],
      "text/plain": [
       "              imdb_score\n",
       "release_year            \n",
       "1953                6.80\n",
       "1954                7.45\n",
       "1956                6.70\n",
       "1958                7.50\n",
       "1959                6.70"
      ]
     },
     "execution_count": 8,
     "metadata": {},
     "output_type": "execute_result"
    }
   ],
   "source": [
    "avg_imdb_by_year = titles_imdb_year.groupby(['release_year'])['imdb_score'].mean()\n",
    "\n",
    "avg_imdb_by_year = avg_imdb_by_year.to_frame()\n",
    "\n",
    "avg_imdb_by_year.head()\n"
   ]
  },
  {
   "cell_type": "markdown",
   "id": "66a711c1",
   "metadata": {},
   "source": [
    "After that, I had to find the highest average score and what year that average was in."
   ]
  },
  {
   "cell_type": "code",
   "execution_count": 9,
   "id": "c408f21b",
   "metadata": {},
   "outputs": [
    {
     "data": {
      "text/plain": [
       "imdb_score    8.0\n",
       "Name: 1985, dtype: float64"
      ]
     },
     "execution_count": 9,
     "metadata": {},
     "output_type": "execute_result"
    }
   ],
   "source": [
    "highest_avg_imdb_score = avg_imdb_by_year.iloc[avg_imdb_by_year.imdb_score.argmax()]\n",
    "\n",
    "highest_avg_imdb_score"
   ]
  },
  {
   "cell_type": "markdown",
   "id": "aedc7b56",
   "metadata": {},
   "source": [
    "The highest average IMDB score was in 1985 with a score of 8.0."
   ]
  },
  {
   "cell_type": "markdown",
   "id": "d85c8321",
   "metadata": {},
   "source": [
    "## Question 3\n",
    "There were 208 actors in the movie with the most credited actors. What is the title of that movie? Nulls and NaN values do not count. "
   ]
  },
  {
   "cell_type": "markdown",
   "id": "8544799e",
   "metadata": {},
   "source": [
    "I wanted to see how many rows would be dropped by using dropna() right away, and it was more than if I limited the data frame to just the variables I was interested in. So I created a dataframe with only movie_id and role selected. "
   ]
  },
  {
   "cell_type": "code",
   "execution_count": 10,
   "id": "46a63aa3",
   "metadata": {
    "scrolled": true
   },
   "outputs": [
    {
     "name": "stdout",
     "output_type": "stream",
     "text": [
      "(67586, 5)\n",
      "        id             name   role\n",
      "0  tm84618   Robert De Niro  ACTOR\n",
      "1  tm84618     Jodie Foster  ACTOR\n",
      "2  tm84618    Albert Brooks  ACTOR\n",
      "3  tm84618    Harvey Keitel  ACTOR\n",
      "4  tm84618  Cybill Shepherd  ACTOR\n",
      "(77213, 3)\n"
     ]
    }
   ],
   "source": [
    "# your code here\n",
    "print(credits_df.dropna().shape)\n",
    "\n",
    "id_role_credits_df = credits_df[['id','name','role']] \n",
    "print(id_role_credits_df.head()) \n",
    "\n",
    "print(id_role_credits_df.shape) "
   ]
  },
  {
   "cell_type": "markdown",
   "id": "d6c637c6",
   "metadata": {},
   "source": [
    "Then just to confirm that there were no NA values in my new dataframe, I ran dropna() again."
   ]
  },
  {
   "cell_type": "code",
   "execution_count": 11,
   "id": "8f4884cf",
   "metadata": {},
   "outputs": [
    {
     "name": "stdout",
     "output_type": "stream",
     "text": [
      "(77213, 3)\n"
     ]
    }
   ],
   "source": [
    "clean_id_role_credits = id_role_credits_df.dropna()\n",
    "\n",
    "\n",
    "print(clean_id_role_credits.shape)"
   ]
  },
  {
   "cell_type": "markdown",
   "id": "4be8b796",
   "metadata": {},
   "source": [
    "We need to remove directors since we only care about Actor roles."
   ]
  },
  {
   "cell_type": "code",
   "execution_count": 12,
   "id": "038d3c45",
   "metadata": {},
   "outputs": [
    {
     "name": "stdout",
     "output_type": "stream",
     "text": [
      "        id             name   role\n",
      "0  tm84618   Robert De Niro  ACTOR\n",
      "1  tm84618     Jodie Foster  ACTOR\n",
      "2  tm84618    Albert Brooks  ACTOR\n",
      "3  tm84618    Harvey Keitel  ACTOR\n",
      "4  tm84618  Cybill Shepherd  ACTOR\n",
      "(72690, 3)\n"
     ]
    }
   ],
   "source": [
    "id_actor_credits = clean_id_role_credits.loc[clean_id_role_credits['role'].str.upper() == 'ACTOR']\n",
    "\n",
    "print(id_actor_credits.head())\n",
    "\n",
    "print(id_actor_credits.shape)"
   ]
  },
  {
   "cell_type": "markdown",
   "id": "d536b7cd",
   "metadata": {},
   "source": [
    "We went from 77213 rows to 72690 rows so we cut a few thousand director credits and limited our dataframe to only actors."
   ]
  },
  {
   "cell_type": "markdown",
   "id": "e5d45024",
   "metadata": {},
   "source": [
    "I then created a new dataframe with total actors by id. This also automatically sorts by descending value"
   ]
  },
  {
   "cell_type": "code",
   "execution_count": 13,
   "id": "f2875054",
   "metadata": {
    "scrolled": true
   },
   "outputs": [
    {
     "data": {
      "text/html": [
       "<div>\n",
       "<style scoped>\n",
       "    .dataframe tbody tr th:only-of-type {\n",
       "        vertical-align: middle;\n",
       "    }\n",
       "\n",
       "    .dataframe tbody tr th {\n",
       "        vertical-align: top;\n",
       "    }\n",
       "\n",
       "    .dataframe thead th {\n",
       "        text-align: right;\n",
       "    }\n",
       "</style>\n",
       "<table border=\"1\" class=\"dataframe\">\n",
       "  <thead>\n",
       "    <tr style=\"text-align: right;\">\n",
       "      <th></th>\n",
       "      <th>index</th>\n",
       "      <th>Total Actors</th>\n",
       "    </tr>\n",
       "  </thead>\n",
       "  <tbody>\n",
       "    <tr>\n",
       "      <th>0</th>\n",
       "      <td>tm32982</td>\n",
       "      <td>207</td>\n",
       "    </tr>\n",
       "    <tr>\n",
       "      <th>1</th>\n",
       "      <td>tm244149</td>\n",
       "      <td>173</td>\n",
       "    </tr>\n",
       "    <tr>\n",
       "      <th>2</th>\n",
       "      <td>tm84613</td>\n",
       "      <td>149</td>\n",
       "    </tr>\n",
       "    <tr>\n",
       "      <th>3</th>\n",
       "      <td>tm467467</td>\n",
       "      <td>137</td>\n",
       "    </tr>\n",
       "    <tr>\n",
       "      <th>4</th>\n",
       "      <td>tm158304</td>\n",
       "      <td>136</td>\n",
       "    </tr>\n",
       "  </tbody>\n",
       "</table>\n",
       "</div>"
      ],
      "text/plain": [
       "      index  Total Actors\n",
       "0   tm32982           207\n",
       "1  tm244149           173\n",
       "2   tm84613           149\n",
       "3  tm467467           137\n",
       "4  tm158304           136"
      ]
     },
     "execution_count": 13,
     "metadata": {},
     "output_type": "execute_result"
    }
   ],
   "source": [
    "total_actors_by_id = id_actor_credits.id.value_counts().reset_index(name='Total Actors') \n",
    "\n",
    "total_actors_by_id.head()"
   ]
  },
  {
   "cell_type": "markdown",
   "id": "dd710559",
   "metadata": {},
   "source": [
    "We have our movie with the most actors and it is tm32982. We will use this to search our title data frame for the right movie title."
   ]
  },
  {
   "cell_type": "code",
   "execution_count": 14,
   "id": "e87298ec",
   "metadata": {},
   "outputs": [
    {
     "name": "stdout",
     "output_type": "stream",
     "text": [
      "          id           title   type  \\\n",
      "718  tm32982  Les Misérables  MOVIE   \n",
      "\n",
      "                                           description  release_year  \\\n",
      "718  An adaptation of the successful stage musical ...          2012   \n",
      "\n",
      "    age_certification  runtime                     genres  \\\n",
      "718             PG-13      157  drama romance history war   \n",
      "\n",
      "    production_countries  seasons    imdb_id  imdb_score  imdb_votes  \\\n",
      "718         ['GB', 'US']      NaN  tt1707386         7.5    325132.0   \n",
      "\n",
      "     tmdb_popularity  tmdb_score  \n",
      "718             18.0         7.3  \n"
     ]
    }
   ],
   "source": [
    "most_actor_movie = titles_df.loc[titles_df['id'] == 'tm32982']\n",
    "\n",
    "print(most_actor_movie)"
   ]
  },
  {
   "cell_type": "markdown",
   "id": "d6e05c4c",
   "metadata": {},
   "source": [
    "The movie with the most credited actors is Les Miserables(2012)"
   ]
  },
  {
   "cell_type": "markdown",
   "id": "9ec37669",
   "metadata": {},
   "source": [
    "## Question 4\n",
    "Which movie has the highest IMDB score for the actor Robert De Niro? What year was it made? Create a kdeplot (kernel density estimation to show the distribution of his IMDB movie scores. "
   ]
  },
  {
   "cell_type": "code",
   "execution_count": 15,
   "id": "3c646d4e",
   "metadata": {},
   "outputs": [
    {
     "name": "stdout",
     "output_type": "stream",
     "text": [
      "(10, 3)\n",
      "             id            name   role\n",
      "0       tm84618  Robert De Niro  ACTOR\n",
      "798    tm180542  Robert De Niro  ACTOR\n",
      "1048   tm145608  Robert De Niro  ACTOR\n",
      "6356    tm84906  Robert De Niro  ACTOR\n",
      "14755   tm59428  Robert De Niro  ACTOR\n",
      "15676  tm165995  Robert De Niro  ACTOR\n",
      "19309  tm181533  Robert De Niro  ACTOR\n",
      "44208  tm311902  Robert De Niro  ACTOR\n",
      "46481  tm244149  Robert De Niro  ACTOR\n",
      "61454  tm844497  Robert De Niro  ACTOR\n"
     ]
    }
   ],
   "source": [
    "# your code here\n",
    "robert_deniro_movies = clean_id_role_credits.loc[clean_id_role_credits['name'] == 'Robert De Niro']\n",
    "\n",
    "print(robert_deniro_movies.shape)\n",
    "\n",
    "print(robert_deniro_movies)"
   ]
  },
  {
   "cell_type": "markdown",
   "id": "1b100926",
   "metadata": {},
   "source": [
    "I found ten Robert De Niro movies from the credits dataframe and merged titles and robert de niro movies data frames by id\n"
   ]
  },
  {
   "cell_type": "code",
   "execution_count": 18,
   "id": "3fa14525",
   "metadata": {},
   "outputs": [
    {
     "data": {
      "text/html": [
       "<div>\n",
       "<style scoped>\n",
       "    .dataframe tbody tr th:only-of-type {\n",
       "        vertical-align: middle;\n",
       "    }\n",
       "\n",
       "    .dataframe tbody tr th {\n",
       "        vertical-align: top;\n",
       "    }\n",
       "\n",
       "    .dataframe thead th {\n",
       "        text-align: right;\n",
       "    }\n",
       "</style>\n",
       "<table border=\"1\" class=\"dataframe\">\n",
       "  <thead>\n",
       "    <tr style=\"text-align: right;\">\n",
       "      <th></th>\n",
       "      <th>id</th>\n",
       "      <th>name</th>\n",
       "      <th>role</th>\n",
       "      <th>title</th>\n",
       "      <th>type</th>\n",
       "      <th>description</th>\n",
       "      <th>release_year</th>\n",
       "      <th>age_certification</th>\n",
       "      <th>runtime</th>\n",
       "      <th>genres</th>\n",
       "      <th>production_countries</th>\n",
       "      <th>seasons</th>\n",
       "      <th>imdb_id</th>\n",
       "      <th>imdb_score</th>\n",
       "      <th>imdb_votes</th>\n",
       "      <th>tmdb_popularity</th>\n",
       "      <th>tmdb_score</th>\n",
       "    </tr>\n",
       "  </thead>\n",
       "  <tbody>\n",
       "    <tr>\n",
       "      <th>0</th>\n",
       "      <td>tm84618</td>\n",
       "      <td>Robert De Niro</td>\n",
       "      <td>ACTOR</td>\n",
       "      <td>Taxi Driver</td>\n",
       "      <td>MOVIE</td>\n",
       "      <td>A mentally unstable Vietnam War veteran works ...</td>\n",
       "      <td>1976</td>\n",
       "      <td>R</td>\n",
       "      <td>113</td>\n",
       "      <td>crime drama</td>\n",
       "      <td>['US']</td>\n",
       "      <td>NaN</td>\n",
       "      <td>tt0075314</td>\n",
       "      <td>8.3</td>\n",
       "      <td>795222.0</td>\n",
       "      <td>27.612</td>\n",
       "      <td>8.2</td>\n",
       "    </tr>\n",
       "    <tr>\n",
       "      <th>1</th>\n",
       "      <td>tm180542</td>\n",
       "      <td>Robert De Niro</td>\n",
       "      <td>ACTOR</td>\n",
       "      <td>Once Upon a Time in America</td>\n",
       "      <td>MOVIE</td>\n",
       "      <td>A former Prohibition-era Jewish gangster retur...</td>\n",
       "      <td>1984</td>\n",
       "      <td>R</td>\n",
       "      <td>229</td>\n",
       "      <td>drama crime european</td>\n",
       "      <td>['US', 'IT']</td>\n",
       "      <td>NaN</td>\n",
       "      <td>tt0087843</td>\n",
       "      <td>8.3</td>\n",
       "      <td>342335.0</td>\n",
       "      <td>21.322</td>\n",
       "      <td>8.4</td>\n",
       "    </tr>\n",
       "    <tr>\n",
       "      <th>2</th>\n",
       "      <td>tm145608</td>\n",
       "      <td>Robert De Niro</td>\n",
       "      <td>ACTOR</td>\n",
       "      <td>Awakenings</td>\n",
       "      <td>MOVIE</td>\n",
       "      <td>Dr. Malcolm Sayer, a shy research physician, u...</td>\n",
       "      <td>1990</td>\n",
       "      <td>PG-13</td>\n",
       "      <td>120</td>\n",
       "      <td>drama european</td>\n",
       "      <td>['US']</td>\n",
       "      <td>NaN</td>\n",
       "      <td>tt0099077</td>\n",
       "      <td>7.8</td>\n",
       "      <td>137549.0</td>\n",
       "      <td>13.761</td>\n",
       "      <td>7.8</td>\n",
       "    </tr>\n",
       "    <tr>\n",
       "      <th>3</th>\n",
       "      <td>tm84906</td>\n",
       "      <td>Robert De Niro</td>\n",
       "      <td>ACTOR</td>\n",
       "      <td>Stardust</td>\n",
       "      <td>MOVIE</td>\n",
       "      <td>In a countryside town bordering on a magical l...</td>\n",
       "      <td>2007</td>\n",
       "      <td>PG-13</td>\n",
       "      <td>122</td>\n",
       "      <td>fantasy romance family</td>\n",
       "      <td>['US', 'IS', 'GB']</td>\n",
       "      <td>NaN</td>\n",
       "      <td>tt0486655</td>\n",
       "      <td>7.6</td>\n",
       "      <td>269043.0</td>\n",
       "      <td>17.538</td>\n",
       "      <td>7.2</td>\n",
       "    </tr>\n",
       "    <tr>\n",
       "      <th>4</th>\n",
       "      <td>tm59428</td>\n",
       "      <td>Robert De Niro</td>\n",
       "      <td>ACTOR</td>\n",
       "      <td>Silver Linings Playbook</td>\n",
       "      <td>MOVIE</td>\n",
       "      <td>After spending eight months in a mental instit...</td>\n",
       "      <td>2012</td>\n",
       "      <td>R</td>\n",
       "      <td>122</td>\n",
       "      <td>drama romance comedy</td>\n",
       "      <td>['US']</td>\n",
       "      <td>NaN</td>\n",
       "      <td>tt1045658</td>\n",
       "      <td>7.7</td>\n",
       "      <td>697481.0</td>\n",
       "      <td>26.254</td>\n",
       "      <td>7.1</td>\n",
       "    </tr>\n",
       "    <tr>\n",
       "      <th>5</th>\n",
       "      <td>tm165995</td>\n",
       "      <td>Robert De Niro</td>\n",
       "      <td>ACTOR</td>\n",
       "      <td>New Year's Eve</td>\n",
       "      <td>MOVIE</td>\n",
       "      <td>The lives of several couples and singles in Ne...</td>\n",
       "      <td>2011</td>\n",
       "      <td>PG-13</td>\n",
       "      <td>113</td>\n",
       "      <td>comedy romance documentation</td>\n",
       "      <td>['US']</td>\n",
       "      <td>NaN</td>\n",
       "      <td>tt1598822</td>\n",
       "      <td>5.6</td>\n",
       "      <td>85658.0</td>\n",
       "      <td>24.531</td>\n",
       "      <td>5.9</td>\n",
       "    </tr>\n",
       "    <tr>\n",
       "      <th>6</th>\n",
       "      <td>tm181533</td>\n",
       "      <td>Robert De Niro</td>\n",
       "      <td>ACTOR</td>\n",
       "      <td>The Big Wedding</td>\n",
       "      <td>MOVIE</td>\n",
       "      <td>To the amusement of their adult children and f...</td>\n",
       "      <td>2013</td>\n",
       "      <td>R</td>\n",
       "      <td>90</td>\n",
       "      <td>comedy drama romance</td>\n",
       "      <td>['US']</td>\n",
       "      <td>NaN</td>\n",
       "      <td>tt1931435</td>\n",
       "      <td>5.6</td>\n",
       "      <td>49549.0</td>\n",
       "      <td>8.928</td>\n",
       "      <td>5.9</td>\n",
       "    </tr>\n",
       "    <tr>\n",
       "      <th>7</th>\n",
       "      <td>tm311902</td>\n",
       "      <td>Robert De Niro</td>\n",
       "      <td>ACTOR</td>\n",
       "      <td>Jim Norton: Mouthful of Shame</td>\n",
       "      <td>MOVIE</td>\n",
       "      <td>Fedoras, mom's underpants, and puppy love all ...</td>\n",
       "      <td>2017</td>\n",
       "      <td>NaN</td>\n",
       "      <td>61</td>\n",
       "      <td>comedy</td>\n",
       "      <td>['US']</td>\n",
       "      <td>NaN</td>\n",
       "      <td>tt6664120</td>\n",
       "      <td>7.0</td>\n",
       "      <td>1324.0</td>\n",
       "      <td>4.476</td>\n",
       "      <td>6.9</td>\n",
       "    </tr>\n",
       "    <tr>\n",
       "      <th>8</th>\n",
       "      <td>tm244149</td>\n",
       "      <td>Robert De Niro</td>\n",
       "      <td>ACTOR</td>\n",
       "      <td>The Irishman</td>\n",
       "      <td>MOVIE</td>\n",
       "      <td>Pennsylvania, 1956. Frank Sheeran, a war veter...</td>\n",
       "      <td>2019</td>\n",
       "      <td>R</td>\n",
       "      <td>209</td>\n",
       "      <td>drama crime history thriller</td>\n",
       "      <td>['US']</td>\n",
       "      <td>NaN</td>\n",
       "      <td>tt1302006</td>\n",
       "      <td>7.8</td>\n",
       "      <td>371209.0</td>\n",
       "      <td>19.740</td>\n",
       "      <td>7.6</td>\n",
       "    </tr>\n",
       "    <tr>\n",
       "      <th>9</th>\n",
       "      <td>tm844497</td>\n",
       "      <td>Robert De Niro</td>\n",
       "      <td>ACTOR</td>\n",
       "      <td>The Irishman: In Conversation</td>\n",
       "      <td>MOVIE</td>\n",
       "      <td>Martin Scorsese, Robert De Niro, Joe Pesci, an...</td>\n",
       "      <td>2019</td>\n",
       "      <td>NaN</td>\n",
       "      <td>23</td>\n",
       "      <td>documentation</td>\n",
       "      <td>['US']</td>\n",
       "      <td>NaN</td>\n",
       "      <td>NaN</td>\n",
       "      <td>NaN</td>\n",
       "      <td>NaN</td>\n",
       "      <td>6.995</td>\n",
       "      <td>7.6</td>\n",
       "    </tr>\n",
       "  </tbody>\n",
       "</table>\n",
       "</div>"
      ],
      "text/plain": [
       "         id            name   role                          title   type  \\\n",
       "0   tm84618  Robert De Niro  ACTOR                    Taxi Driver  MOVIE   \n",
       "1  tm180542  Robert De Niro  ACTOR    Once Upon a Time in America  MOVIE   \n",
       "2  tm145608  Robert De Niro  ACTOR                     Awakenings  MOVIE   \n",
       "3   tm84906  Robert De Niro  ACTOR                       Stardust  MOVIE   \n",
       "4   tm59428  Robert De Niro  ACTOR        Silver Linings Playbook  MOVIE   \n",
       "5  tm165995  Robert De Niro  ACTOR                 New Year's Eve  MOVIE   \n",
       "6  tm181533  Robert De Niro  ACTOR                The Big Wedding  MOVIE   \n",
       "7  tm311902  Robert De Niro  ACTOR  Jim Norton: Mouthful of Shame  MOVIE   \n",
       "8  tm244149  Robert De Niro  ACTOR                   The Irishman  MOVIE   \n",
       "9  tm844497  Robert De Niro  ACTOR  The Irishman: In Conversation  MOVIE   \n",
       "\n",
       "                                         description  release_year  \\\n",
       "0  A mentally unstable Vietnam War veteran works ...          1976   \n",
       "1  A former Prohibition-era Jewish gangster retur...          1984   \n",
       "2  Dr. Malcolm Sayer, a shy research physician, u...          1990   \n",
       "3  In a countryside town bordering on a magical l...          2007   \n",
       "4  After spending eight months in a mental instit...          2012   \n",
       "5  The lives of several couples and singles in Ne...          2011   \n",
       "6  To the amusement of their adult children and f...          2013   \n",
       "7  Fedoras, mom's underpants, and puppy love all ...          2017   \n",
       "8  Pennsylvania, 1956. Frank Sheeran, a war veter...          2019   \n",
       "9  Martin Scorsese, Robert De Niro, Joe Pesci, an...          2019   \n",
       "\n",
       "  age_certification  runtime                        genres  \\\n",
       "0                 R      113                   crime drama   \n",
       "1                 R      229          drama crime european   \n",
       "2             PG-13      120                drama european   \n",
       "3             PG-13      122        fantasy romance family   \n",
       "4                 R      122          drama romance comedy   \n",
       "5             PG-13      113  comedy romance documentation   \n",
       "6                 R       90          comedy drama romance   \n",
       "7               NaN       61                        comedy   \n",
       "8                 R      209  drama crime history thriller   \n",
       "9               NaN       23                 documentation   \n",
       "\n",
       "  production_countries  seasons    imdb_id  imdb_score  imdb_votes  \\\n",
       "0               ['US']      NaN  tt0075314         8.3    795222.0   \n",
       "1         ['US', 'IT']      NaN  tt0087843         8.3    342335.0   \n",
       "2               ['US']      NaN  tt0099077         7.8    137549.0   \n",
       "3   ['US', 'IS', 'GB']      NaN  tt0486655         7.6    269043.0   \n",
       "4               ['US']      NaN  tt1045658         7.7    697481.0   \n",
       "5               ['US']      NaN  tt1598822         5.6     85658.0   \n",
       "6               ['US']      NaN  tt1931435         5.6     49549.0   \n",
       "7               ['US']      NaN  tt6664120         7.0      1324.0   \n",
       "8               ['US']      NaN  tt1302006         7.8    371209.0   \n",
       "9               ['US']      NaN        NaN         NaN         NaN   \n",
       "\n",
       "   tmdb_popularity  tmdb_score  \n",
       "0           27.612         8.2  \n",
       "1           21.322         8.4  \n",
       "2           13.761         7.8  \n",
       "3           17.538         7.2  \n",
       "4           26.254         7.1  \n",
       "5           24.531         5.9  \n",
       "6            8.928         5.9  \n",
       "7            4.476         6.9  \n",
       "8           19.740         7.6  \n",
       "9            6.995         7.6  "
      ]
     },
     "execution_count": 18,
     "metadata": {},
     "output_type": "execute_result"
    }
   ],
   "source": [
    "robert_deniro_titles_merged = pd.merge(robert_deniro_movies, titles_df, on=\"id\") \n",
    "\n",
    "robert_deniro_titles_merged"
   ]
  },
  {
   "cell_type": "markdown",
   "id": "11d9402f",
   "metadata": {},
   "source": [
    "Then I needed to pull the rows with the highest imdb score"
   ]
  },
  {
   "cell_type": "code",
   "execution_count": 19,
   "id": "66d7f15e",
   "metadata": {},
   "outputs": [
    {
     "data": {
      "text/plain": [
       "id                                                                tm84618\n",
       "name                                                       Robert De Niro\n",
       "role                                                                ACTOR\n",
       "title                                                         Taxi Driver\n",
       "type                                                                MOVIE\n",
       "description             A mentally unstable Vietnam War veteran works ...\n",
       "release_year                                                         1976\n",
       "age_certification                                                       R\n",
       "runtime                                                               113\n",
       "genres                                                        crime drama\n",
       "production_countries                                               ['US']\n",
       "seasons                                                               NaN\n",
       "imdb_id                                                         tt0075314\n",
       "imdb_score                                                            8.3\n",
       "imdb_votes                                                       795222.0\n",
       "tmdb_popularity                                                    27.612\n",
       "tmdb_score                                                            8.2\n",
       "Name: 0, dtype: object"
      ]
     },
     "execution_count": 19,
     "metadata": {},
     "output_type": "execute_result"
    }
   ],
   "source": [
    "best_deniro_movies = robert_deniro_titles_merged.iloc[robert_deniro_titles_merged.imdb_score.argmax()] \n",
    "\n",
    "best_deniro_movies"
   ]
  },
  {
   "cell_type": "markdown",
   "id": "e979122b",
   "metadata": {},
   "source": [
    "The highest rated De Niro movie is Taxi Driver."
   ]
  },
  {
   "cell_type": "markdown",
   "id": "0e1de749",
   "metadata": {},
   "source": [
    "Then I created a seaborn kdeplot showing the density of imdb scores of movies with Robert De Niro"
   ]
  },
  {
   "cell_type": "code",
   "execution_count": 20,
   "id": "40301d55",
   "metadata": {
    "scrolled": true
   },
   "outputs": [
    {
     "data": {
      "image/png": "[encoded data removed]",
      "text/plain": [
       "<Figure size 640x480 with 1 Axes>"
      ]
     },
     "metadata": {},
     "output_type": "display_data"
    }
   ],
   "source": [
    "kde = sns.kdeplot(robert_deniro_titles_merged['imdb_score'], color = 'green', shade = True)\n",
    "plt.show()"
   ]
  },
  {
   "cell_type": "markdown",
   "id": "3128782b",
   "metadata": {},
   "source": [
    "## Question 5\n",
    "Create two new boolean columns in the titles dataframe that are true when the description contains war or gangster. Call these columns `war_movies` and `gangster_movies`. How many movies are there in both categories? Which category has a higher average IMDB score? Show the IMDB score kernel density estimations of both categories.\n"
   ]
  },
  {
   "cell_type": "markdown",
   "id": "faffb334",
   "metadata": {},
   "source": [
    "First I created a new dataframe with titles_df that we will use to add the new columns, then I added a war_movies and a gangster_movies column"
   ]
  },
  {
   "cell_type": "code",
   "execution_count": 21,
   "id": "53f3a149",
   "metadata": {},
   "outputs": [
    {
     "data": {
      "text/html": [
       "<div>\n",
       "<style scoped>\n",
       "    .dataframe tbody tr th:only-of-type {\n",
       "        vertical-align: middle;\n",
       "    }\n",
       "\n",
       "    .dataframe tbody tr th {\n",
       "        vertical-align: top;\n",
       "    }\n",
       "\n",
       "    .dataframe thead th {\n",
       "        text-align: right;\n",
       "    }\n",
       "</style>\n",
       "<table border=\"1\" class=\"dataframe\">\n",
       "  <thead>\n",
       "    <tr style=\"text-align: right;\">\n",
       "      <th></th>\n",
       "      <th>id</th>\n",
       "      <th>title</th>\n",
       "      <th>type</th>\n",
       "      <th>description</th>\n",
       "      <th>release_year</th>\n",
       "      <th>age_certification</th>\n",
       "      <th>runtime</th>\n",
       "      <th>genres</th>\n",
       "      <th>production_countries</th>\n",
       "      <th>seasons</th>\n",
       "      <th>imdb_id</th>\n",
       "      <th>imdb_score</th>\n",
       "      <th>imdb_votes</th>\n",
       "      <th>tmdb_popularity</th>\n",
       "      <th>tmdb_score</th>\n",
       "      <th>war_movies</th>\n",
       "      <th>gangster_movies</th>\n",
       "    </tr>\n",
       "  </thead>\n",
       "  <tbody>\n",
       "    <tr>\n",
       "      <th>0</th>\n",
       "      <td>ts300399</td>\n",
       "      <td>Five Came Back: The Reference Films</td>\n",
       "      <td>SHOW</td>\n",
       "      <td>This collection includes 12 World War II-era p...</td>\n",
       "      <td>1945</td>\n",
       "      <td>TV-MA</td>\n",
       "      <td>48</td>\n",
       "      <td>documentation</td>\n",
       "      <td>['US']</td>\n",
       "      <td>1.0</td>\n",
       "      <td>NaN</td>\n",
       "      <td>NaN</td>\n",
       "      <td>NaN</td>\n",
       "      <td>0.600</td>\n",
       "      <td>NaN</td>\n",
       "      <td>True</td>\n",
       "      <td>False</td>\n",
       "    </tr>\n",
       "    <tr>\n",
       "      <th>1</th>\n",
       "      <td>tm84618</td>\n",
       "      <td>Taxi Driver</td>\n",
       "      <td>MOVIE</td>\n",
       "      <td>A mentally unstable Vietnam War veteran works ...</td>\n",
       "      <td>1976</td>\n",
       "      <td>R</td>\n",
       "      <td>113</td>\n",
       "      <td>crime drama</td>\n",
       "      <td>['US']</td>\n",
       "      <td>NaN</td>\n",
       "      <td>tt0075314</td>\n",
       "      <td>8.3</td>\n",
       "      <td>795222.0</td>\n",
       "      <td>27.612</td>\n",
       "      <td>8.2</td>\n",
       "      <td>True</td>\n",
       "      <td>False</td>\n",
       "    </tr>\n",
       "    <tr>\n",
       "      <th>2</th>\n",
       "      <td>tm127384</td>\n",
       "      <td>Monty Python and the Holy Grail</td>\n",
       "      <td>MOVIE</td>\n",
       "      <td>King Arthur, accompanied by his squire, recrui...</td>\n",
       "      <td>1975</td>\n",
       "      <td>PG</td>\n",
       "      <td>91</td>\n",
       "      <td>comedy fantasy</td>\n",
       "      <td>['GB']</td>\n",
       "      <td>NaN</td>\n",
       "      <td>tt0071853</td>\n",
       "      <td>8.2</td>\n",
       "      <td>530877.0</td>\n",
       "      <td>18.216</td>\n",
       "      <td>7.8</td>\n",
       "      <td>False</td>\n",
       "      <td>False</td>\n",
       "    </tr>\n",
       "    <tr>\n",
       "      <th>3</th>\n",
       "      <td>tm70993</td>\n",
       "      <td>Life of Brian</td>\n",
       "      <td>MOVIE</td>\n",
       "      <td>Brian Cohen is an average young Jewish man, bu...</td>\n",
       "      <td>1979</td>\n",
       "      <td>R</td>\n",
       "      <td>94</td>\n",
       "      <td>comedy</td>\n",
       "      <td>['GB']</td>\n",
       "      <td>NaN</td>\n",
       "      <td>tt0079470</td>\n",
       "      <td>8.0</td>\n",
       "      <td>392419.0</td>\n",
       "      <td>17.505</td>\n",
       "      <td>7.8</td>\n",
       "      <td>False</td>\n",
       "      <td>False</td>\n",
       "    </tr>\n",
       "    <tr>\n",
       "      <th>4</th>\n",
       "      <td>tm190788</td>\n",
       "      <td>The Exorcist</td>\n",
       "      <td>MOVIE</td>\n",
       "      <td>12-year-old Regan MacNeil begins to adapt an e...</td>\n",
       "      <td>1973</td>\n",
       "      <td>R</td>\n",
       "      <td>133</td>\n",
       "      <td>horror</td>\n",
       "      <td>['US']</td>\n",
       "      <td>NaN</td>\n",
       "      <td>tt0070047</td>\n",
       "      <td>8.1</td>\n",
       "      <td>391942.0</td>\n",
       "      <td>95.337</td>\n",
       "      <td>7.7</td>\n",
       "      <td>False</td>\n",
       "      <td>False</td>\n",
       "    </tr>\n",
       "  </tbody>\n",
       "</table>\n",
       "</div>"
      ],
      "text/plain": [
       "         id                                title   type  \\\n",
       "0  ts300399  Five Came Back: The Reference Films   SHOW   \n",
       "1   tm84618                          Taxi Driver  MOVIE   \n",
       "2  tm127384      Monty Python and the Holy Grail  MOVIE   \n",
       "3   tm70993                        Life of Brian  MOVIE   \n",
       "4  tm190788                         The Exorcist  MOVIE   \n",
       "\n",
       "                                         description  release_year  \\\n",
       "0  This collection includes 12 World War II-era p...          1945   \n",
       "1  A mentally unstable Vietnam War veteran works ...          1976   \n",
       "2  King Arthur, accompanied by his squire, recrui...          1975   \n",
       "3  Brian Cohen is an average young Jewish man, bu...          1979   \n",
       "4  12-year-old Regan MacNeil begins to adapt an e...          1973   \n",
       "\n",
       "  age_certification  runtime          genres production_countries  seasons  \\\n",
       "0             TV-MA       48   documentation               ['US']      1.0   \n",
       "1                 R      113     crime drama               ['US']      NaN   \n",
       "2                PG       91  comedy fantasy               ['GB']      NaN   \n",
       "3                 R       94          comedy               ['GB']      NaN   \n",
       "4                 R      133          horror               ['US']      NaN   \n",
       "\n",
       "     imdb_id  imdb_score  imdb_votes  tmdb_popularity  tmdb_score war_movies  \\\n",
       "0        NaN         NaN         NaN            0.600         NaN       True   \n",
       "1  tt0075314         8.3    795222.0           27.612         8.2       True   \n",
       "2  tt0071853         8.2    530877.0           18.216         7.8      False   \n",
       "3  tt0079470         8.0    392419.0           17.505         7.8      False   \n",
       "4  tt0070047         8.1    391942.0           95.337         7.7      False   \n",
       "\n",
       "  gangster_movies  \n",
       "0           False  \n",
       "1           False  \n",
       "2           False  \n",
       "3           False  \n",
       "4           False  "
      ]
     },
     "execution_count": 21,
     "metadata": {},
     "output_type": "execute_result"
    }
   ],
   "source": [
    "# your code here\n",
    "titles_boolean_df = titles_df\n",
    "\n",
    "titles_boolean_df['war_movies'] = titles_boolean_df['description'].str.contains(\"war\", case = False) \n",
    "\n",
    "titles_boolean_df['gangster_movies'] = titles_boolean_df['description'].str.contains(\"gangster\", case = False) \n",
    "\n",
    "titles_boolean_df.head()\n"
   ]
  },
  {
   "cell_type": "markdown",
   "id": "82d1ed3a",
   "metadata": {},
   "source": [
    "Then I created a new data frame which selected rows where war movies or gangster movies equaled True"
   ]
  },
  {
   "cell_type": "code",
   "execution_count": 22,
   "id": "9cd5ccbf",
   "metadata": {},
   "outputs": [
    {
     "name": "stdout",
     "output_type": "stream",
     "text": [
      "          id                                title   type  \\\n",
      "0   ts300399  Five Came Back: The Reference Films   SHOW   \n",
      "1    tm84618                          Taxi Driver  MOVIE   \n",
      "15   tm16479                      White Christmas  MOVIE   \n",
      "19  tm156453                                  FTA  MOVIE   \n",
      "23   tm14350                     Alexandria… Why?  MOVIE   \n",
      "\n",
      "                                          description  release_year  \\\n",
      "0   This collection includes 12 World War II-era p...          1945   \n",
      "1   A mentally unstable Vietnam War veteran works ...          1976   \n",
      "15  Two talented song-and-dance men team up after ...          1954   \n",
      "19  A documentary about a political troupe headed ...          1972   \n",
      "23  Set against the panoramic backdrop of war-torn...          1979   \n",
      "\n",
      "   age_certification  runtime                      genres  \\\n",
      "0              TV-MA       48               documentation   \n",
      "1                  R      113                 crime drama   \n",
      "15               NaN      115        romance comedy music   \n",
      "19                 R       97  comedy documentation music   \n",
      "23               NaN      133                       drama   \n",
      "\n",
      "   production_countries  seasons    imdb_id  imdb_score  imdb_votes  \\\n",
      "0                ['US']      1.0        NaN         NaN         NaN   \n",
      "1                ['US']      NaN  tt0075314         8.3    795222.0   \n",
      "15               ['US']      NaN  tt0047673         7.5     42373.0   \n",
      "19               ['US']      NaN  tt0068562         6.2       411.0   \n",
      "23               ['EG']      NaN  tt0077751         7.2      1689.0   \n",
      "\n",
      "    tmdb_popularity  tmdb_score war_movies gangster_movies  \n",
      "0             0.600         NaN       True           False  \n",
      "1            27.612         8.2       True           False  \n",
      "15            9.710         7.2       True           False  \n",
      "19            2.466         6.1       True           False  \n",
      "23            1.736         6.0       True           False  \n",
      "(469, 17)\n"
     ]
    }
   ],
   "source": [
    "total_war_gangster_movies = titles_boolean_df.loc[(titles_boolean_df['war_movies'] == True) | (titles_boolean_df['gangster_movies'] == True)]\n",
    "\n",
    "print(total_war_gangster_movies.head())\n",
    "\n",
    "print(total_war_gangster_movies.shape)"
   ]
  },
  {
   "cell_type": "markdown",
   "id": "172687bb",
   "metadata": {},
   "source": [
    "Then I summed all war and gangster movies"
   ]
  },
  {
   "cell_type": "code",
   "execution_count": 24,
   "id": "60f163d8",
   "metadata": {},
   "outputs": [
    {
     "name": "stdout",
     "output_type": "stream",
     "text": [
      "Total war movie count is:  437\n",
      "Total gangster movie count is:  35\n"
     ]
    }
   ],
   "source": [
    "war_movies_count = total_war_gangster_movies['war_movies'].sum()\n",
    "\n",
    "gang_movies_count = total_war_gangster_movies['gangster_movies'].sum()\n",
    "\n",
    "print(\"Total war movie count is: \", war_movies_count)\n",
    "\n",
    "print(\"Total gangster movie count is: \", gang_movies_count)"
   ]
  },
  {
   "cell_type": "markdown",
   "id": "4e880ddb",
   "metadata": {},
   "source": [
    "I then averaged imdb score values of war_movies true and false groupings to get the average score of war movies.\n"
   ]
  },
  {
   "cell_type": "code",
   "execution_count": 25,
   "id": "c4b81f84",
   "metadata": {},
   "outputs": [
    {
     "name": "stdout",
     "output_type": "stream",
     "text": [
      "            imdb_score\n",
      "war_movies            \n",
      "False         6.514174\n",
      "True          6.772439\n",
      "Average imdb_score for war movies is: 6.77\n"
     ]
    }
   ],
   "source": [
    "avg_imdb_war = titles_boolean_df.groupby(['war_movies'])['imdb_score'].mean()\n",
    "\n",
    "avg_imdb_war = avg_imdb_war.to_frame()\n",
    "\n",
    "print(avg_imdb_war.head())\n",
    "\n",
    "print(\"Average imdb_score for war movies is: 6.77\")"
   ]
  },
  {
   "cell_type": "markdown",
   "id": "027274fe",
   "metadata": {},
   "source": [
    "Then I did the same thing but for gangster movies."
   ]
  },
  {
   "cell_type": "code",
   "execution_count": 26,
   "id": "d581730e",
   "metadata": {},
   "outputs": [
    {
     "name": "stdout",
     "output_type": "stream",
     "text": [
      "                 imdb_score\n",
      "gangster_movies            \n",
      "False              6.535190\n",
      "True               6.391429\n",
      "Average imdb_score for gangster movies is: 6.39\n"
     ]
    }
   ],
   "source": [
    "avg_imdb_gangster = titles_boolean_df.groupby(['gangster_movies'])['imdb_score'].mean() \n",
    "\n",
    "avg_imdb_gangster = avg_imdb_gangster.to_frame()\n",
    "\n",
    "print(avg_imdb_gangster.head())\n",
    "\n",
    "print(\"Average imdb_score for gangster movies is: 6.39\")"
   ]
  },
  {
   "cell_type": "markdown",
   "id": "1b0eeebe",
   "metadata": {},
   "source": [
    "War movies have the higher imdb average score of 6.77 as compared to 6.39 for gangster movies."
   ]
  },
  {
   "cell_type": "markdown",
   "id": "841cb9b9",
   "metadata": {},
   "source": [
    "Then I created a dataframe with only true values in 'war_movies' and used that to display a kdeplot of imdb score for war_movies."
   ]
  },
  {
   "cell_type": "code",
   "execution_count": 27,
   "id": "f9ffe257",
   "metadata": {},
   "outputs": [
    {
     "data": {
      "image/png": "[encoded data removed]",
      "text/plain": [
       "<Figure size 640x480 with 1 Axes>"
      ]
     },
     "metadata": {},
     "output_type": "display_data"
    }
   ],
   "source": [
    "total_war_movies = titles_boolean_df.loc[titles_boolean_df['war_movies']==True] \n",
    "\n",
    "kde = sns.kdeplot(total_war_movies['imdb_score'], color = 'blue', shade = True)\n",
    "plt.show()"
   ]
  },
  {
   "cell_type": "markdown",
   "id": "44a4df96",
   "metadata": {},
   "source": [
    "Then I did the same thing but for gangster movies."
   ]
  },
  {
   "cell_type": "code",
   "execution_count": 28,
   "id": "3a4e7de3",
   "metadata": {},
   "outputs": [
    {
     "data": {
      "image/png": "[encoded data removed]",
      "text/plain": [
       "<Figure size 640x480 with 1 Axes>"
      ]
     },
     "metadata": {},
     "output_type": "display_data"
    }
   ],
   "source": [
    "total_gangster_movies = titles_boolean_df.loc[titles_boolean_df['gangster_movies']==True]\n",
    "kde = sns.kdeplot(total_gangster_movies['imdb_score'], color = 'red', shade = True) \n",
    "plt.show()"
   ]
  }
 ],
 "metadata": {
  "kernelspec": {
   "display_name": "Python 3 (ipykernel)",
   "language": "python",
   "name": "python3"
  },
  "language_info": {
   "codemirror_mode": {
    "name": "ipython",
    "version": 3
   },
   "file_extension": ".py",
   "mimetype": "text/x-python",
   "name": "python",
   "nbconvert_exporter": "python",
   "pygments_lexer": "ipython3",
   "version": "3.9.13"
  }
 },
 "nbformat": 4,
 "nbformat_minor": 5
}
